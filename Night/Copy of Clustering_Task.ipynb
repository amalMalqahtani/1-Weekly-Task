{
 "cells": [
  {
   "cell_type": "markdown",
   "id": "f0946ef5",
   "metadata": {},
   "source": [
    "# Clustering and Dimensionality Reduction Exam\n",
    "Welcome to the weekly project on clustering and dimensionality reduction. You will be working with a dataset of traffic accidents.\n",
    "\n",
    "## Dataset\n",
    "The dataset that will be used in this task is `Traffic_Accidents.csv`\n",
    "\n",
    "## Instructions\n",
    "- Follow the steps outlined below.\n",
    "- Write your code in the empty code cells.\n",
    "- Comment on your code to explain your reasoning.\n",
    "\n",
    "## Dataset Overview\n",
    "The dataset contains information about traffic accidents, including location, weather conditions, road conditions, and more. Below are sample of these columns:\n",
    "\n",
    "* `Location_Easting_OSGR`: Easting coordinate of the accident location.\n",
    "* `Location_Northing_OSGR`: Northing coordinate of the accident location.\n",
    "* `Longitude`: Longitude of the accident site.\n",
    "* `Latitude`: Latitude of the accident site.\n",
    "* `Police_Force`: Identifier for the police force involved.\n",
    "* `Accident_Severity`: Severity of the accident.\n",
    "* `Number_of_Vehicles`: Number of vehicles involved in the accident.\n",
    "* `Number_of_Casualties`: Number of casualties in the accident.\n",
    "* `Date`: Date of the accident.\n",
    "* `Day_of_Week`: Day of the week when the accident occurred.\n",
    "* `Speed_limit`: Speed limit in the area where the accident occurred.\n",
    "* `Weather_Conditions`: Weather conditions at the time of the accident.\n",
    "* `Road_Surface_Conditions`: Condition of the road surface during the accident.\n",
    "* `Urban_or_Rural_Area`: Whether the accident occurred in an urban or rural area.\n",
    "* `Year`: Year when the accident was recorded.\n",
    "* Additional attributes related to road type, pedestrian crossing, light conditions, etc.\n",
    "\n",
    "## Goal\n",
    "The primary goal is to analyze the accidents based on their geographical location.\n"
   ]
  },
  {
   "cell_type": "markdown",
   "id": "e2d10a84",
   "metadata": {},
   "source": [
    "## Import Libraries"
   ]
  },
  {
   "cell_type": "code",
   "execution_count": 3,
   "id": "9ee4bcdb",
   "metadata": {},
   "outputs": [],
   "source": [
    "import pandas as pd\n",
    "import numpy as np\n",
    "import seaborn as sns\n",
    "import matplotlib.pyplot as plot\n",
    "from sklearn.model_selection import train_test_split\n",
    "from sklearn.metrics import classification_report\n",
    "from sklearn.ensemble import RandomForestClassifier\n",
    "from sklearn.preprocessing import OneHotEncoder ,LabelEncoder"
   ]
  },
  {
   "cell_type": "markdown",
   "id": "8a257dea",
   "metadata": {},
   "source": [
    "## Load the Data"
   ]
  },
  {
   "cell_type": "code",
   "execution_count": 4,
   "id": "2832846e",
   "metadata": {},
   "outputs": [
    {
     "data": {
      "text/html": [
       "<div>\n",
       "<style scoped>\n",
       "    .dataframe tbody tr th:only-of-type {\n",
       "        vertical-align: middle;\n",
       "    }\n",
       "\n",
       "    .dataframe tbody tr th {\n",
       "        vertical-align: top;\n",
       "    }\n",
       "\n",
       "    .dataframe thead th {\n",
       "        text-align: right;\n",
       "    }\n",
       "</style>\n",
       "<table border=\"1\" class=\"dataframe\">\n",
       "  <thead>\n",
       "    <tr style=\"text-align: right;\">\n",
       "      <th></th>\n",
       "      <th>Time</th>\n",
       "      <th>Date</th>\n",
       "      <th>Day of the week</th>\n",
       "      <th>CarCount</th>\n",
       "      <th>BikeCount</th>\n",
       "      <th>BusCount</th>\n",
       "      <th>TruckCount</th>\n",
       "      <th>Total</th>\n",
       "      <th>Traffic Situation</th>\n",
       "    </tr>\n",
       "  </thead>\n",
       "  <tbody>\n",
       "    <tr>\n",
       "      <th>0</th>\n",
       "      <td>12:00:00 AM</td>\n",
       "      <td>10</td>\n",
       "      <td>Tuesday</td>\n",
       "      <td>13</td>\n",
       "      <td>2</td>\n",
       "      <td>2</td>\n",
       "      <td>24</td>\n",
       "      <td>41</td>\n",
       "      <td>normal</td>\n",
       "    </tr>\n",
       "    <tr>\n",
       "      <th>1</th>\n",
       "      <td>12:15:00 AM</td>\n",
       "      <td>10</td>\n",
       "      <td>Tuesday</td>\n",
       "      <td>14</td>\n",
       "      <td>1</td>\n",
       "      <td>1</td>\n",
       "      <td>36</td>\n",
       "      <td>52</td>\n",
       "      <td>normal</td>\n",
       "    </tr>\n",
       "    <tr>\n",
       "      <th>2</th>\n",
       "      <td>12:30:00 AM</td>\n",
       "      <td>10</td>\n",
       "      <td>Tuesday</td>\n",
       "      <td>10</td>\n",
       "      <td>2</td>\n",
       "      <td>2</td>\n",
       "      <td>32</td>\n",
       "      <td>46</td>\n",
       "      <td>normal</td>\n",
       "    </tr>\n",
       "    <tr>\n",
       "      <th>3</th>\n",
       "      <td>12:45:00 AM</td>\n",
       "      <td>10</td>\n",
       "      <td>Tuesday</td>\n",
       "      <td>10</td>\n",
       "      <td>2</td>\n",
       "      <td>2</td>\n",
       "      <td>36</td>\n",
       "      <td>50</td>\n",
       "      <td>normal</td>\n",
       "    </tr>\n",
       "    <tr>\n",
       "      <th>4</th>\n",
       "      <td>1:00:00 AM</td>\n",
       "      <td>10</td>\n",
       "      <td>Tuesday</td>\n",
       "      <td>11</td>\n",
       "      <td>2</td>\n",
       "      <td>1</td>\n",
       "      <td>34</td>\n",
       "      <td>48</td>\n",
       "      <td>normal</td>\n",
       "    </tr>\n",
       "    <tr>\n",
       "      <th>...</th>\n",
       "      <td>...</td>\n",
       "      <td>...</td>\n",
       "      <td>...</td>\n",
       "      <td>...</td>\n",
       "      <td>...</td>\n",
       "      <td>...</td>\n",
       "      <td>...</td>\n",
       "      <td>...</td>\n",
       "      <td>...</td>\n",
       "    </tr>\n",
       "    <tr>\n",
       "      <th>6319</th>\n",
       "      <td>10:30:00 AM</td>\n",
       "      <td>9</td>\n",
       "      <td>Thursday</td>\n",
       "      <td>26</td>\n",
       "      <td>16</td>\n",
       "      <td>13</td>\n",
       "      <td>16</td>\n",
       "      <td>71</td>\n",
       "      <td>normal</td>\n",
       "    </tr>\n",
       "    <tr>\n",
       "      <th>6320</th>\n",
       "      <td>8:00:00 PM</td>\n",
       "      <td>9</td>\n",
       "      <td>Thursday</td>\n",
       "      <td>72</td>\n",
       "      <td>25</td>\n",
       "      <td>10</td>\n",
       "      <td>27</td>\n",
       "      <td>134</td>\n",
       "      <td>high</td>\n",
       "    </tr>\n",
       "    <tr>\n",
       "      <th>6321</th>\n",
       "      <td>9:00:00 PM</td>\n",
       "      <td>9</td>\n",
       "      <td>Thursday</td>\n",
       "      <td>107</td>\n",
       "      <td>13</td>\n",
       "      <td>14</td>\n",
       "      <td>28</td>\n",
       "      <td>162</td>\n",
       "      <td>high</td>\n",
       "    </tr>\n",
       "    <tr>\n",
       "      <th>6322</th>\n",
       "      <td>9:30:00 PM</td>\n",
       "      <td>9</td>\n",
       "      <td>Thursday</td>\n",
       "      <td>106</td>\n",
       "      <td>18</td>\n",
       "      <td>13</td>\n",
       "      <td>27</td>\n",
       "      <td>164</td>\n",
       "      <td>high</td>\n",
       "    </tr>\n",
       "    <tr>\n",
       "      <th>6323</th>\n",
       "      <td>11:45:00 PM</td>\n",
       "      <td>9</td>\n",
       "      <td>Thursday</td>\n",
       "      <td>14</td>\n",
       "      <td>3</td>\n",
       "      <td>1</td>\n",
       "      <td>15</td>\n",
       "      <td>33</td>\n",
       "      <td>normal</td>\n",
       "    </tr>\n",
       "  </tbody>\n",
       "</table>\n",
       "<p>6324 rows × 9 columns</p>\n",
       "</div>"
      ],
      "text/plain": [
       "             Time  Date Day of the week  CarCount  BikeCount  BusCount  \\\n",
       "0     12:00:00 AM    10         Tuesday        13          2         2   \n",
       "1     12:15:00 AM    10         Tuesday        14          1         1   \n",
       "2     12:30:00 AM    10         Tuesday        10          2         2   \n",
       "3     12:45:00 AM    10         Tuesday        10          2         2   \n",
       "4      1:00:00 AM    10         Tuesday        11          2         1   \n",
       "...           ...   ...             ...       ...        ...       ...   \n",
       "6319  10:30:00 AM     9        Thursday        26         16        13   \n",
       "6320   8:00:00 PM     9        Thursday        72         25        10   \n",
       "6321   9:00:00 PM     9        Thursday       107         13        14   \n",
       "6322   9:30:00 PM     9        Thursday       106         18        13   \n",
       "6323  11:45:00 PM     9        Thursday        14          3         1   \n",
       "\n",
       "      TruckCount  Total Traffic Situation  \n",
       "0             24     41            normal  \n",
       "1             36     52            normal  \n",
       "2             32     46            normal  \n",
       "3             36     50            normal  \n",
       "4             34     48            normal  \n",
       "...          ...    ...               ...  \n",
       "6319          16     71            normal  \n",
       "6320          27    134              high  \n",
       "6321          28    162              high  \n",
       "6322          27    164              high  \n",
       "6323          15     33            normal  \n",
       "\n",
       "[6324 rows x 9 columns]"
      ]
     },
     "execution_count": 4,
     "metadata": {},
     "output_type": "execute_result"
    }
   ],
   "source": [
    "df = pd.read_csv('Traffic_Jams.csv')\n",
    "df"
   ]
  },
  {
   "cell_type": "markdown",
   "id": "4106d3c7",
   "metadata": {},
   "source": [
    "## Exploratory Data Analysis (EDA)\n",
    "Perform EDA to understand the data better. This involves several steps to summarize the main characteristics, uncover patterns, and establish relationships:\n",
    "* Find the dataset information and observe the datatypes.\n",
    "* Check the shape of the data to understand its structure.\n",
    "* View the the data with various functions to get an initial sense of the data.\n",
    "* Perform summary statistics on the dataset to grasp central tendencies and variability.\n",
    "* Check for duplicated data.\n",
    "* Check for null values.\n",
    "\n",
    "And apply more if needed!\n"
   ]
  },
  {
   "cell_type": "code",
   "execution_count": 5,
   "id": "a49012c4",
   "metadata": {},
   "outputs": [
    {
     "data": {
      "text/html": [
       "<div>\n",
       "<style scoped>\n",
       "    .dataframe tbody tr th:only-of-type {\n",
       "        vertical-align: middle;\n",
       "    }\n",
       "\n",
       "    .dataframe tbody tr th {\n",
       "        vertical-align: top;\n",
       "    }\n",
       "\n",
       "    .dataframe thead th {\n",
       "        text-align: right;\n",
       "    }\n",
       "</style>\n",
       "<table border=\"1\" class=\"dataframe\">\n",
       "  <thead>\n",
       "    <tr style=\"text-align: right;\">\n",
       "      <th></th>\n",
       "      <th>Date</th>\n",
       "      <th>CarCount</th>\n",
       "      <th>BikeCount</th>\n",
       "      <th>BusCount</th>\n",
       "      <th>TruckCount</th>\n",
       "      <th>Total</th>\n",
       "    </tr>\n",
       "  </thead>\n",
       "  <tbody>\n",
       "    <tr>\n",
       "      <th>count</th>\n",
       "      <td>6324.000000</td>\n",
       "      <td>6324.000000</td>\n",
       "      <td>6324.000000</td>\n",
       "      <td>6324.000000</td>\n",
       "      <td>6324.000000</td>\n",
       "      <td>6324.000000</td>\n",
       "    </tr>\n",
       "    <tr>\n",
       "      <th>mean</th>\n",
       "      <td>16.043327</td>\n",
       "      <td>64.355629</td>\n",
       "      <td>12.013283</td>\n",
       "      <td>12.557875</td>\n",
       "      <td>18.658128</td>\n",
       "      <td>107.584915</td>\n",
       "    </tr>\n",
       "    <tr>\n",
       "      <th>std</th>\n",
       "      <td>8.956907</td>\n",
       "      <td>44.307088</td>\n",
       "      <td>11.363955</td>\n",
       "      <td>12.319831</td>\n",
       "      <td>10.724822</td>\n",
       "      <td>55.850784</td>\n",
       "    </tr>\n",
       "    <tr>\n",
       "      <th>min</th>\n",
       "      <td>1.000000</td>\n",
       "      <td>5.000000</td>\n",
       "      <td>0.000000</td>\n",
       "      <td>0.000000</td>\n",
       "      <td>0.000000</td>\n",
       "      <td>21.000000</td>\n",
       "    </tr>\n",
       "    <tr>\n",
       "      <th>25%</th>\n",
       "      <td>8.000000</td>\n",
       "      <td>18.000000</td>\n",
       "      <td>3.000000</td>\n",
       "      <td>1.000000</td>\n",
       "      <td>10.000000</td>\n",
       "      <td>53.000000</td>\n",
       "    </tr>\n",
       "    <tr>\n",
       "      <th>50%</th>\n",
       "      <td>16.000000</td>\n",
       "      <td>61.000000</td>\n",
       "      <td>9.000000</td>\n",
       "      <td>10.000000</td>\n",
       "      <td>18.000000</td>\n",
       "      <td>103.000000</td>\n",
       "    </tr>\n",
       "    <tr>\n",
       "      <th>75%</th>\n",
       "      <td>24.000000</td>\n",
       "      <td>101.250000</td>\n",
       "      <td>19.000000</td>\n",
       "      <td>20.000000</td>\n",
       "      <td>27.000000</td>\n",
       "      <td>151.000000</td>\n",
       "    </tr>\n",
       "    <tr>\n",
       "      <th>max</th>\n",
       "      <td>31.000000</td>\n",
       "      <td>180.000000</td>\n",
       "      <td>70.000000</td>\n",
       "      <td>50.000000</td>\n",
       "      <td>60.000000</td>\n",
       "      <td>279.000000</td>\n",
       "    </tr>\n",
       "  </tbody>\n",
       "</table>\n",
       "</div>"
      ],
      "text/plain": [
       "              Date     CarCount    BikeCount     BusCount   TruckCount  \\\n",
       "count  6324.000000  6324.000000  6324.000000  6324.000000  6324.000000   \n",
       "mean     16.043327    64.355629    12.013283    12.557875    18.658128   \n",
       "std       8.956907    44.307088    11.363955    12.319831    10.724822   \n",
       "min       1.000000     5.000000     0.000000     0.000000     0.000000   \n",
       "25%       8.000000    18.000000     3.000000     1.000000    10.000000   \n",
       "50%      16.000000    61.000000     9.000000    10.000000    18.000000   \n",
       "75%      24.000000   101.250000    19.000000    20.000000    27.000000   \n",
       "max      31.000000   180.000000    70.000000    50.000000    60.000000   \n",
       "\n",
       "             Total  \n",
       "count  6324.000000  \n",
       "mean    107.584915  \n",
       "std      55.850784  \n",
       "min      21.000000  \n",
       "25%      53.000000  \n",
       "50%     103.000000  \n",
       "75%     151.000000  \n",
       "max     279.000000  "
      ]
     },
     "execution_count": 5,
     "metadata": {},
     "output_type": "execute_result"
    }
   ],
   "source": [
    "df.describe()"
   ]
  },
  {
   "cell_type": "code",
   "execution_count": 6,
   "id": "73a155d0",
   "metadata": {},
   "outputs": [
    {
     "name": "stdout",
     "output_type": "stream",
     "text": [
      "<class 'pandas.core.frame.DataFrame'>\n",
      "RangeIndex: 6324 entries, 0 to 6323\n",
      "Data columns (total 9 columns):\n",
      " #   Column             Non-Null Count  Dtype \n",
      "---  ------             --------------  ----- \n",
      " 0   Time               6324 non-null   object\n",
      " 1   Date               6324 non-null   int64 \n",
      " 2   Day of the week    6324 non-null   object\n",
      " 3   CarCount           6324 non-null   int64 \n",
      " 4   BikeCount          6324 non-null   int64 \n",
      " 5   BusCount           6324 non-null   int64 \n",
      " 6   TruckCount         6324 non-null   int64 \n",
      " 7   Total              6324 non-null   int64 \n",
      " 8   Traffic Situation  6324 non-null   object\n",
      "dtypes: int64(6), object(3)\n",
      "memory usage: 444.8+ KB\n"
     ]
    }
   ],
   "source": [
    "df.info()"
   ]
  },
  {
   "cell_type": "code",
   "execution_count": 7,
   "id": "59df6439",
   "metadata": {},
   "outputs": [
    {
     "data": {
      "text/html": [
       "<div>\n",
       "<style scoped>\n",
       "    .dataframe tbody tr th:only-of-type {\n",
       "        vertical-align: middle;\n",
       "    }\n",
       "\n",
       "    .dataframe tbody tr th {\n",
       "        vertical-align: top;\n",
       "    }\n",
       "\n",
       "    .dataframe thead th {\n",
       "        text-align: right;\n",
       "    }\n",
       "</style>\n",
       "<table border=\"1\" class=\"dataframe\">\n",
       "  <thead>\n",
       "    <tr style=\"text-align: right;\">\n",
       "      <th></th>\n",
       "    </tr>\n",
       "  </thead>\n",
       "  <tbody>\n",
       "    <tr>\n",
       "      <th>9</th>\n",
       "    </tr>\n",
       "    <tr>\n",
       "      <th>10</th>\n",
       "    </tr>\n",
       "    <tr>\n",
       "      <th>11</th>\n",
       "    </tr>\n",
       "    <tr>\n",
       "      <th>12</th>\n",
       "    </tr>\n",
       "    <tr>\n",
       "      <th>13</th>\n",
       "    </tr>\n",
       "  </tbody>\n",
       "</table>\n",
       "</div>"
      ],
      "text/plain": [
       "Empty DataFrame\n",
       "Columns: []\n",
       "Index: [9, 10, 11, 12, 13]"
      ]
     },
     "execution_count": 7,
     "metadata": {},
     "output_type": "execute_result"
    }
   ],
   "source": [
    "df.iloc[9:14, 9:19]"
   ]
  },
  {
   "cell_type": "code",
   "execution_count": 8,
   "id": "9316303e",
   "metadata": {},
   "outputs": [
    {
     "data": {
      "text/html": [
       "<div>\n",
       "<style scoped>\n",
       "    .dataframe tbody tr th:only-of-type {\n",
       "        vertical-align: middle;\n",
       "    }\n",
       "\n",
       "    .dataframe tbody tr th {\n",
       "        vertical-align: top;\n",
       "    }\n",
       "\n",
       "    .dataframe thead th {\n",
       "        text-align: right;\n",
       "    }\n",
       "</style>\n",
       "<table border=\"1\" class=\"dataframe\">\n",
       "  <thead>\n",
       "    <tr style=\"text-align: right;\">\n",
       "      <th></th>\n",
       "      <th>Time</th>\n",
       "      <th>Date</th>\n",
       "      <th>Day of the week</th>\n",
       "      <th>CarCount</th>\n",
       "      <th>BikeCount</th>\n",
       "      <th>BusCount</th>\n",
       "      <th>TruckCount</th>\n",
       "      <th>Total</th>\n",
       "      <th>Traffic Situation</th>\n",
       "    </tr>\n",
       "  </thead>\n",
       "  <tbody>\n",
       "    <tr>\n",
       "      <th>6312</th>\n",
       "      <td>11:15:00 PM</td>\n",
       "      <td>8</td>\n",
       "      <td>Wednesday</td>\n",
       "      <td>18</td>\n",
       "      <td>5</td>\n",
       "      <td>1</td>\n",
       "      <td>15</td>\n",
       "      <td>39</td>\n",
       "      <td>normal</td>\n",
       "    </tr>\n",
       "    <tr>\n",
       "      <th>6313</th>\n",
       "      <td>11:45:00 PM</td>\n",
       "      <td>8</td>\n",
       "      <td>Wednesday</td>\n",
       "      <td>10</td>\n",
       "      <td>5</td>\n",
       "      <td>0</td>\n",
       "      <td>14</td>\n",
       "      <td>29</td>\n",
       "      <td>normal</td>\n",
       "    </tr>\n",
       "    <tr>\n",
       "      <th>6314</th>\n",
       "      <td>1:00:00 AM</td>\n",
       "      <td>9</td>\n",
       "      <td>Thursday</td>\n",
       "      <td>18</td>\n",
       "      <td>3</td>\n",
       "      <td>0</td>\n",
       "      <td>14</td>\n",
       "      <td>35</td>\n",
       "      <td>normal</td>\n",
       "    </tr>\n",
       "    <tr>\n",
       "      <th>6315</th>\n",
       "      <td>1:30:00 AM</td>\n",
       "      <td>9</td>\n",
       "      <td>Thursday</td>\n",
       "      <td>17</td>\n",
       "      <td>1</td>\n",
       "      <td>1</td>\n",
       "      <td>13</td>\n",
       "      <td>32</td>\n",
       "      <td>normal</td>\n",
       "    </tr>\n",
       "    <tr>\n",
       "      <th>6316</th>\n",
       "      <td>2:30:00 AM</td>\n",
       "      <td>9</td>\n",
       "      <td>Thursday</td>\n",
       "      <td>12</td>\n",
       "      <td>3</td>\n",
       "      <td>0</td>\n",
       "      <td>17</td>\n",
       "      <td>32</td>\n",
       "      <td>normal</td>\n",
       "    </tr>\n",
       "    <tr>\n",
       "      <th>6317</th>\n",
       "      <td>4:00:00 AM</td>\n",
       "      <td>9</td>\n",
       "      <td>Thursday</td>\n",
       "      <td>12</td>\n",
       "      <td>0</td>\n",
       "      <td>1</td>\n",
       "      <td>16</td>\n",
       "      <td>29</td>\n",
       "      <td>normal</td>\n",
       "    </tr>\n",
       "    <tr>\n",
       "      <th>6318</th>\n",
       "      <td>5:15:00 AM</td>\n",
       "      <td>9</td>\n",
       "      <td>Thursday</td>\n",
       "      <td>62</td>\n",
       "      <td>12</td>\n",
       "      <td>3</td>\n",
       "      <td>18</td>\n",
       "      <td>95</td>\n",
       "      <td>normal</td>\n",
       "    </tr>\n",
       "    <tr>\n",
       "      <th>6319</th>\n",
       "      <td>10:30:00 AM</td>\n",
       "      <td>9</td>\n",
       "      <td>Thursday</td>\n",
       "      <td>26</td>\n",
       "      <td>16</td>\n",
       "      <td>13</td>\n",
       "      <td>16</td>\n",
       "      <td>71</td>\n",
       "      <td>normal</td>\n",
       "    </tr>\n",
       "    <tr>\n",
       "      <th>6320</th>\n",
       "      <td>8:00:00 PM</td>\n",
       "      <td>9</td>\n",
       "      <td>Thursday</td>\n",
       "      <td>72</td>\n",
       "      <td>25</td>\n",
       "      <td>10</td>\n",
       "      <td>27</td>\n",
       "      <td>134</td>\n",
       "      <td>high</td>\n",
       "    </tr>\n",
       "    <tr>\n",
       "      <th>6321</th>\n",
       "      <td>9:00:00 PM</td>\n",
       "      <td>9</td>\n",
       "      <td>Thursday</td>\n",
       "      <td>107</td>\n",
       "      <td>13</td>\n",
       "      <td>14</td>\n",
       "      <td>28</td>\n",
       "      <td>162</td>\n",
       "      <td>high</td>\n",
       "    </tr>\n",
       "    <tr>\n",
       "      <th>6322</th>\n",
       "      <td>9:30:00 PM</td>\n",
       "      <td>9</td>\n",
       "      <td>Thursday</td>\n",
       "      <td>106</td>\n",
       "      <td>18</td>\n",
       "      <td>13</td>\n",
       "      <td>27</td>\n",
       "      <td>164</td>\n",
       "      <td>high</td>\n",
       "    </tr>\n",
       "    <tr>\n",
       "      <th>6323</th>\n",
       "      <td>11:45:00 PM</td>\n",
       "      <td>9</td>\n",
       "      <td>Thursday</td>\n",
       "      <td>14</td>\n",
       "      <td>3</td>\n",
       "      <td>1</td>\n",
       "      <td>15</td>\n",
       "      <td>33</td>\n",
       "      <td>normal</td>\n",
       "    </tr>\n",
       "  </tbody>\n",
       "</table>\n",
       "</div>"
      ],
      "text/plain": [
       "             Time  Date Day of the week  CarCount  BikeCount  BusCount  \\\n",
       "6312  11:15:00 PM     8       Wednesday        18          5         1   \n",
       "6313  11:45:00 PM     8       Wednesday        10          5         0   \n",
       "6314   1:00:00 AM     9        Thursday        18          3         0   \n",
       "6315   1:30:00 AM     9        Thursday        17          1         1   \n",
       "6316   2:30:00 AM     9        Thursday        12          3         0   \n",
       "6317   4:00:00 AM     9        Thursday        12          0         1   \n",
       "6318   5:15:00 AM     9        Thursday        62         12         3   \n",
       "6319  10:30:00 AM     9        Thursday        26         16        13   \n",
       "6320   8:00:00 PM     9        Thursday        72         25        10   \n",
       "6321   9:00:00 PM     9        Thursday       107         13        14   \n",
       "6322   9:30:00 PM     9        Thursday       106         18        13   \n",
       "6323  11:45:00 PM     9        Thursday        14          3         1   \n",
       "\n",
       "      TruckCount  Total Traffic Situation  \n",
       "6312          15     39            normal  \n",
       "6313          14     29            normal  \n",
       "6314          14     35            normal  \n",
       "6315          13     32            normal  \n",
       "6316          17     32            normal  \n",
       "6317          16     29            normal  \n",
       "6318          18     95            normal  \n",
       "6319          16     71            normal  \n",
       "6320          27    134              high  \n",
       "6321          28    162              high  \n",
       "6322          27    164              high  \n",
       "6323          15     33            normal  "
      ]
     },
     "execution_count": 8,
     "metadata": {},
     "output_type": "execute_result"
    }
   ],
   "source": [
    "df.tail(12)"
   ]
  },
  {
   "cell_type": "code",
   "execution_count": 9,
   "id": "11157ab1",
   "metadata": {},
   "outputs": [
    {
     "data": {
      "text/plain": [
       "0       False\n",
       "1       False\n",
       "2       False\n",
       "3       False\n",
       "4       False\n",
       "        ...  \n",
       "6319    False\n",
       "6320    False\n",
       "6321    False\n",
       "6322    False\n",
       "6323    False\n",
       "Length: 6324, dtype: bool"
      ]
     },
     "execution_count": 9,
     "metadata": {},
     "output_type": "execute_result"
    }
   ],
   "source": [
    "df.duplicated()"
   ]
  },
  {
   "cell_type": "code",
   "execution_count": 10,
   "id": "3592ef99",
   "metadata": {},
   "outputs": [
    {
     "data": {
      "text/plain": [
       "Time                 0\n",
       "Date                 0\n",
       "Day of the week      0\n",
       "CarCount             0\n",
       "BikeCount            0\n",
       "BusCount             0\n",
       "TruckCount           0\n",
       "Total                0\n",
       "Traffic Situation    0\n",
       "dtype: int64"
      ]
     },
     "execution_count": 10,
     "metadata": {},
     "output_type": "execute_result"
    }
   ],
   "source": [
    "df.isnull().sum()"
   ]
  },
  {
   "cell_type": "markdown",
   "id": "b0d002cd",
   "metadata": {},
   "source": [
    "## Data Preprocessing\n",
    "Do what you think you need such as:\n",
    "* Remove the outliers\n",
    "* Impute missing data\n",
    "* Scale the data\n",
    "* Reduce dimentions using PCA\n",
    "* Implement One-Hot Encoding for nominal categorical variables."
   ]
  },
  {
   "cell_type": "code",
   "execution_count": null,
   "id": "794ad825",
   "metadata": {},
   "outputs": [],
   "source": [
    "df['BikeCount'].unique()"
   ]
  },
  {
   "cell_type": "code",
   "execution_count": 13,
   "id": "ca5bbcf9",
   "metadata": {},
   "outputs": [
    {
     "data": {
      "text/plain": [
       "array([24, 36, 32, 34, 39, 27, 20, 26, 38, 37, 35, 10, 30, 18, 22, 23,  8,\n",
       "       11,  5,  6, 14, 12, 13, 17,  9, 25, 29, 31, 28, 19, 15, 33, 40, 21,\n",
       "        7, 16, 54, 59, 48, 57, 43, 58, 56, 53, 44, 52, 55, 41, 50, 49, 60,\n",
       "       42, 51, 47,  4,  3,  1,  0,  2], dtype=int64)"
      ]
     },
     "execution_count": 13,
     "metadata": {},
     "output_type": "execute_result"
    }
   ],
   "source": [
    "df['TruckCount'].unique()"
   ]
  },
  {
   "cell_type": "markdown",
   "id": "d3f6a968",
   "metadata": {},
   "source": [
    "## Feature Selection\n",
    "Select relevant features for clustering. Explain your choice of features.\n"
   ]
  },
  {
   "cell_type": "code",
   "execution_count": 21,
   "id": "7a2b7c47",
   "metadata": {},
   "outputs": [],
   "source": [
    "x= df['Traffic Situation']\n",
    "y= df['TruckCount']\n",
    "X_train, X_test, y_train, y_test = train_test_split(x, y, random_state=42)"
   ]
  },
  {
   "cell_type": "code",
   "execution_count": 24,
   "id": "bb0e6508",
   "metadata": {},
   "outputs": [
    {
     "data": {
      "text/plain": [
       "0       normal\n",
       "1       normal\n",
       "2       normal\n",
       "3       normal\n",
       "4       normal\n",
       "         ...  \n",
       "6319    normal\n",
       "6320      high\n",
       "6321      high\n",
       "6322      high\n",
       "6323    normal\n",
       "Name: Traffic Situation, Length: 6324, dtype: object"
      ]
     },
     "execution_count": 24,
     "metadata": {},
     "output_type": "execute_result"
    }
   ],
   "source": [
    "x"
   ]
  },
  {
   "cell_type": "code",
   "execution_count": 25,
   "id": "a4aabfdd",
   "metadata": {},
   "outputs": [
    {
     "data": {
      "text/plain": [
       "0       24\n",
       "1       36\n",
       "2       32\n",
       "3       36\n",
       "4       34\n",
       "        ..\n",
       "6319    16\n",
       "6320    27\n",
       "6321    28\n",
       "6322    27\n",
       "6323    15\n",
       "Name: TruckCount, Length: 6324, dtype: int64"
      ]
     },
     "execution_count": 25,
     "metadata": {},
     "output_type": "execute_result"
    }
   ],
   "source": [
    "y"
   ]
  },
  {
   "cell_type": "markdown",
   "id": "d0379d4e",
   "metadata": {},
   "source": [
    "## Data Visualization\n",
    "Visualize the data using appropriate plots to gain insights into the dataset. Using the following:\n",
    "- Scatter plot of accidents based on Longitude and Latitude."
   ]
  },
  {
   "cell_type": "code",
   "execution_count": 34,
   "id": "660247d7",
   "metadata": {},
   "outputs": [
    {
     "data": {
      "text/plain": [
       "<seaborn.axisgrid.FacetGrid at 0x1b020447580>"
      ]
     },
     "execution_count": 34,
     "metadata": {},
     "output_type": "execute_result"
    },
    {
     "data": {
      "image/png": "[encoded data removed]",
      "text/plain": [
       "<Figure size 500x500 with 1 Axes>"
      ]
     },
     "metadata": {},
     "output_type": "display_data"
    }
   ],
   "source": [
    "sns.displot('Traffic Situation')"
   ]
  },
  {
   "cell_type": "markdown",
   "id": "4d2f9b1d",
   "metadata": {},
   "source": [
    "## Clustering\n",
    "Apply K-Means clustering. Determine the optimal number of clusters and justify your choice.\n",
    "* Find the `n_clusters` parameter using the elbow method.\n",
    "* Train the model."
   ]
  },
  {
   "cell_type": "code",
   "execution_count": null,
   "id": "2d08303f",
   "metadata": {},
   "outputs": [],
   "source": [
    "from sklearn.cluster import KMeans\n",
    "kmeans_model = KMeans(n_clusters=3, random_state=1).fit(x)\n",
    "labels = kmeans_model.labels_"
   ]
  },
  {
   "cell_type": "markdown",
   "id": "70fb3a2a",
   "metadata": {},
   "source": [
    "## Evaluation\n",
    "Evaluate the clustering result using appropriate metrics.\n"
   ]
  },
  {
   "cell_type": "code",
   "execution_count": 27,
   "id": "70c261ca",
   "metadata": {},
   "outputs": [
    {
     "ename": "SyntaxError",
     "evalue": "invalid syntax (3570839954.py, line 2)",
     "output_type": "error",
     "traceback": [
      "\u001b[1;36m  Cell \u001b[1;32mIn[27], line 2\u001b[1;36m\u001b[0m\n\u001b[1;33m    scores = (x, y, cv=5)\u001b[0m\n\u001b[1;37m                      ^\u001b[0m\n\u001b[1;31mSyntaxError\u001b[0m\u001b[1;31m:\u001b[0m invalid syntax\n"
     ]
    }
   ],
   "source": [
    "from sklearn.model_selection import cross_val_score\n",
    "scores = (x, y, cv=5)\n",
    "scores.mean()\n"
   ]
  },
  {
   "cell_type": "markdown",
   "id": "061e005c",
   "metadata": {},
   "source": [
    "## Plot the data points with their predicted cluster center"
   ]
  },
  {
   "cell_type": "code",
   "execution_count": 20,
   "id": "10cc0ed5",
   "metadata": {},
   "outputs": [
    {
     "data": {
      "text/plain": [
       "<seaborn.axisgrid.PairGrid at 0x1b022c5f940>"
      ]
     },
     "execution_count": 20,
     "metadata": {},
     "output_type": "execute_result"
    },
    {
     "data": {
      "image/png": "[encoded data removed]",
      "text/plain": [
       "<Figure size 500x500 with 4 Axes>"
      ]
     },
     "metadata": {},
     "output_type": "display_data"
    }
   ],
   "source": [
    "g = sns.PairGrid(df, vars=[ 'BikeCount','CarCount'], hue=\"Total\")\n",
    "g.map(sns.scatterplot)"
   ]
  },
  {
   "cell_type": "markdown",
   "id": "5cdf3716",
   "metadata": {},
   "source": [
    "## Exam Questions\n",
    "* **Justify Your Feature Selection:**\n",
    "   - Which features did you choose for clustering and why?\n",
    "* **Number of Clusters Choices:**\n",
    "   - How did you determine the optimal number?\n",
    "* **Evaluation:**\n",
    "   - Which metrics did you use to evaluate the clustering results, and why?\n",
    "   - How do these metrics help in understanding the effectiveness of your clustering approach?\n",
    "* **Improvements and Recommendations:**\n",
    "   - Suggest any improvements or future work that could be done with this dataset. What other methods or algorithms would you consider applying?"
   ]
  }
 ],
 "metadata": {
  "kernelspec": {
   "display_name": "Python 3",
   "language": "python",
   "name": "python3"
  },
  "language_info": {
   "codemirror_mode": {
    "name": "ipython",
    "version": 3
   },
   "file_extension": ".py",
   "mimetype": "text/x-python",
   "name": "python",
   "nbconvert_exporter": "python",
   "pygments_lexer": "ipython3",
   "version": "3.9.8"
  }
 },
 "nbformat": 4,
 "nbformat_minor": 5
}
