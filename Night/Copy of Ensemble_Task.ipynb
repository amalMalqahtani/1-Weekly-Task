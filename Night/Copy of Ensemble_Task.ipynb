{
  "cells": [
    {
      "cell_type": "markdown",
      "id": "9ae4cc02",
      "metadata": {
        "id": "9ae4cc02"
      },
      "source": [
        "# Ensemble Methods Notebook\n",
        "Welcome to the weekly project on Ensemble Methods. You will be working with a dataset of traffic jams.\n",
        "\n",
        "## Dataset\n",
        "The dataset that will be used in this task is `Traffic_Jam.csv`\n",
        "\n",
        "## Instructions\n",
        "- Follow the steps outlined below.\n",
        "- Write your code in the empty code cells.\n",
        "- Comment on your code to explain your reasoning.\n",
        "\n",
        "## Dataset Overview\n",
        "This dataset contains traffic data including various counts of vehicle types across different times and days. Below are samples of these columns:\n",
        "\n",
        "* `Time`: The timestamp of the traffic count (in intervals).\n",
        "* `Date`: The day of the month the data was recorded.\n",
        "* `Day of the Week`: The day of the week for the recorded data.\n",
        "* `CarCount`: The number of cars counted during the time interval.\n",
        "* `BikeCount`: The number of bikes counted during the time interval.\n",
        "* `BusCount`: The number of buses counted during the time interval.\n",
        "* `TruckCount`: The number of trucks counted during the time interval.\n",
        "* `Total`: Total vehicles counted during the time interval.\n",
        "* `Traffic Situation`: Qualitative assessment of the traffic (e.g., normal, congested).\n",
        "\n",
        "## Goal\n",
        "The primary goal of this exam is to develop a predictive model capable of determining the `Traffic Situation` based on your choice of features provided in the dataset. Students are expected to apply ensemble methods to build and evaluate their models."
      ]
    },
    {
      "cell_type": "markdown",
      "id": "0243f5f9",
      "metadata": {
        "id": "0243f5f9"
      },
      "source": [
        "# Import Libraries"
      ]
    },
    {
      "cell_type": "code",
      "execution_count": 453,
      "id": "cd906704",
      "metadata": {
        "id": "cd906704"
      },
      "outputs": [],
      "source": [
        "import pandas as pd\n",
        "import numpy as np\n",
        "import seaborn as sns\n",
        "import matplotlib.pyplot as plot\n",
        "from sklearn.model_selection import train_test_split\n",
        "from sklearn.metrics import classification_report\n",
        "from sklearn.ensemble import RandomForestClassifier\n",
        "from sklearn.preprocessing import OneHotEncoder ,LabelEncoder"
      ]
    },
    {
      "cell_type": "markdown",
      "id": "3bc0f20e",
      "metadata": {
        "id": "3bc0f20e"
      },
      "source": [
        "# Load the dataset\n"
      ]
    },
    {
      "cell_type": "code",
      "execution_count": 454,
      "id": "47ecb305",
      "metadata": {
        "id": "47ecb305"
      },
      "outputs": [
        {
          "data": {
            "text/html": [
              "<div>\n",
              "<style scoped>\n",
              "    .dataframe tbody tr th:only-of-type {\n",
              "        vertical-align: middle;\n",
              "    }\n",
              "\n",
              "    .dataframe tbody tr th {\n",
              "        vertical-align: top;\n",
              "    }\n",
              "\n",
              "    .dataframe thead th {\n",
              "        text-align: right;\n",
              "    }\n",
              "</style>\n",
              "<table border=\"1\" class=\"dataframe\">\n",
              "  <thead>\n",
              "    <tr style=\"text-align: right;\">\n",
              "      <th></th>\n",
              "      <th>Time</th>\n",
              "      <th>Date</th>\n",
              "      <th>Day of the week</th>\n",
              "      <th>CarCount</th>\n",
              "      <th>BikeCount</th>\n",
              "      <th>BusCount</th>\n",
              "      <th>TruckCount</th>\n",
              "      <th>Total</th>\n",
              "      <th>Traffic Situation</th>\n",
              "    </tr>\n",
              "  </thead>\n",
              "  <tbody>\n",
              "    <tr>\n",
              "      <th>0</th>\n",
              "      <td>12:00:00 AM</td>\n",
              "      <td>10</td>\n",
              "      <td>Tuesday</td>\n",
              "      <td>13</td>\n",
              "      <td>2</td>\n",
              "      <td>2</td>\n",
              "      <td>24</td>\n",
              "      <td>41</td>\n",
              "      <td>normal</td>\n",
              "    </tr>\n",
              "    <tr>\n",
              "      <th>1</th>\n",
              "      <td>12:15:00 AM</td>\n",
              "      <td>10</td>\n",
              "      <td>Tuesday</td>\n",
              "      <td>14</td>\n",
              "      <td>1</td>\n",
              "      <td>1</td>\n",
              "      <td>36</td>\n",
              "      <td>52</td>\n",
              "      <td>normal</td>\n",
              "    </tr>\n",
              "    <tr>\n",
              "      <th>2</th>\n",
              "      <td>12:30:00 AM</td>\n",
              "      <td>10</td>\n",
              "      <td>Tuesday</td>\n",
              "      <td>10</td>\n",
              "      <td>2</td>\n",
              "      <td>2</td>\n",
              "      <td>32</td>\n",
              "      <td>46</td>\n",
              "      <td>normal</td>\n",
              "    </tr>\n",
              "    <tr>\n",
              "      <th>3</th>\n",
              "      <td>12:45:00 AM</td>\n",
              "      <td>10</td>\n",
              "      <td>Tuesday</td>\n",
              "      <td>10</td>\n",
              "      <td>2</td>\n",
              "      <td>2</td>\n",
              "      <td>36</td>\n",
              "      <td>50</td>\n",
              "      <td>normal</td>\n",
              "    </tr>\n",
              "    <tr>\n",
              "      <th>4</th>\n",
              "      <td>1:00:00 AM</td>\n",
              "      <td>10</td>\n",
              "      <td>Tuesday</td>\n",
              "      <td>11</td>\n",
              "      <td>2</td>\n",
              "      <td>1</td>\n",
              "      <td>34</td>\n",
              "      <td>48</td>\n",
              "      <td>normal</td>\n",
              "    </tr>\n",
              "    <tr>\n",
              "      <th>...</th>\n",
              "      <td>...</td>\n",
              "      <td>...</td>\n",
              "      <td>...</td>\n",
              "      <td>...</td>\n",
              "      <td>...</td>\n",
              "      <td>...</td>\n",
              "      <td>...</td>\n",
              "      <td>...</td>\n",
              "      <td>...</td>\n",
              "    </tr>\n",
              "    <tr>\n",
              "      <th>6319</th>\n",
              "      <td>10:30:00 AM</td>\n",
              "      <td>9</td>\n",
              "      <td>Thursday</td>\n",
              "      <td>26</td>\n",
              "      <td>16</td>\n",
              "      <td>13</td>\n",
              "      <td>16</td>\n",
              "      <td>71</td>\n",
              "      <td>normal</td>\n",
              "    </tr>\n",
              "    <tr>\n",
              "      <th>6320</th>\n",
              "      <td>8:00:00 PM</td>\n",
              "      <td>9</td>\n",
              "      <td>Thursday</td>\n",
              "      <td>72</td>\n",
              "      <td>25</td>\n",
              "      <td>10</td>\n",
              "      <td>27</td>\n",
              "      <td>134</td>\n",
              "      <td>high</td>\n",
              "    </tr>\n",
              "    <tr>\n",
              "      <th>6321</th>\n",
              "      <td>9:00:00 PM</td>\n",
              "      <td>9</td>\n",
              "      <td>Thursday</td>\n",
              "      <td>107</td>\n",
              "      <td>13</td>\n",
              "      <td>14</td>\n",
              "      <td>28</td>\n",
              "      <td>162</td>\n",
              "      <td>high</td>\n",
              "    </tr>\n",
              "    <tr>\n",
              "      <th>6322</th>\n",
              "      <td>9:30:00 PM</td>\n",
              "      <td>9</td>\n",
              "      <td>Thursday</td>\n",
              "      <td>106</td>\n",
              "      <td>18</td>\n",
              "      <td>13</td>\n",
              "      <td>27</td>\n",
              "      <td>164</td>\n",
              "      <td>high</td>\n",
              "    </tr>\n",
              "    <tr>\n",
              "      <th>6323</th>\n",
              "      <td>11:45:00 PM</td>\n",
              "      <td>9</td>\n",
              "      <td>Thursday</td>\n",
              "      <td>14</td>\n",
              "      <td>3</td>\n",
              "      <td>1</td>\n",
              "      <td>15</td>\n",
              "      <td>33</td>\n",
              "      <td>normal</td>\n",
              "    </tr>\n",
              "  </tbody>\n",
              "</table>\n",
              "<p>6324 rows × 9 columns</p>\n",
              "</div>"
            ],
            "text/plain": [
              "             Time  Date Day of the week  CarCount  BikeCount  BusCount  \\\n",
              "0     12:00:00 AM    10         Tuesday        13          2         2   \n",
              "1     12:15:00 AM    10         Tuesday        14          1         1   \n",
              "2     12:30:00 AM    10         Tuesday        10          2         2   \n",
              "3     12:45:00 AM    10         Tuesday        10          2         2   \n",
              "4      1:00:00 AM    10         Tuesday        11          2         1   \n",
              "...           ...   ...             ...       ...        ...       ...   \n",
              "6319  10:30:00 AM     9        Thursday        26         16        13   \n",
              "6320   8:00:00 PM     9        Thursday        72         25        10   \n",
              "6321   9:00:00 PM     9        Thursday       107         13        14   \n",
              "6322   9:30:00 PM     9        Thursday       106         18        13   \n",
              "6323  11:45:00 PM     9        Thursday        14          3         1   \n",
              "\n",
              "      TruckCount  Total Traffic Situation  \n",
              "0             24     41            normal  \n",
              "1             36     52            normal  \n",
              "2             32     46            normal  \n",
              "3             36     50            normal  \n",
              "4             34     48            normal  \n",
              "...          ...    ...               ...  \n",
              "6319          16     71            normal  \n",
              "6320          27    134              high  \n",
              "6321          28    162              high  \n",
              "6322          27    164              high  \n",
              "6323          15     33            normal  \n",
              "\n",
              "[6324 rows x 9 columns]"
            ]
          },
          "execution_count": 454,
          "metadata": {},
          "output_type": "execute_result"
        }
      ],
      "source": [
        "df = pd.read_csv('Traffic_Jams.csv')\n",
        "df"
      ]
    },
    {
      "cell_type": "markdown",
      "id": "41f23906",
      "metadata": {
        "id": "41f23906"
      },
      "source": [
        "# Exploratory Data Analysis (EDA)\n",
        "\n",
        "Below are some steps and visualizations to perform EDA on the dataset:\n",
        "\n",
        "1. **Summary Statistics**: Obtain summary statistics for the dataset to understand the central tendencies and dispersion of numerical features.describe()\n",
        "\n",
        "2. **Distribution of the Target Variable**: Analyze the distribution of the target variable `Traffic Situation` to understand the class balance.\n",
        "\n",
        "3. **Correlation Analysis**: Analyze correlations between features."
      ]
    },
    {
      "cell_type": "code",
      "execution_count": 455,
      "id": "140e99fb",
      "metadata": {
        "id": "140e99fb"
      },
      "outputs": [
        {
          "data": {
            "text/html": [
              "<div>\n",
              "<style scoped>\n",
              "    .dataframe tbody tr th:only-of-type {\n",
              "        vertical-align: middle;\n",
              "    }\n",
              "\n",
              "    .dataframe tbody tr th {\n",
              "        vertical-align: top;\n",
              "    }\n",
              "\n",
              "    .dataframe thead th {\n",
              "        text-align: right;\n",
              "    }\n",
              "</style>\n",
              "<table border=\"1\" class=\"dataframe\">\n",
              "  <thead>\n",
              "    <tr style=\"text-align: right;\">\n",
              "      <th></th>\n",
              "      <th>Date</th>\n",
              "      <th>CarCount</th>\n",
              "      <th>BikeCount</th>\n",
              "      <th>BusCount</th>\n",
              "      <th>TruckCount</th>\n",
              "      <th>Total</th>\n",
              "    </tr>\n",
              "  </thead>\n",
              "  <tbody>\n",
              "    <tr>\n",
              "      <th>count</th>\n",
              "      <td>6324.000000</td>\n",
              "      <td>6324.000000</td>\n",
              "      <td>6324.000000</td>\n",
              "      <td>6324.000000</td>\n",
              "      <td>6324.000000</td>\n",
              "      <td>6324.000000</td>\n",
              "    </tr>\n",
              "    <tr>\n",
              "      <th>mean</th>\n",
              "      <td>16.043327</td>\n",
              "      <td>64.355629</td>\n",
              "      <td>12.013283</td>\n",
              "      <td>12.557875</td>\n",
              "      <td>18.658128</td>\n",
              "      <td>107.584915</td>\n",
              "    </tr>\n",
              "    <tr>\n",
              "      <th>std</th>\n",
              "      <td>8.956907</td>\n",
              "      <td>44.307088</td>\n",
              "      <td>11.363955</td>\n",
              "      <td>12.319831</td>\n",
              "      <td>10.724822</td>\n",
              "      <td>55.850784</td>\n",
              "    </tr>\n",
              "    <tr>\n",
              "      <th>min</th>\n",
              "      <td>1.000000</td>\n",
              "      <td>5.000000</td>\n",
              "      <td>0.000000</td>\n",
              "      <td>0.000000</td>\n",
              "      <td>0.000000</td>\n",
              "      <td>21.000000</td>\n",
              "    </tr>\n",
              "    <tr>\n",
              "      <th>25%</th>\n",
              "      <td>8.000000</td>\n",
              "      <td>18.000000</td>\n",
              "      <td>3.000000</td>\n",
              "      <td>1.000000</td>\n",
              "      <td>10.000000</td>\n",
              "      <td>53.000000</td>\n",
              "    </tr>\n",
              "    <tr>\n",
              "      <th>50%</th>\n",
              "      <td>16.000000</td>\n",
              "      <td>61.000000</td>\n",
              "      <td>9.000000</td>\n",
              "      <td>10.000000</td>\n",
              "      <td>18.000000</td>\n",
              "      <td>103.000000</td>\n",
              "    </tr>\n",
              "    <tr>\n",
              "      <th>75%</th>\n",
              "      <td>24.000000</td>\n",
              "      <td>101.250000</td>\n",
              "      <td>19.000000</td>\n",
              "      <td>20.000000</td>\n",
              "      <td>27.000000</td>\n",
              "      <td>151.000000</td>\n",
              "    </tr>\n",
              "    <tr>\n",
              "      <th>max</th>\n",
              "      <td>31.000000</td>\n",
              "      <td>180.000000</td>\n",
              "      <td>70.000000</td>\n",
              "      <td>50.000000</td>\n",
              "      <td>60.000000</td>\n",
              "      <td>279.000000</td>\n",
              "    </tr>\n",
              "  </tbody>\n",
              "</table>\n",
              "</div>"
            ],
            "text/plain": [
              "              Date     CarCount    BikeCount     BusCount   TruckCount  \\\n",
              "count  6324.000000  6324.000000  6324.000000  6324.000000  6324.000000   \n",
              "mean     16.043327    64.355629    12.013283    12.557875    18.658128   \n",
              "std       8.956907    44.307088    11.363955    12.319831    10.724822   \n",
              "min       1.000000     5.000000     0.000000     0.000000     0.000000   \n",
              "25%       8.000000    18.000000     3.000000     1.000000    10.000000   \n",
              "50%      16.000000    61.000000     9.000000    10.000000    18.000000   \n",
              "75%      24.000000   101.250000    19.000000    20.000000    27.000000   \n",
              "max      31.000000   180.000000    70.000000    50.000000    60.000000   \n",
              "\n",
              "             Total  \n",
              "count  6324.000000  \n",
              "mean    107.584915  \n",
              "std      55.850784  \n",
              "min      21.000000  \n",
              "25%      53.000000  \n",
              "50%     103.000000  \n",
              "75%     151.000000  \n",
              "max     279.000000  "
            ]
          },
          "execution_count": 455,
          "metadata": {},
          "output_type": "execute_result"
        }
      ],
      "source": [
        "df.describe()"
      ]
    },
    {
      "cell_type": "code",
      "execution_count": 456,
      "id": "de72b772",
      "metadata": {},
      "outputs": [
        {
          "name": "stdout",
          "output_type": "stream",
          "text": [
            "<class 'pandas.core.frame.DataFrame'>\n",
            "RangeIndex: 6324 entries, 0 to 6323\n",
            "Data columns (total 9 columns):\n",
            " #   Column             Non-Null Count  Dtype \n",
            "---  ------             --------------  ----- \n",
            " 0   Time               6324 non-null   object\n",
            " 1   Date               6324 non-null   int64 \n",
            " 2   Day of the week    6324 non-null   object\n",
            " 3   CarCount           6324 non-null   int64 \n",
            " 4   BikeCount          6324 non-null   int64 \n",
            " 5   BusCount           6324 non-null   int64 \n",
            " 6   TruckCount         6324 non-null   int64 \n",
            " 7   Total              6324 non-null   int64 \n",
            " 8   Traffic Situation  6324 non-null   object\n",
            "dtypes: int64(6), object(3)\n",
            "memory usage: 444.8+ KB\n"
          ]
        }
      ],
      "source": [
        "df.info()"
      ]
    },
    {
      "cell_type": "code",
      "execution_count": 457,
      "id": "ca329eb0",
      "metadata": {},
      "outputs": [
        {
          "data": {
            "text/html": [
              "<div>\n",
              "<style scoped>\n",
              "    .dataframe tbody tr th:only-of-type {\n",
              "        vertical-align: middle;\n",
              "    }\n",
              "\n",
              "    .dataframe tbody tr th {\n",
              "        vertical-align: top;\n",
              "    }\n",
              "\n",
              "    .dataframe thead th {\n",
              "        text-align: right;\n",
              "    }\n",
              "</style>\n",
              "<table border=\"1\" class=\"dataframe\">\n",
              "  <thead>\n",
              "    <tr style=\"text-align: right;\">\n",
              "      <th></th>\n",
              "    </tr>\n",
              "  </thead>\n",
              "  <tbody>\n",
              "    <tr>\n",
              "      <th>9</th>\n",
              "    </tr>\n",
              "    <tr>\n",
              "      <th>10</th>\n",
              "    </tr>\n",
              "    <tr>\n",
              "      <th>11</th>\n",
              "    </tr>\n",
              "    <tr>\n",
              "      <th>12</th>\n",
              "    </tr>\n",
              "    <tr>\n",
              "      <th>13</th>\n",
              "    </tr>\n",
              "  </tbody>\n",
              "</table>\n",
              "</div>"
            ],
            "text/plain": [
              "Empty DataFrame\n",
              "Columns: []\n",
              "Index: [9, 10, 11, 12, 13]"
            ]
          },
          "execution_count": 457,
          "metadata": {},
          "output_type": "execute_result"
        }
      ],
      "source": [
        "df.iloc[9:14, 9:19]"
      ]
    },
    {
      "cell_type": "code",
      "execution_count": 458,
      "id": "b99c8b44",
      "metadata": {},
      "outputs": [
        {
          "data": {
            "text/plain": [
              "Time                 object\n",
              "Date                  int64\n",
              "Day of the week      object\n",
              "CarCount              int64\n",
              "BikeCount             int64\n",
              "BusCount              int64\n",
              "TruckCount            int64\n",
              "Total                 int64\n",
              "Traffic Situation    object\n",
              "dtype: object"
            ]
          },
          "execution_count": 458,
          "metadata": {},
          "output_type": "execute_result"
        }
      ],
      "source": [
        "df.dtypes"
      ]
    },
    {
      "cell_type": "code",
      "execution_count": 459,
      "id": "43f5427a",
      "metadata": {},
      "outputs": [
        {
          "data": {
            "text/html": [
              "<div>\n",
              "<style scoped>\n",
              "    .dataframe tbody tr th:only-of-type {\n",
              "        vertical-align: middle;\n",
              "    }\n",
              "\n",
              "    .dataframe tbody tr th {\n",
              "        vertical-align: top;\n",
              "    }\n",
              "\n",
              "    .dataframe thead th {\n",
              "        text-align: right;\n",
              "    }\n",
              "</style>\n",
              "<table border=\"1\" class=\"dataframe\">\n",
              "  <thead>\n",
              "    <tr style=\"text-align: right;\">\n",
              "      <th></th>\n",
              "      <th>Time</th>\n",
              "      <th>Date</th>\n",
              "      <th>Day of the week</th>\n",
              "      <th>CarCount</th>\n",
              "      <th>BikeCount</th>\n",
              "      <th>BusCount</th>\n",
              "      <th>TruckCount</th>\n",
              "      <th>Total</th>\n",
              "      <th>Traffic Situation</th>\n",
              "    </tr>\n",
              "  </thead>\n",
              "  <tbody>\n",
              "    <tr>\n",
              "      <th>0</th>\n",
              "      <td>12:00:00 AM</td>\n",
              "      <td>10</td>\n",
              "      <td>Tuesday</td>\n",
              "      <td>13</td>\n",
              "      <td>2</td>\n",
              "      <td>2</td>\n",
              "      <td>24</td>\n",
              "      <td>41</td>\n",
              "      <td>normal</td>\n",
              "    </tr>\n",
              "    <tr>\n",
              "      <th>1</th>\n",
              "      <td>12:15:00 AM</td>\n",
              "      <td>10</td>\n",
              "      <td>Tuesday</td>\n",
              "      <td>14</td>\n",
              "      <td>1</td>\n",
              "      <td>1</td>\n",
              "      <td>36</td>\n",
              "      <td>52</td>\n",
              "      <td>normal</td>\n",
              "    </tr>\n",
              "    <tr>\n",
              "      <th>2</th>\n",
              "      <td>12:30:00 AM</td>\n",
              "      <td>10</td>\n",
              "      <td>Tuesday</td>\n",
              "      <td>10</td>\n",
              "      <td>2</td>\n",
              "      <td>2</td>\n",
              "      <td>32</td>\n",
              "      <td>46</td>\n",
              "      <td>normal</td>\n",
              "    </tr>\n",
              "    <tr>\n",
              "      <th>3</th>\n",
              "      <td>12:45:00 AM</td>\n",
              "      <td>10</td>\n",
              "      <td>Tuesday</td>\n",
              "      <td>10</td>\n",
              "      <td>2</td>\n",
              "      <td>2</td>\n",
              "      <td>36</td>\n",
              "      <td>50</td>\n",
              "      <td>normal</td>\n",
              "    </tr>\n",
              "    <tr>\n",
              "      <th>4</th>\n",
              "      <td>1:00:00 AM</td>\n",
              "      <td>10</td>\n",
              "      <td>Tuesday</td>\n",
              "      <td>11</td>\n",
              "      <td>2</td>\n",
              "      <td>1</td>\n",
              "      <td>34</td>\n",
              "      <td>48</td>\n",
              "      <td>normal</td>\n",
              "    </tr>\n",
              "    <tr>\n",
              "      <th>5</th>\n",
              "      <td>1:15:00 AM</td>\n",
              "      <td>10</td>\n",
              "      <td>Tuesday</td>\n",
              "      <td>15</td>\n",
              "      <td>1</td>\n",
              "      <td>1</td>\n",
              "      <td>39</td>\n",
              "      <td>56</td>\n",
              "      <td>normal</td>\n",
              "    </tr>\n",
              "    <tr>\n",
              "      <th>6</th>\n",
              "      <td>1:30:00 AM</td>\n",
              "      <td>10</td>\n",
              "      <td>Tuesday</td>\n",
              "      <td>14</td>\n",
              "      <td>2</td>\n",
              "      <td>2</td>\n",
              "      <td>27</td>\n",
              "      <td>45</td>\n",
              "      <td>normal</td>\n",
              "    </tr>\n",
              "    <tr>\n",
              "      <th>7</th>\n",
              "      <td>1:45:00 AM</td>\n",
              "      <td>10</td>\n",
              "      <td>Tuesday</td>\n",
              "      <td>13</td>\n",
              "      <td>2</td>\n",
              "      <td>1</td>\n",
              "      <td>20</td>\n",
              "      <td>36</td>\n",
              "      <td>normal</td>\n",
              "    </tr>\n",
              "    <tr>\n",
              "      <th>8</th>\n",
              "      <td>2:00:00 AM</td>\n",
              "      <td>10</td>\n",
              "      <td>Tuesday</td>\n",
              "      <td>7</td>\n",
              "      <td>0</td>\n",
              "      <td>0</td>\n",
              "      <td>26</td>\n",
              "      <td>33</td>\n",
              "      <td>normal</td>\n",
              "    </tr>\n",
              "    <tr>\n",
              "      <th>9</th>\n",
              "      <td>2:15:00 AM</td>\n",
              "      <td>10</td>\n",
              "      <td>Tuesday</td>\n",
              "      <td>13</td>\n",
              "      <td>0</td>\n",
              "      <td>0</td>\n",
              "      <td>34</td>\n",
              "      <td>47</td>\n",
              "      <td>normal</td>\n",
              "    </tr>\n",
              "  </tbody>\n",
              "</table>\n",
              "</div>"
            ],
            "text/plain": [
              "          Time  Date Day of the week  CarCount  BikeCount  BusCount  \\\n",
              "0  12:00:00 AM    10         Tuesday        13          2         2   \n",
              "1  12:15:00 AM    10         Tuesday        14          1         1   \n",
              "2  12:30:00 AM    10         Tuesday        10          2         2   \n",
              "3  12:45:00 AM    10         Tuesday        10          2         2   \n",
              "4   1:00:00 AM    10         Tuesday        11          2         1   \n",
              "5   1:15:00 AM    10         Tuesday        15          1         1   \n",
              "6   1:30:00 AM    10         Tuesday        14          2         2   \n",
              "7   1:45:00 AM    10         Tuesday        13          2         1   \n",
              "8   2:00:00 AM    10         Tuesday         7          0         0   \n",
              "9   2:15:00 AM    10         Tuesday        13          0         0   \n",
              "\n",
              "   TruckCount  Total Traffic Situation  \n",
              "0          24     41            normal  \n",
              "1          36     52            normal  \n",
              "2          32     46            normal  \n",
              "3          36     50            normal  \n",
              "4          34     48            normal  \n",
              "5          39     56            normal  \n",
              "6          27     45            normal  \n",
              "7          20     36            normal  \n",
              "8          26     33            normal  \n",
              "9          34     47            normal  "
            ]
          },
          "execution_count": 459,
          "metadata": {},
          "output_type": "execute_result"
        }
      ],
      "source": [
        "df.head(10)"
      ]
    },
    {
      "cell_type": "code",
      "execution_count": 460,
      "id": "3bdca736",
      "metadata": {},
      "outputs": [
        {
          "data": {
            "text/html": [
              "<div>\n",
              "<style scoped>\n",
              "    .dataframe tbody tr th:only-of-type {\n",
              "        vertical-align: middle;\n",
              "    }\n",
              "\n",
              "    .dataframe tbody tr th {\n",
              "        vertical-align: top;\n",
              "    }\n",
              "\n",
              "    .dataframe thead th {\n",
              "        text-align: right;\n",
              "    }\n",
              "</style>\n",
              "<table border=\"1\" class=\"dataframe\">\n",
              "  <thead>\n",
              "    <tr style=\"text-align: right;\">\n",
              "      <th></th>\n",
              "      <th>Time</th>\n",
              "      <th>Date</th>\n",
              "      <th>Day of the week</th>\n",
              "      <th>CarCount</th>\n",
              "      <th>BikeCount</th>\n",
              "      <th>BusCount</th>\n",
              "      <th>TruckCount</th>\n",
              "      <th>Total</th>\n",
              "      <th>Traffic Situation</th>\n",
              "    </tr>\n",
              "  </thead>\n",
              "  <tbody>\n",
              "    <tr>\n",
              "      <th>6312</th>\n",
              "      <td>11:15:00 PM</td>\n",
              "      <td>8</td>\n",
              "      <td>Wednesday</td>\n",
              "      <td>18</td>\n",
              "      <td>5</td>\n",
              "      <td>1</td>\n",
              "      <td>15</td>\n",
              "      <td>39</td>\n",
              "      <td>normal</td>\n",
              "    </tr>\n",
              "    <tr>\n",
              "      <th>6313</th>\n",
              "      <td>11:45:00 PM</td>\n",
              "      <td>8</td>\n",
              "      <td>Wednesday</td>\n",
              "      <td>10</td>\n",
              "      <td>5</td>\n",
              "      <td>0</td>\n",
              "      <td>14</td>\n",
              "      <td>29</td>\n",
              "      <td>normal</td>\n",
              "    </tr>\n",
              "    <tr>\n",
              "      <th>6314</th>\n",
              "      <td>1:00:00 AM</td>\n",
              "      <td>9</td>\n",
              "      <td>Thursday</td>\n",
              "      <td>18</td>\n",
              "      <td>3</td>\n",
              "      <td>0</td>\n",
              "      <td>14</td>\n",
              "      <td>35</td>\n",
              "      <td>normal</td>\n",
              "    </tr>\n",
              "    <tr>\n",
              "      <th>6315</th>\n",
              "      <td>1:30:00 AM</td>\n",
              "      <td>9</td>\n",
              "      <td>Thursday</td>\n",
              "      <td>17</td>\n",
              "      <td>1</td>\n",
              "      <td>1</td>\n",
              "      <td>13</td>\n",
              "      <td>32</td>\n",
              "      <td>normal</td>\n",
              "    </tr>\n",
              "    <tr>\n",
              "      <th>6316</th>\n",
              "      <td>2:30:00 AM</td>\n",
              "      <td>9</td>\n",
              "      <td>Thursday</td>\n",
              "      <td>12</td>\n",
              "      <td>3</td>\n",
              "      <td>0</td>\n",
              "      <td>17</td>\n",
              "      <td>32</td>\n",
              "      <td>normal</td>\n",
              "    </tr>\n",
              "    <tr>\n",
              "      <th>6317</th>\n",
              "      <td>4:00:00 AM</td>\n",
              "      <td>9</td>\n",
              "      <td>Thursday</td>\n",
              "      <td>12</td>\n",
              "      <td>0</td>\n",
              "      <td>1</td>\n",
              "      <td>16</td>\n",
              "      <td>29</td>\n",
              "      <td>normal</td>\n",
              "    </tr>\n",
              "    <tr>\n",
              "      <th>6318</th>\n",
              "      <td>5:15:00 AM</td>\n",
              "      <td>9</td>\n",
              "      <td>Thursday</td>\n",
              "      <td>62</td>\n",
              "      <td>12</td>\n",
              "      <td>3</td>\n",
              "      <td>18</td>\n",
              "      <td>95</td>\n",
              "      <td>normal</td>\n",
              "    </tr>\n",
              "    <tr>\n",
              "      <th>6319</th>\n",
              "      <td>10:30:00 AM</td>\n",
              "      <td>9</td>\n",
              "      <td>Thursday</td>\n",
              "      <td>26</td>\n",
              "      <td>16</td>\n",
              "      <td>13</td>\n",
              "      <td>16</td>\n",
              "      <td>71</td>\n",
              "      <td>normal</td>\n",
              "    </tr>\n",
              "    <tr>\n",
              "      <th>6320</th>\n",
              "      <td>8:00:00 PM</td>\n",
              "      <td>9</td>\n",
              "      <td>Thursday</td>\n",
              "      <td>72</td>\n",
              "      <td>25</td>\n",
              "      <td>10</td>\n",
              "      <td>27</td>\n",
              "      <td>134</td>\n",
              "      <td>high</td>\n",
              "    </tr>\n",
              "    <tr>\n",
              "      <th>6321</th>\n",
              "      <td>9:00:00 PM</td>\n",
              "      <td>9</td>\n",
              "      <td>Thursday</td>\n",
              "      <td>107</td>\n",
              "      <td>13</td>\n",
              "      <td>14</td>\n",
              "      <td>28</td>\n",
              "      <td>162</td>\n",
              "      <td>high</td>\n",
              "    </tr>\n",
              "    <tr>\n",
              "      <th>6322</th>\n",
              "      <td>9:30:00 PM</td>\n",
              "      <td>9</td>\n",
              "      <td>Thursday</td>\n",
              "      <td>106</td>\n",
              "      <td>18</td>\n",
              "      <td>13</td>\n",
              "      <td>27</td>\n",
              "      <td>164</td>\n",
              "      <td>high</td>\n",
              "    </tr>\n",
              "    <tr>\n",
              "      <th>6323</th>\n",
              "      <td>11:45:00 PM</td>\n",
              "      <td>9</td>\n",
              "      <td>Thursday</td>\n",
              "      <td>14</td>\n",
              "      <td>3</td>\n",
              "      <td>1</td>\n",
              "      <td>15</td>\n",
              "      <td>33</td>\n",
              "      <td>normal</td>\n",
              "    </tr>\n",
              "  </tbody>\n",
              "</table>\n",
              "</div>"
            ],
            "text/plain": [
              "             Time  Date Day of the week  CarCount  BikeCount  BusCount  \\\n",
              "6312  11:15:00 PM     8       Wednesday        18          5         1   \n",
              "6313  11:45:00 PM     8       Wednesday        10          5         0   \n",
              "6314   1:00:00 AM     9        Thursday        18          3         0   \n",
              "6315   1:30:00 AM     9        Thursday        17          1         1   \n",
              "6316   2:30:00 AM     9        Thursday        12          3         0   \n",
              "6317   4:00:00 AM     9        Thursday        12          0         1   \n",
              "6318   5:15:00 AM     9        Thursday        62         12         3   \n",
              "6319  10:30:00 AM     9        Thursday        26         16        13   \n",
              "6320   8:00:00 PM     9        Thursday        72         25        10   \n",
              "6321   9:00:00 PM     9        Thursday       107         13        14   \n",
              "6322   9:30:00 PM     9        Thursday       106         18        13   \n",
              "6323  11:45:00 PM     9        Thursday        14          3         1   \n",
              "\n",
              "      TruckCount  Total Traffic Situation  \n",
              "6312          15     39            normal  \n",
              "6313          14     29            normal  \n",
              "6314          14     35            normal  \n",
              "6315          13     32            normal  \n",
              "6316          17     32            normal  \n",
              "6317          16     29            normal  \n",
              "6318          18     95            normal  \n",
              "6319          16     71            normal  \n",
              "6320          27    134              high  \n",
              "6321          28    162              high  \n",
              "6322          27    164              high  \n",
              "6323          15     33            normal  "
            ]
          },
          "execution_count": 460,
          "metadata": {},
          "output_type": "execute_result"
        }
      ],
      "source": [
        "df.tail(12)"
      ]
    },
    {
      "cell_type": "markdown",
      "id": "c0e69164",
      "metadata": {
        "id": "c0e69164"
      },
      "source": [
        "# Preprocess the data (if necessary)\n",
        "\n",
        "Before building models, it's crucial to preprocess the data to ensure it's clean and suitable for training. Follow these steps to prepare the dataset:\n",
        "\n",
        "1. **Check for Missing Values**: Determine if there are any missing values in the dataset and handle them appropriately. You can choose to fill them with a mean, median, or mode value, or drop rows with missing values if necessary.\n",
        "\n",
        "2. **Encode Categorical Variables**: Convert categorical variables into numerical representations. This can be done using techniques such as one-hot encoding and lable-encoder.\n",
        "\n",
        "3. **Feature Scaling**: Standardize or Normalize numerical features if needed to have a consistent scale.\n",
        "\n",
        "4. **Remove Unnecessary Columns**: Drop any columns that are not relevant for modeling."
      ]
    },
    {
      "cell_type": "code",
      "execution_count": 462,
      "id": "5aeffa4d",
      "metadata": {},
      "outputs": [
        {
          "data": {
            "text/plain": [
              "array(['normal', 'low', 'heavy', 'high'], dtype=object)"
            ]
          },
          "execution_count": 462,
          "metadata": {},
          "output_type": "execute_result"
        }
      ],
      "source": [
        "df['Traffic Situation'].unique()"
      ]
    },
    {
      "cell_type": "code",
      "execution_count": null,
      "id": "0c682e77",
      "metadata": {},
      "outputs": [
        {
          "data": {
            "text/plain": [
              "array([381880., 413520., 516260., ..., 460040., 511930., 509970.])"
            ]
          },
          "execution_count": 406,
          "metadata": {},
          "output_type": "execute_result"
        }
      ],
      "source": [
        "df['Location_Easting_OSGR'].unique()"
      ]
    },
    {
      "cell_type": "code",
      "execution_count": null,
      "id": "19e7fd14",
      "metadata": {},
      "outputs": [
        {
          "data": {
            "text/plain": [
              "array([-2.268891, -1.802453, -0.327073, ..., -0.178465, -1.591972,\n",
              "       -0.334114])"
            ]
          },
          "execution_count": 407,
          "metadata": {},
          "output_type": "execute_result"
        }
      ],
      "source": [
        "df['Longitude'].unique()"
      ]
    },
    {
      "cell_type": "code",
      "execution_count": null,
      "id": "02dfe83f",
      "metadata": {},
      "outputs": [
        {
          "data": {
            "text/plain": [
              "array([21, 20,  1, 14, 31,  4,  3, 30,  5,  6, 13, 22, 48,  7, 12, 16, 10,\n",
              "       11, 32, 23, 17], dtype=int64)"
            ]
          },
          "execution_count": 408,
          "metadata": {},
          "output_type": "execute_result"
        }
      ],
      "source": [
        "df['Police_Force'].unique()"
      ]
    },
    {
      "cell_type": "code",
      "execution_count": null,
      "id": "eaa009b8",
      "metadata": {},
      "outputs": [
        {
          "data": {
            "text/plain": [
              "array([3, 2, 1], dtype=int64)"
            ]
          },
          "execution_count": 409,
          "metadata": {},
          "output_type": "execute_result"
        }
      ],
      "source": [
        "df['Accident_Severity'].unique()"
      ]
    },
    {
      "cell_type": "code",
      "execution_count": null,
      "id": "597a0fb4",
      "metadata": {},
      "outputs": [
        {
          "data": {
            "text/plain": [
              "array([ 2.,  1.,  3., nan,  4.,  5.,  8.,  6.,  7.,  9., 18., 11., 10.])"
            ]
          },
          "execution_count": 410,
          "metadata": {},
          "output_type": "execute_result"
        }
      ],
      "source": [
        "df['Number_of_Vehicles'].unique()"
      ]
    },
    {
      "cell_type": "code",
      "execution_count": null,
      "id": "9f718796",
      "metadata": {},
      "outputs": [
        {
          "data": {
            "text/plain": [
              "array([ 2,  1,  3,  7,  5,  4,  6,  8,  9, 10, 11, 13, 14, 23, 17, 16],\n",
              "      dtype=int64)"
            ]
          },
          "execution_count": 411,
          "metadata": {},
          "output_type": "execute_result"
        }
      ],
      "source": [
        "df['Number_of_Casualties'].unique()"
      ]
    },
    {
      "cell_type": "code",
      "execution_count": null,
      "id": "ec128055",
      "metadata": {},
      "outputs": [
        {
          "data": {
            "text/plain": [
              "array(['24/04/2005', '08/10/2005', '02/04/2005', '26/05/2005',\n",
              "       '11/01/2005', '17/11/2005', '06/10/2005', '19/12/2005',\n",
              "       '07/10/2005', '17/03/2005', '31/05/2005', '05/05/2005',\n",
              "       '04/06/2005', '23/11/2005', '10/04/2005', '23/08/2005',\n",
              "       '31/03/2005', '12/12/2005', '17/12/2005', '14/11/2005',\n",
              "       '23/12/2005', '19/02/2005', '18/03/2005', '05/07/2005',\n",
              "       '25/05/2005', '24/02/2005', '29/09/2005', '05/01/2005',\n",
              "       '21/06/2005', '24/08/2005', '21/07/2005', '16/07/2005',\n",
              "       '13/09/2005', '02/08/2005', '15/12/2005', '04/05/2005',\n",
              "       '06/05/2005', '11/03/2005', '14/04/2005', '01/09/2005',\n",
              "       '16/02/2005', '27/07/2005', '12/04/2005', '24/03/2005',\n",
              "       '04/10/2005', '25/07/2005', '28/06/2005', '09/10/2005',\n",
              "       '05/09/2005', '01/06/2005', '06/06/2005', '29/11/2005',\n",
              "       '08/11/2005', '16/11/2005', '29/08/2005', '27/08/2005',\n",
              "       '09/11/2005', '10/07/2005', '24/12/2005', '20/12/2005',\n",
              "       '29/06/2005', '18/04/2005', '10/09/2005', '13/12/2005',\n",
              "       '24/11/2005', '24/10/2005', '12/09/2005', '21/11/2005',\n",
              "       '18/07/2005', '21/02/2005', '11/11/2005', '15/03/2005',\n",
              "       '30/05/2005', '30/03/2005', '09/05/2005', '28/07/2005',\n",
              "       '21/03/2005', '23/04/2005', '19/03/2005', '30/07/2005',\n",
              "       '31/08/2005', '13/05/2005', '25/10/2005', '06/03/2005',\n",
              "       '16/03/2005', '20/05/2005', '27/01/2005', '05/08/2005',\n",
              "       '06/12/2005', '07/05/2005', '02/11/2005', '07/03/2005',\n",
              "       '22/08/2005', '04/12/2005', '04/08/2005', '22/07/2005',\n",
              "       '22/03/2005', '20/06/2005', '27/06/2005', '27/05/2005',\n",
              "       '27/12/2005', '08/09/2005', '25/09/2005', '15/06/2005',\n",
              "       '11/02/2005', '06/02/2005', '19/01/2005', '16/08/2005',\n",
              "       '04/07/2005', '29/10/2005', '08/07/2005', '11/09/2005',\n",
              "       '26/08/2005', '22/11/2005', '21/05/2005', '20/08/2005',\n",
              "       '18/09/2005', '16/01/2005', '01/03/2005', '20/02/2005',\n",
              "       '21/12/2005', '17/05/2005', '17/02/2005', '12/10/2005',\n",
              "       '02/01/2005', '29/07/2005', '28/05/2005', '13/08/2005',\n",
              "       '22/01/2005', '29/04/2005', '15/05/2005', '11/10/2005',\n",
              "       '24/09/2005', '26/12/2005', '17/01/2005', '13/10/2005',\n",
              "       '15/02/2005', '08/05/2005', '07/09/2005', '02/12/2005',\n",
              "       '30/12/2005', '02/09/2005', '05/12/2005', '08/04/2005',\n",
              "       '18/06/2005', '12/06/2005', '30/06/2005', '10/01/2005',\n",
              "       '20/09/2005', '26/03/2005', '28/04/2005', '28/02/2005',\n",
              "       '14/01/2005', '20/10/2005', '15/01/2005', '04/11/2005',\n",
              "       '13/11/2005', '03/11/2005', '15/10/2005', '31/01/2005',\n",
              "       '25/01/2005', '03/05/2005', '06/07/2005', '29/01/2005',\n",
              "       '12/02/2005', '13/04/2005', '22/12/2005', '26/02/2005',\n",
              "       '08/06/2005', '03/09/2005', '08/03/2005', '23/03/2005',\n",
              "       '23/06/2005', '07/08/2005', '24/05/2005', '03/07/2005',\n",
              "       '11/06/2005', '12/11/2005', '20/01/2005', '31/10/2005',\n",
              "       '26/11/2005', '11/07/2005', '04/03/2005', '01/04/2005',\n",
              "       '02/05/2005', '07/01/2005', '18/08/2005', '22/06/2005',\n",
              "       '23/09/2005', '03/04/2005', '15/09/2005', '01/02/2005',\n",
              "       '23/02/2005', '07/02/2005', '03/10/2005', '06/09/2005',\n",
              "       '10/10/2005', '31/12/2005', '26/04/2005', '18/02/2005',\n",
              "       '09/07/2005', '06/08/2005', '11/05/2005', '04/09/2005',\n",
              "       '20/04/2005', '18/10/2005', '30/09/2005', '22/10/2005',\n",
              "       '05/06/2005', '18/01/2005', '28/12/2005', '17/08/2005',\n",
              "       '05/10/2005', '27/11/2005', '17/04/2005', '06/01/2005',\n",
              "       '12/05/2005', '16/05/2005', '19/11/2005', '04/02/2005',\n",
              "       '09/12/2005', '14/12/2005', '07/11/2005', '13/02/2005',\n",
              "       '23/10/2005', '11/04/2005', '27/09/2005', '30/04/2005',\n",
              "       '05/11/2005', '08/08/2005', '01/10/2005', '16/09/2005',\n",
              "       '28/01/2005', '14/05/2005', '30/10/2005', '27/03/2005',\n",
              "       '15/04/2005', '04/04/2005', '25/04/2005', '17/09/2005',\n",
              "       '14/06/2005', '10/12/2005', '17/06/2005', '01/12/2005',\n",
              "       '15/11/2005', '09/03/2005', '18/12/2005', '16/10/2005',\n",
              "       '15/07/2005', '28/10/2005', '10/06/2005', '17/10/2005',\n",
              "       '24/06/2005', '31/07/2005', '30/08/2005', '19/08/2005',\n",
              "       '06/04/2005', '23/05/2005', '14/07/2005', '19/07/2005',\n",
              "       '12/07/2005', '11/12/2005', '13/01/2005', '09/06/2005',\n",
              "       '30/01/2005', '26/09/2005', '03/03/2005', '07/07/2005',\n",
              "       '07/06/2005', '16/04/2005', '13/06/2005', '25/06/2005',\n",
              "       '08/02/2005', '22/09/2005', '03/12/2005', '10/11/2005',\n",
              "       '08/12/2005', '21/08/2005', '02/06/2005', '21/04/2005',\n",
              "       '07/04/2005', '28/03/2005', '29/05/2005', '26/06/2005',\n",
              "       '13/03/2005', '01/11/2005', '22/05/2005', '12/03/2005',\n",
              "       '28/11/2005', '22/02/2005', '12/01/2005', '21/09/2005',\n",
              "       '01/08/2005', '21/01/2005', '01/07/2005', '25/08/2005',\n",
              "       '24/07/2005', '21/10/2005', '30/11/2005', '15/08/2005',\n",
              "       '04/01/2005', '13/07/2005', '02/10/2005', '03/02/2005',\n",
              "       '19/05/2005', '10/05/2005', '18/11/2005', '07/12/2005',\n",
              "       '27/04/2005', '01/05/2005', '05/03/2005', '20/11/2005',\n",
              "       '10/02/2005', '02/02/2005', '23/01/2005', '29/03/2005',\n",
              "       '25/03/2005', '06/11/2005', '03/01/2005', '03/06/2005',\n",
              "       '14/09/2005', '19/10/2005', '23/07/2005', '10/03/2005',\n",
              "       '26/01/2005', '03/08/2005', '14/03/2005', '19/06/2005',\n",
              "       '24/01/2005', '11/08/2005', '22/04/2005', '10/08/2005',\n",
              "       '16/12/2005', '27/10/2005', '17/07/2005', '09/02/2005',\n",
              "       '28/09/2005', '09/09/2005', '27/02/2005', '05/02/2005',\n",
              "       '05/04/2005', '08/01/2005', '28/08/2005', '09/04/2005',\n",
              "       '26/10/2005', '14/10/2005', '02/03/2005', '09/08/2005',\n",
              "       '19/04/2005', '29/12/2005', '14/08/2005', '12/08/2005',\n",
              "       '25/02/2005', '25/11/2005', '20/07/2005', '26/07/2005',\n",
              "       '01/01/2005', '19/09/2005', '09/01/2005', '20/03/2005',\n",
              "       '25/12/2005', '02/07/2005', '18/05/2005', '14/02/2005',\n",
              "       '16/06/2005', '24'], dtype=object)"
            ]
          },
          "execution_count": 412,
          "metadata": {},
          "output_type": "execute_result"
        }
      ],
      "source": [
        "df['Date'].unique()"
      ]
    },
    {
      "cell_type": "code",
      "execution_count": null,
      "id": "b4bf8438",
      "metadata": {},
      "outputs": [
        {
          "data": {
            "text/plain": [
              "array([ 1.,  7.,  5.,  3.,  2.,  6.,  4., nan])"
            ]
          },
          "execution_count": 413,
          "metadata": {},
          "output_type": "execute_result"
        }
      ],
      "source": [
        "df['Day_of_Week'].unique()"
      ]
    },
    {
      "cell_type": "code",
      "execution_count": null,
      "id": "a0bd6125",
      "metadata": {},
      "outputs": [
        {
          "data": {
            "text/plain": [
              "array(['16:39', '14:25', '10:20', ..., '04:06', '01:14', '04:48'],\n",
              "      dtype=object)"
            ]
          },
          "execution_count": 414,
          "metadata": {},
          "output_type": "execute_result"
        }
      ],
      "source": [
        "df['Time'].unique()"
      ]
    },
    {
      "cell_type": "code",
      "execution_count": null,
      "id": "b610e29e",
      "metadata": {},
      "outputs": [
        {
          "data": {
            "text/plain": [
              "array([254., 300.,  25., 251., 210., 346., 305.,  75.,  62., 303., 329.,\n",
              "         8.,  92., 106., 109.,  82., 203.,   1., 277., 204., 570.,   5.,\n",
              "       307., 107., 309.,  73., 206., 257., 101., 126., 186., 232., 146.,\n",
              "       150., 102.,  61., 306.,  74., 258.,  20.,  21.,  14., 279., 162.,\n",
              "       215., 276., 200., 253., 341.,  24.,  27., 323.,  28.,  22., 354.,\n",
              "        31., 124., 120., 292.,  18., 290., 320., 128.,  23.,  72.,  79.,\n",
              "       285., 293., 123., 147., 345.,   6.,  71., 302.,  32.,  30., 356.,\n",
              "       228.,  80., 280., 351.,   2.,  95., 245., 184., 114., 189., 202.,\n",
              "       278., 104.,  76.,  91., 100.,  64., 355.,  93., 347.,   9.,   7.,\n",
              "        11., 241.,  19., 148., 282., 112.,   4., 233., 127.,  65., 273.,\n",
              "       182., 250., 161., 240., 110.,  84.,  10., 255., 122., 180., 165.,\n",
              "       281.,  15.,  90.,  13.,  16., 149.,  26.,  70., 213., 231.,  17.,\n",
              "       143., 144.,  85., 294., 168., 325., 160., 256., 142.,   3., 121.,\n",
              "       342.,  83., 340., 211., 324., 243., 187., 350., 344., 343., 322.,\n",
              "       164., 145., 284., 321., 252., 327.,  12., 163.,  63., 291.,  29.,\n",
              "       181.,  77., 328., 353., 185., 283.,  60., 270., 140., 141., 274.,\n",
              "       352.,  57., 166.,  nan])"
            ]
          },
          "execution_count": 415,
          "metadata": {},
          "output_type": "execute_result"
        }
      ],
      "source": [
        "df['Local_Authority_(District)'].unique()"
      ]
    },
    {
      "cell_type": "code",
      "execution_count": null,
      "id": "3ddf2644",
      "metadata": {},
      "outputs": [
        {
          "data": {
            "text/plain": [
              "array(['E10000028', 'E08000025', 'E09000018', 'E08000016', 'E06000018',\n",
              "       'E08000028', 'E10000017', 'E10000006', 'E08000027', 'E10000007',\n",
              "       'E09000028', 'E08000013', 'E08000005', 'E08000007', 'E08000034',\n",
              "       'E09000033', 'E10000034', 'E08000035', 'E09000001', 'E09000030',\n",
              "       'E08000030', 'E08000006', 'E08000031', 'E08000036', 'E06000021',\n",
              "       'E08000002', 'E06000049', 'E10000023', 'E06000013', 'E08000020',\n",
              "       'E08000024', 'E08000003', 'E08000029', 'E09000008', 'E09000029',\n",
              "       'E09000026', 'E06000051', 'E06000047', 'E08000019', 'E08000032',\n",
              "       'E10000024', 'E09000027', 'E09000009', 'E06000015', 'E09000005',\n",
              "       'E09000024', 'E10000019', 'E09000014', 'E06000006', 'E06000050',\n",
              "       'E10000031', 'E09000004', 'E06000007', 'E09000021', 'E06000019',\n",
              "       'E08000021', 'E09000011', 'E06000009', 'E08000026', 'E09000010',\n",
              "       'E09000003', 'E06000010', 'E09000007', 'E08000015', 'E06000004',\n",
              "       'E08000010', 'E06000014', 'E08000033', 'E08000004', 'E08000012',\n",
              "       'E08000001', 'E08000014', 'E09000022', 'E09000023', 'E09000013',\n",
              "       'E06000003', 'E09000006', 'E08000022', 'E08000009', 'E09000012',\n",
              "       'E06000012', 'E06000005', 'E06000001', 'E08000008', 'E09000032',\n",
              "       'E09000016', 'E08000011', 'E09000031', 'E09000002', 'E08000023',\n",
              "       'E09000017', 'E06000008', 'E08000018', 'E06000011', 'E09000025',\n",
              "       'E06000048', 'E09000019', 'E08000017', 'E06000002', 'E06000020',\n",
              "       'E09000020', 'E09000015', 'EHEATHROW', nan], dtype=object)"
            ]
          },
          "execution_count": 416,
          "metadata": {},
          "output_type": "execute_result"
        }
      ],
      "source": [
        "df['Local_Authority_(Highway)'].unique()"
      ]
    },
    {
      "cell_type": "code",
      "execution_count": null,
      "id": "15f95ec9",
      "metadata": {},
      "outputs": [
        {
          "data": {
            "text/plain": [
              "array([ 5.,  3.,  4.,  6.,  1.,  2., nan])"
            ]
          },
          "execution_count": 417,
          "metadata": {},
          "output_type": "execute_result"
        }
      ],
      "source": [
        "df['1st_Road_Class'].unique()"
      ]
    },
    {
      "cell_type": "code",
      "execution_count": null,
      "id": "b2e0793b",
      "metadata": {},
      "outputs": [
        {
          "data": {
            "text/plain": [
              "array(['Single carriageway', 'Slip road', 'Dual carriageway',\n",
              "       'One way street', 'Roundabout', 'Unknown', nan], dtype=object)"
            ]
          },
          "execution_count": 418,
          "metadata": {},
          "output_type": "execute_result"
        }
      ],
      "source": [
        "df['Road_Type'].unique()"
      ]
    },
    {
      "cell_type": "code",
      "execution_count": null,
      "id": "d23e46ac",
      "metadata": {},
      "outputs": [
        {
          "data": {
            "text/plain": [
              "array([60., 20., 30., 40., 70., 50., nan])"
            ]
          },
          "execution_count": 419,
          "metadata": {},
          "output_type": "execute_result"
        }
      ],
      "source": [
        "df['Speed_limit'].unique()"
      ]
    },
    {
      "cell_type": "code",
      "execution_count": null,
      "id": "434e8de6",
      "metadata": {},
      "outputs": [
        {
          "data": {
            "text/plain": [
              "0       -1.0\n",
              "1       -1.0\n",
              "2        4.0\n",
              "3       -1.0\n",
              "4       -1.0\n",
              "        ... \n",
              "51995    5.0\n",
              "51996    3.0\n",
              "51997    6.0\n",
              "51998    6.0\n",
              "51999    6.0\n",
              "Name: 2nd_Road_Class, Length: 52000, dtype: float64"
            ]
          },
          "execution_count": 420,
          "metadata": {},
          "output_type": "execute_result"
        }
      ],
      "source": [
        "df['2nd_Road_Class']"
      ]
    },
    {
      "cell_type": "code",
      "execution_count": null,
      "id": "d7443670",
      "metadata": {},
      "outputs": [
        {
          "data": {
            "text/plain": [
              "0"
            ]
          },
          "execution_count": 421,
          "metadata": {},
          "output_type": "execute_result"
        }
      ],
      "source": [
        "df.duplicated().sum()"
      ]
    },
    {
      "cell_type": "code",
      "execution_count": null,
      "id": "14c75397",
      "metadata": {},
      "outputs": [
        {
          "data": {
            "text/plain": [
              "0        24/04/2005\n",
              "1        08/10/2005\n",
              "2        02/04/2005\n",
              "3        26/05/2005\n",
              "4        11/01/2005\n",
              "            ...    \n",
              "51995    10/11/2005\n",
              "51996    17/08/2005\n",
              "51997    22/08/2005\n",
              "51998    18/12/2005\n",
              "51999    18/04/2005\n",
              "Name: Date, Length: 52000, dtype: string"
            ]
          },
          "execution_count": 422,
          "metadata": {},
          "output_type": "execute_result"
        }
      ],
      "source": [
        "df[\"Date\"].convert_dtypes(int)"
      ]
    },
    {
      "cell_type": "code",
      "execution_count": null,
      "id": "acd9763d",
      "metadata": {},
      "outputs": [
        {
          "data": {
            "text/plain": [
              "<bound method Series.sum of count          52000\n",
              "unique           366\n",
              "top       21/10/2005\n",
              "freq             249\n",
              "Name: Date, dtype: object>"
            ]
          },
          "execution_count": 423,
          "metadata": {},
          "output_type": "execute_result"
        }
      ],
      "source": [
        "df[\"Date\"].describe().sum"
      ]
    },
    {
      "cell_type": "code",
      "execution_count": null,
      "id": "2e4dc5e3",
      "metadata": {},
      "outputs": [
        {
          "data": {
            "text/html": [
              "<div>\n",
              "<style scoped>\n",
              "    .dataframe tbody tr th:only-of-type {\n",
              "        vertical-align: middle;\n",
              "    }\n",
              "\n",
              "    .dataframe tbody tr th {\n",
              "        vertical-align: top;\n",
              "    }\n",
              "\n",
              "    .dataframe thead th {\n",
              "        text-align: right;\n",
              "    }\n",
              "</style>\n",
              "<table border=\"1\" class=\"dataframe\">\n",
              "  <thead>\n",
              "    <tr style=\"text-align: right;\">\n",
              "      <th></th>\n",
              "      <th>Unnamed: 0</th>\n",
              "      <th>Accident_Index</th>\n",
              "      <th>Location_Easting_OSGR</th>\n",
              "      <th>Location_Northing_OSGR</th>\n",
              "      <th>Longitude</th>\n",
              "      <th>Latitude</th>\n",
              "      <th>Police_Force</th>\n",
              "      <th>Accident_Severity</th>\n",
              "      <th>Number_of_Vehicles</th>\n",
              "      <th>Number_of_Casualties</th>\n",
              "      <th>...</th>\n",
              "      <th>2nd_Road_Number</th>\n",
              "      <th>Pedestrian_Crossing-Human_Control</th>\n",
              "      <th>Pedestrian_Crossing-Physical_Facilities</th>\n",
              "      <th>Light_Conditions</th>\n",
              "      <th>Weather_Conditions</th>\n",
              "      <th>Road_Surface_Conditions</th>\n",
              "      <th>Urban_or_Rural_Area</th>\n",
              "      <th>Did_Police_Officer_Attend_Scene_of_Accident</th>\n",
              "      <th>LSOA_of_Accident_Location</th>\n",
              "      <th>Year</th>\n",
              "    </tr>\n",
              "  </thead>\n",
              "  <tbody>\n",
              "    <tr>\n",
              "      <th>10</th>\n",
              "      <td>32790</td>\n",
              "      <td>200504EL05010</td>\n",
              "      <td>374680.0</td>\n",
              "      <td>428440.0</td>\n",
              "      <td>-2.385472</td>\n",
              "      <td>53.751703</td>\n",
              "      <td>4</td>\n",
              "      <td>3</td>\n",
              "      <td>2.0</td>\n",
              "      <td>2</td>\n",
              "      <td>...</td>\n",
              "      <td>0.0</td>\n",
              "      <td>None within 50 metres</td>\n",
              "      <td>No physical crossing within 50 meters</td>\n",
              "      <td>Daylight: Street light present</td>\n",
              "      <td>Unknown</td>\n",
              "      <td>Dry</td>\n",
              "      <td>1.0</td>\n",
              "      <td>Yes</td>\n",
              "      <td>E01025047</td>\n",
              "      <td>2005.0</td>\n",
              "    </tr>\n",
              "    <tr>\n",
              "      <th>16</th>\n",
              "      <td>46997</td>\n",
              "      <td>200506P923358</td>\n",
              "      <td>393070.0</td>\n",
              "      <td>412270.0</td>\n",
              "      <td>-2.106214</td>\n",
              "      <td>53.606935</td>\n",
              "      <td>6</td>\n",
              "      <td>3</td>\n",
              "      <td>2.0</td>\n",
              "      <td>1</td>\n",
              "      <td>...</td>\n",
              "      <td>0.0</td>\n",
              "      <td>None within 50 metres</td>\n",
              "      <td>No physical crossing within 50 meters</td>\n",
              "      <td>Darkness: Street lights present and lit</td>\n",
              "      <td>Fine without high winds</td>\n",
              "      <td>Wet/Damp</td>\n",
              "      <td>1.0</td>\n",
              "      <td>Yes</td>\n",
              "      <td>E01005558</td>\n",
              "      <td>2005.0</td>\n",
              "    </tr>\n",
              "    <tr>\n",
              "      <th>94</th>\n",
              "      <td>33599</td>\n",
              "      <td>200504FB05042</td>\n",
              "      <td>383060.0</td>\n",
              "      <td>432380.0</td>\n",
              "      <td>-2.258605</td>\n",
              "      <td>53.787458</td>\n",
              "      <td>4</td>\n",
              "      <td>3</td>\n",
              "      <td>NaN</td>\n",
              "      <td>1</td>\n",
              "      <td>...</td>\n",
              "      <td>0.0</td>\n",
              "      <td>None within 50 metres</td>\n",
              "      <td>No physical crossing within 50 meters</td>\n",
              "      <td>Daylight: Street light present</td>\n",
              "      <td>Fine without high winds</td>\n",
              "      <td>Dry</td>\n",
              "      <td>1.0</td>\n",
              "      <td>Yes</td>\n",
              "      <td>E01024907</td>\n",
              "      <td>2005.0</td>\n",
              "    </tr>\n",
              "    <tr>\n",
              "      <th>131</th>\n",
              "      <td>76857</td>\n",
              "      <td>2005170S11135</td>\n",
              "      <td>444920.0</td>\n",
              "      <td>521850.0</td>\n",
              "      <td>-1.306366</td>\n",
              "      <td>54.589866</td>\n",
              "      <td>17</td>\n",
              "      <td>3</td>\n",
              "      <td>2.0</td>\n",
              "      <td>1</td>\n",
              "      <td>...</td>\n",
              "      <td>0.0</td>\n",
              "      <td>None within 50 metres</td>\n",
              "      <td>No physical crossing within 50 meters</td>\n",
              "      <td>Daylight: Street light present</td>\n",
              "      <td>Fine without high winds</td>\n",
              "      <td>Dry</td>\n",
              "      <td>1.0</td>\n",
              "      <td>Yes</td>\n",
              "      <td>E01012261</td>\n",
              "      <td>2005.0</td>\n",
              "    </tr>\n",
              "    <tr>\n",
              "      <th>183</th>\n",
              "      <td>76188</td>\n",
              "      <td>2005170L13045</td>\n",
              "      <td>457050.0</td>\n",
              "      <td>512990.0</td>\n",
              "      <td>-1.120388</td>\n",
              "      <td>54.509029</td>\n",
              "      <td>17</td>\n",
              "      <td>3</td>\n",
              "      <td>2.0</td>\n",
              "      <td>3</td>\n",
              "      <td>...</td>\n",
              "      <td>0.0</td>\n",
              "      <td>None within 50 metres</td>\n",
              "      <td>No physical crossing within 50 meters</td>\n",
              "      <td>Darkness: Street lights present and lit</td>\n",
              "      <td>Fine without high winds</td>\n",
              "      <td>Wet/Damp</td>\n",
              "      <td>2.0</td>\n",
              "      <td>Yes</td>\n",
              "      <td>E01012124</td>\n",
              "      <td>2005.0</td>\n",
              "    </tr>\n",
              "    <tr>\n",
              "      <th>...</th>\n",
              "      <td>...</td>\n",
              "      <td>...</td>\n",
              "      <td>...</td>\n",
              "      <td>...</td>\n",
              "      <td>...</td>\n",
              "      <td>...</td>\n",
              "      <td>...</td>\n",
              "      <td>...</td>\n",
              "      <td>...</td>\n",
              "      <td>...</td>\n",
              "      <td>...</td>\n",
              "      <td>...</td>\n",
              "      <td>...</td>\n",
              "      <td>...</td>\n",
              "      <td>...</td>\n",
              "      <td>...</td>\n",
              "      <td>...</td>\n",
              "      <td>...</td>\n",
              "      <td>...</td>\n",
              "      <td>...</td>\n",
              "      <td>...</td>\n",
              "    </tr>\n",
              "    <tr>\n",
              "      <th>51707</th>\n",
              "      <td>79349</td>\n",
              "      <td>200520E099201</td>\n",
              "      <td>404600.0</td>\n",
              "      <td>283060.0</td>\n",
              "      <td>-1.933759</td>\n",
              "      <td>52.445455</td>\n",
              "      <td>20</td>\n",
              "      <td>3</td>\n",
              "      <td>2.0</td>\n",
              "      <td>1</td>\n",
              "      <td>...</td>\n",
              "      <td>0.0</td>\n",
              "      <td>None within 50 metres</td>\n",
              "      <td>Pedestrian phase at traffic signal junction</td>\n",
              "      <td>Daylight: Street light present</td>\n",
              "      <td>Fine without high winds</td>\n",
              "      <td>Dry</td>\n",
              "      <td>1.0</td>\n",
              "      <td>No</td>\n",
              "      <td>E01009285</td>\n",
              "      <td>2005.0</td>\n",
              "    </tr>\n",
              "    <tr>\n",
              "      <th>51778</th>\n",
              "      <td>23957</td>\n",
              "      <td>200501YE80463</td>\n",
              "      <td>534380.0</td>\n",
              "      <td>196270.0</td>\n",
              "      <td>-0.059044</td>\n",
              "      <td>51.649121</td>\n",
              "      <td>1</td>\n",
              "      <td>3</td>\n",
              "      <td>1.0</td>\n",
              "      <td>2</td>\n",
              "      <td>...</td>\n",
              "      <td>0.0</td>\n",
              "      <td>None within 50 metres</td>\n",
              "      <td>No physical crossing within 50 meters</td>\n",
              "      <td>Daylight: Street light present</td>\n",
              "      <td>Fine without high winds</td>\n",
              "      <td>Dry</td>\n",
              "      <td>1.0</td>\n",
              "      <td>Yes</td>\n",
              "      <td>E01001511</td>\n",
              "      <td>2005.0</td>\n",
              "    </tr>\n",
              "    <tr>\n",
              "      <th>51812</th>\n",
              "      <td>99280</td>\n",
              "      <td>20053102A0332</td>\n",
              "      <td>453570.0</td>\n",
              "      <td>349260.0</td>\n",
              "      <td>-1.202521</td>\n",
              "      <td>53.037921</td>\n",
              "      <td>31</td>\n",
              "      <td>3</td>\n",
              "      <td>2.0</td>\n",
              "      <td>1</td>\n",
              "      <td>...</td>\n",
              "      <td>6009.0</td>\n",
              "      <td>None within 50 metres</td>\n",
              "      <td>Pedestrian phase at traffic signal junction</td>\n",
              "      <td>Darkness: Street lights present and lit</td>\n",
              "      <td>Fine without high winds</td>\n",
              "      <td>Wet/Damp</td>\n",
              "      <td>1.0</td>\n",
              "      <td>No</td>\n",
              "      <td>E01027933</td>\n",
              "      <td>2005.0</td>\n",
              "    </tr>\n",
              "    <tr>\n",
              "      <th>51832</th>\n",
              "      <td>45925</td>\n",
              "      <td>200506N032062</td>\n",
              "      <td>379250.0</td>\n",
              "      <td>411540.0</td>\n",
              "      <td>-2.315031</td>\n",
              "      <td>53.600006</td>\n",
              "      <td>6</td>\n",
              "      <td>2</td>\n",
              "      <td>2.0</td>\n",
              "      <td>2</td>\n",
              "      <td>...</td>\n",
              "      <td>0.0</td>\n",
              "      <td>None within 50 metres</td>\n",
              "      <td>No physical crossing within 50 meters</td>\n",
              "      <td>Daylight: Street light present</td>\n",
              "      <td>Fine without high winds</td>\n",
              "      <td>Dry</td>\n",
              "      <td>1.0</td>\n",
              "      <td>Yes</td>\n",
              "      <td>E01004962</td>\n",
              "      <td>2005.0</td>\n",
              "    </tr>\n",
              "    <tr>\n",
              "      <th>51939</th>\n",
              "      <td>52552</td>\n",
              "      <td>2.01E+12</td>\n",
              "      <td>436670.0</td>\n",
              "      <td>566570.0</td>\n",
              "      <td>-1.428388</td>\n",
              "      <td>54.992393</td>\n",
              "      <td>10</td>\n",
              "      <td>2</td>\n",
              "      <td>1.0</td>\n",
              "      <td>1</td>\n",
              "      <td>...</td>\n",
              "      <td>236.0</td>\n",
              "      <td>None within 50 metres</td>\n",
              "      <td>non-junction pedestrian crossing</td>\n",
              "      <td>Darkness: Street lights present and lit</td>\n",
              "      <td>Fine without high winds</td>\n",
              "      <td>Dry</td>\n",
              "      <td>1.0</td>\n",
              "      <td>Yes</td>\n",
              "      <td>E01008668</td>\n",
              "      <td>2005.0</td>\n",
              "    </tr>\n",
              "  </tbody>\n",
              "</table>\n",
              "<p>1280 rows × 30 columns</p>\n",
              "</div>"
            ],
            "text/plain": [
              "       Unnamed: 0 Accident_Index  Location_Easting_OSGR  \\\n",
              "10          32790  200504EL05010               374680.0   \n",
              "16          46997  200506P923358               393070.0   \n",
              "94          33599  200504FB05042               383060.0   \n",
              "131         76857  2005170S11135               444920.0   \n",
              "183         76188  2005170L13045               457050.0   \n",
              "...           ...            ...                    ...   \n",
              "51707       79349  200520E099201               404600.0   \n",
              "51778       23957  200501YE80463               534380.0   \n",
              "51812       99280  20053102A0332               453570.0   \n",
              "51832       45925  200506N032062               379250.0   \n",
              "51939       52552       2.01E+12               436670.0   \n",
              "\n",
              "       Location_Northing_OSGR  Longitude   Latitude  Police_Force  \\\n",
              "10                   428440.0  -2.385472  53.751703             4   \n",
              "16                   412270.0  -2.106214  53.606935             6   \n",
              "94                   432380.0  -2.258605  53.787458             4   \n",
              "131                  521850.0  -1.306366  54.589866            17   \n",
              "183                  512990.0  -1.120388  54.509029            17   \n",
              "...                       ...        ...        ...           ...   \n",
              "51707                283060.0  -1.933759  52.445455            20   \n",
              "51778                196270.0  -0.059044  51.649121             1   \n",
              "51812                349260.0  -1.202521  53.037921            31   \n",
              "51832                411540.0  -2.315031  53.600006             6   \n",
              "51939                566570.0  -1.428388  54.992393            10   \n",
              "\n",
              "       Accident_Severity  Number_of_Vehicles  Number_of_Casualties  ...  \\\n",
              "10                     3                 2.0                     2  ...   \n",
              "16                     3                 2.0                     1  ...   \n",
              "94                     3                 NaN                     1  ...   \n",
              "131                    3                 2.0                     1  ...   \n",
              "183                    3                 2.0                     3  ...   \n",
              "...                  ...                 ...                   ...  ...   \n",
              "51707                  3                 2.0                     1  ...   \n",
              "51778                  3                 1.0                     2  ...   \n",
              "51812                  3                 2.0                     1  ...   \n",
              "51832                  2                 2.0                     2  ...   \n",
              "51939                  2                 1.0                     1  ...   \n",
              "\n",
              "      2nd_Road_Number  Pedestrian_Crossing-Human_Control  \\\n",
              "10                0.0              None within 50 metres   \n",
              "16                0.0              None within 50 metres   \n",
              "94                0.0              None within 50 metres   \n",
              "131               0.0              None within 50 metres   \n",
              "183               0.0              None within 50 metres   \n",
              "...               ...                                ...   \n",
              "51707             0.0              None within 50 metres   \n",
              "51778             0.0              None within 50 metres   \n",
              "51812          6009.0              None within 50 metres   \n",
              "51832             0.0              None within 50 metres   \n",
              "51939           236.0              None within 50 metres   \n",
              "\n",
              "           Pedestrian_Crossing-Physical_Facilities  \\\n",
              "10           No physical crossing within 50 meters   \n",
              "16           No physical crossing within 50 meters   \n",
              "94           No physical crossing within 50 meters   \n",
              "131          No physical crossing within 50 meters   \n",
              "183          No physical crossing within 50 meters   \n",
              "...                                            ...   \n",
              "51707  Pedestrian phase at traffic signal junction   \n",
              "51778        No physical crossing within 50 meters   \n",
              "51812  Pedestrian phase at traffic signal junction   \n",
              "51832        No physical crossing within 50 meters   \n",
              "51939             non-junction pedestrian crossing   \n",
              "\n",
              "                              Light_Conditions       Weather_Conditions  \\\n",
              "10              Daylight: Street light present                  Unknown   \n",
              "16     Darkness: Street lights present and lit  Fine without high winds   \n",
              "94              Daylight: Street light present  Fine without high winds   \n",
              "131             Daylight: Street light present  Fine without high winds   \n",
              "183    Darkness: Street lights present and lit  Fine without high winds   \n",
              "...                                        ...                      ...   \n",
              "51707           Daylight: Street light present  Fine without high winds   \n",
              "51778           Daylight: Street light present  Fine without high winds   \n",
              "51812  Darkness: Street lights present and lit  Fine without high winds   \n",
              "51832           Daylight: Street light present  Fine without high winds   \n",
              "51939  Darkness: Street lights present and lit  Fine without high winds   \n",
              "\n",
              "       Road_Surface_Conditions  Urban_or_Rural_Area  \\\n",
              "10                         Dry                  1.0   \n",
              "16                    Wet/Damp                  1.0   \n",
              "94                         Dry                  1.0   \n",
              "131                        Dry                  1.0   \n",
              "183                   Wet/Damp                  2.0   \n",
              "...                        ...                  ...   \n",
              "51707                      Dry                  1.0   \n",
              "51778                      Dry                  1.0   \n",
              "51812                 Wet/Damp                  1.0   \n",
              "51832                      Dry                  1.0   \n",
              "51939                      Dry                  1.0   \n",
              "\n",
              "      Did_Police_Officer_Attend_Scene_of_Accident  LSOA_of_Accident_Location  \\\n",
              "10                                            Yes                  E01025047   \n",
              "16                                            Yes                  E01005558   \n",
              "94                                            Yes                  E01024907   \n",
              "131                                           Yes                  E01012261   \n",
              "183                                           Yes                  E01012124   \n",
              "...                                           ...                        ...   \n",
              "51707                                          No                  E01009285   \n",
              "51778                                         Yes                  E01001511   \n",
              "51812                                          No                  E01027933   \n",
              "51832                                         Yes                  E01004962   \n",
              "51939                                         Yes                  E01008668   \n",
              "\n",
              "         Year  \n",
              "10     2005.0  \n",
              "16     2005.0  \n",
              "94     2005.0  \n",
              "131    2005.0  \n",
              "183    2005.0  \n",
              "...       ...  \n",
              "51707  2005.0  \n",
              "51778  2005.0  \n",
              "51812  2005.0  \n",
              "51832  2005.0  \n",
              "51939  2005.0  \n",
              "\n",
              "[1280 rows x 30 columns]"
            ]
          },
          "execution_count": 424,
          "metadata": {},
          "output_type": "execute_result"
        }
      ],
      "source": [
        "Last_Three_Months_2005 = df[df[\"Date\"] > '30/09/2005']\n",
        "Last_Three_Months_2005"
      ]
    },
    {
      "cell_type": "code",
      "execution_count": null,
      "id": "c5a44fa1",
      "metadata": {},
      "outputs": [
        {
          "data": {
            "text/plain": [
              "'30/10/2005'"
            ]
          },
          "execution_count": 425,
          "metadata": {},
          "output_type": "execute_result"
        }
      ],
      "source": [
        "Last_Three_Months_2005[\"Date\"].min()"
      ]
    },
    {
      "cell_type": "code",
      "execution_count": null,
      "id": "8a1608ab",
      "metadata": {},
      "outputs": [
        {
          "data": {
            "text/plain": [
              "'31/12/2005'"
            ]
          },
          "execution_count": 426,
          "metadata": {},
          "output_type": "execute_result"
        }
      ],
      "source": [
        "Last_Three_Months_2005[\"Date\"].max()"
      ]
    },
    {
      "cell_type": "code",
      "execution_count": null,
      "id": "1efb9b17",
      "metadata": {},
      "outputs": [
        {
          "data": {
            "text/html": [
              "<div>\n",
              "<style scoped>\n",
              "    .dataframe tbody tr th:only-of-type {\n",
              "        vertical-align: middle;\n",
              "    }\n",
              "\n",
              "    .dataframe tbody tr th {\n",
              "        vertical-align: top;\n",
              "    }\n",
              "\n",
              "    .dataframe thead th {\n",
              "        text-align: right;\n",
              "    }\n",
              "</style>\n",
              "<table border=\"1\" class=\"dataframe\">\n",
              "  <thead>\n",
              "    <tr style=\"text-align: right;\">\n",
              "      <th></th>\n",
              "      <th>Year</th>\n",
              "      <th>Date</th>\n",
              "    </tr>\n",
              "  </thead>\n",
              "  <tbody>\n",
              "    <tr>\n",
              "      <th>10</th>\n",
              "      <td>2005.0</td>\n",
              "      <td>31/05/2005</td>\n",
              "    </tr>\n",
              "    <tr>\n",
              "      <th>16</th>\n",
              "      <td>2005.0</td>\n",
              "      <td>31/03/2005</td>\n",
              "    </tr>\n",
              "    <tr>\n",
              "      <th>94</th>\n",
              "      <td>2005.0</td>\n",
              "      <td>31/08/2005</td>\n",
              "    </tr>\n",
              "    <tr>\n",
              "      <th>131</th>\n",
              "      <td>2005.0</td>\n",
              "      <td>31/03/2005</td>\n",
              "    </tr>\n",
              "    <tr>\n",
              "      <th>183</th>\n",
              "      <td>2005.0</td>\n",
              "      <td>30/12/2005</td>\n",
              "    </tr>\n",
              "    <tr>\n",
              "      <th>...</th>\n",
              "      <td>...</td>\n",
              "      <td>...</td>\n",
              "    </tr>\n",
              "    <tr>\n",
              "      <th>51707</th>\n",
              "      <td>2005.0</td>\n",
              "      <td>31/05/2005</td>\n",
              "    </tr>\n",
              "    <tr>\n",
              "      <th>51778</th>\n",
              "      <td>2005.0</td>\n",
              "      <td>31/05/2005</td>\n",
              "    </tr>\n",
              "    <tr>\n",
              "      <th>51812</th>\n",
              "      <td>2005.0</td>\n",
              "      <td>31/01/2005</td>\n",
              "    </tr>\n",
              "    <tr>\n",
              "      <th>51832</th>\n",
              "      <td>2005.0</td>\n",
              "      <td>31/07/2005</td>\n",
              "    </tr>\n",
              "    <tr>\n",
              "      <th>51939</th>\n",
              "      <td>2005.0</td>\n",
              "      <td>31/01/2005</td>\n",
              "    </tr>\n",
              "  </tbody>\n",
              "</table>\n",
              "<p>1280 rows × 2 columns</p>\n",
              "</div>"
            ],
            "text/plain": [
              "         Year        Date\n",
              "10     2005.0  31/05/2005\n",
              "16     2005.0  31/03/2005\n",
              "94     2005.0  31/08/2005\n",
              "131    2005.0  31/03/2005\n",
              "183    2005.0  30/12/2005\n",
              "...       ...         ...\n",
              "51707  2005.0  31/05/2005\n",
              "51778  2005.0  31/05/2005\n",
              "51812  2005.0  31/01/2005\n",
              "51832  2005.0  31/07/2005\n",
              "51939  2005.0  31/01/2005\n",
              "\n",
              "[1280 rows x 2 columns]"
            ]
          },
          "execution_count": 427,
          "metadata": {},
          "output_type": "execute_result"
        }
      ],
      "source": [
        "Year_Date = Last_Three_Months_2005[[\"Year\", \"Date\"]]\n",
        "Year_Date"
      ]
    },
    {
      "cell_type": "code",
      "execution_count": null,
      "id": "e2a19c0e",
      "metadata": {},
      "outputs": [
        {
          "data": {
            "text/plain": [
              "0.0"
            ]
          },
          "execution_count": 428,
          "metadata": {},
          "output_type": "execute_result"
        }
      ],
      "source": [
        "df[\"Year\"].max() - df[\"Year\"].min()"
      ]
    },
    {
      "cell_type": "code",
      "execution_count": null,
      "id": "e5018303",
      "metadata": {},
      "outputs": [
        {
          "data": {
            "text/html": [
              "<div>\n",
              "<style scoped>\n",
              "    .dataframe tbody tr th:only-of-type {\n",
              "        vertical-align: middle;\n",
              "    }\n",
              "\n",
              "    .dataframe tbody tr th {\n",
              "        vertical-align: top;\n",
              "    }\n",
              "\n",
              "    .dataframe thead th {\n",
              "        text-align: right;\n",
              "    }\n",
              "</style>\n",
              "<table border=\"1\" class=\"dataframe\">\n",
              "  <thead>\n",
              "    <tr style=\"text-align: right;\">\n",
              "      <th></th>\n",
              "      <th>Unnamed: 0</th>\n",
              "      <th>Accident_Index</th>\n",
              "      <th>Location_Easting_OSGR</th>\n",
              "      <th>Location_Northing_OSGR</th>\n",
              "      <th>Longitude</th>\n",
              "      <th>Latitude</th>\n",
              "      <th>Police_Force</th>\n",
              "      <th>Accident_Severity</th>\n",
              "      <th>Number_of_Vehicles</th>\n",
              "      <th>Number_of_Casualties</th>\n",
              "      <th>...</th>\n",
              "      <th>2nd_Road_Number</th>\n",
              "      <th>Pedestrian_Crossing-Human_Control</th>\n",
              "      <th>Pedestrian_Crossing-Physical_Facilities</th>\n",
              "      <th>Light_Conditions</th>\n",
              "      <th>Weather_Conditions</th>\n",
              "      <th>Road_Surface_Conditions</th>\n",
              "      <th>Urban_or_Rural_Area</th>\n",
              "      <th>Did_Police_Officer_Attend_Scene_of_Accident</th>\n",
              "      <th>LSOA_of_Accident_Location</th>\n",
              "      <th>Year</th>\n",
              "    </tr>\n",
              "  </thead>\n",
              "  <tbody>\n",
              "    <tr>\n",
              "      <th>0</th>\n",
              "      <td>88245</td>\n",
              "      <td>2.01E+12</td>\n",
              "      <td>381880.0</td>\n",
              "      <td>298700.0</td>\n",
              "      <td>-2.268891</td>\n",
              "      <td>52.585773</td>\n",
              "      <td>21</td>\n",
              "      <td>3</td>\n",
              "      <td>2.0</td>\n",
              "      <td>2</td>\n",
              "      <td>...</td>\n",
              "      <td>0.0</td>\n",
              "      <td>None within 50 metres</td>\n",
              "      <td>No physical crossing within 50 meters</td>\n",
              "      <td>Daylight: Street light present</td>\n",
              "      <td>Fine without high winds</td>\n",
              "      <td>Dry</td>\n",
              "      <td>2.0</td>\n",
              "      <td>Yes</td>\n",
              "      <td>E01029654</td>\n",
              "      <td>2005.0</td>\n",
              "    </tr>\n",
              "    <tr>\n",
              "      <th>29402</th>\n",
              "      <td>64445</td>\n",
              "      <td>2.01E+12</td>\n",
              "      <td>420640.0</td>\n",
              "      <td>441230.0</td>\n",
              "      <td>-1.687613</td>\n",
              "      <td>53.866875</td>\n",
              "      <td>13</td>\n",
              "      <td>3</td>\n",
              "      <td>2.0</td>\n",
              "      <td>2</td>\n",
              "      <td>...</td>\n",
              "      <td>0.0</td>\n",
              "      <td>None within 50 metres</td>\n",
              "      <td>No physical crossing within 50 meters</td>\n",
              "      <td>Daylight: Street light present</td>\n",
              "      <td>Raining without high winds</td>\n",
              "      <td>Wet/Damp</td>\n",
              "      <td>1.0</td>\n",
              "      <td>Yes</td>\n",
              "      <td>E01011269</td>\n",
              "      <td>2005.0</td>\n",
              "    </tr>\n",
              "    <tr>\n",
              "      <th>6397</th>\n",
              "      <td>75406</td>\n",
              "      <td>2005160D03300</td>\n",
              "      <td>513920.0</td>\n",
              "      <td>430370.0</td>\n",
              "      <td>-0.273535</td>\n",
              "      <td>53.757238</td>\n",
              "      <td>16</td>\n",
              "      <td>3</td>\n",
              "      <td>2.0</td>\n",
              "      <td>1</td>\n",
              "      <td>...</td>\n",
              "      <td>0.0</td>\n",
              "      <td>None within 50 metres</td>\n",
              "      <td>Pedestrian phase at traffic signal junction</td>\n",
              "      <td>Darkness: Street lights present and lit</td>\n",
              "      <td>Fine without high winds</td>\n",
              "      <td>Dry</td>\n",
              "      <td>1.0</td>\n",
              "      <td>Yes</td>\n",
              "      <td>E01012895</td>\n",
              "      <td>2005.0</td>\n",
              "    </tr>\n",
              "    <tr>\n",
              "      <th>29413</th>\n",
              "      <td>73808</td>\n",
              "      <td>2005160B01690</td>\n",
              "      <td>505000.0</td>\n",
              "      <td>411080.0</td>\n",
              "      <td>-0.415294</td>\n",
              "      <td>53.585791</td>\n",
              "      <td>16</td>\n",
              "      <td>3</td>\n",
              "      <td>2.0</td>\n",
              "      <td>1</td>\n",
              "      <td>...</td>\n",
              "      <td>15.0</td>\n",
              "      <td>None within 50 metres</td>\n",
              "      <td>No physical crossing within 50 meters</td>\n",
              "      <td>Daylight: Street light present</td>\n",
              "      <td>Fine without high winds</td>\n",
              "      <td>Dry</td>\n",
              "      <td>2.0</td>\n",
              "      <td>Yes</td>\n",
              "      <td>E01013267</td>\n",
              "      <td>2005.0</td>\n",
              "    </tr>\n",
              "    <tr>\n",
              "      <th>29441</th>\n",
              "      <td>94472</td>\n",
              "      <td>2.01E+12</td>\n",
              "      <td>438710.0</td>\n",
              "      <td>251420.0</td>\n",
              "      <td>-1.435546</td>\n",
              "      <td>52.159666</td>\n",
              "      <td>23</td>\n",
              "      <td>2</td>\n",
              "      <td>2.0</td>\n",
              "      <td>2</td>\n",
              "      <td>...</td>\n",
              "      <td>6406.0</td>\n",
              "      <td>None within 50 metres</td>\n",
              "      <td>No physical crossing within 50 meters</td>\n",
              "      <td>Daylight: Street light present</td>\n",
              "      <td>Fine without high winds</td>\n",
              "      <td>Dry</td>\n",
              "      <td>2.0</td>\n",
              "      <td>Yes</td>\n",
              "      <td>E01031194</td>\n",
              "      <td>2005.0</td>\n",
              "    </tr>\n",
              "  </tbody>\n",
              "</table>\n",
              "<p>5 rows × 30 columns</p>\n",
              "</div>"
            ],
            "text/plain": [
              "       Unnamed: 0 Accident_Index  Location_Easting_OSGR  \\\n",
              "0           88245       2.01E+12               381880.0   \n",
              "29402       64445       2.01E+12               420640.0   \n",
              "6397        75406  2005160D03300               513920.0   \n",
              "29413       73808  2005160B01690               505000.0   \n",
              "29441       94472       2.01E+12               438710.0   \n",
              "\n",
              "       Location_Northing_OSGR  Longitude   Latitude  Police_Force  \\\n",
              "0                    298700.0  -2.268891  52.585773            21   \n",
              "29402                441230.0  -1.687613  53.866875            13   \n",
              "6397                 430370.0  -0.273535  53.757238            16   \n",
              "29413                411080.0  -0.415294  53.585791            16   \n",
              "29441                251420.0  -1.435546  52.159666            23   \n",
              "\n",
              "       Accident_Severity  Number_of_Vehicles  Number_of_Casualties  ...  \\\n",
              "0                      3                 2.0                     2  ...   \n",
              "29402                  3                 2.0                     2  ...   \n",
              "6397                   3                 2.0                     1  ...   \n",
              "29413                  3                 2.0                     1  ...   \n",
              "29441                  2                 2.0                     2  ...   \n",
              "\n",
              "      2nd_Road_Number  Pedestrian_Crossing-Human_Control  \\\n",
              "0                 0.0              None within 50 metres   \n",
              "29402             0.0              None within 50 metres   \n",
              "6397              0.0              None within 50 metres   \n",
              "29413            15.0              None within 50 metres   \n",
              "29441          6406.0              None within 50 metres   \n",
              "\n",
              "           Pedestrian_Crossing-Physical_Facilities  \\\n",
              "0            No physical crossing within 50 meters   \n",
              "29402        No physical crossing within 50 meters   \n",
              "6397   Pedestrian phase at traffic signal junction   \n",
              "29413        No physical crossing within 50 meters   \n",
              "29441        No physical crossing within 50 meters   \n",
              "\n",
              "                              Light_Conditions          Weather_Conditions  \\\n",
              "0               Daylight: Street light present     Fine without high winds   \n",
              "29402           Daylight: Street light present  Raining without high winds   \n",
              "6397   Darkness: Street lights present and lit     Fine without high winds   \n",
              "29413           Daylight: Street light present     Fine without high winds   \n",
              "29441           Daylight: Street light present     Fine without high winds   \n",
              "\n",
              "       Road_Surface_Conditions  Urban_or_Rural_Area  \\\n",
              "0                          Dry                  2.0   \n",
              "29402                 Wet/Damp                  1.0   \n",
              "6397                       Dry                  1.0   \n",
              "29413                      Dry                  2.0   \n",
              "29441                      Dry                  2.0   \n",
              "\n",
              "      Did_Police_Officer_Attend_Scene_of_Accident  LSOA_of_Accident_Location  \\\n",
              "0                                             Yes                  E01029654   \n",
              "29402                                         Yes                  E01011269   \n",
              "6397                                          Yes                  E01012895   \n",
              "29413                                         Yes                  E01013267   \n",
              "29441                                         Yes                  E01031194   \n",
              "\n",
              "         Year  \n",
              "0      2005.0  \n",
              "29402  2005.0  \n",
              "6397   2005.0  \n",
              "29413  2005.0  \n",
              "29441  2005.0  \n",
              "\n",
              "[5 rows x 30 columns]"
            ]
          },
          "execution_count": 429,
          "metadata": {},
          "output_type": "execute_result"
        }
      ],
      "source": [
        "df.sort_values(by=['Day_of_Week'], ascending=True).head()\n"
      ]
    },
    {
      "cell_type": "code",
      "execution_count": null,
      "id": "2f1a5624",
      "metadata": {},
      "outputs": [],
      "source": []
    },
    {
      "cell_type": "code",
      "execution_count": null,
      "id": "d5b60a8d",
      "metadata": {},
      "outputs": [
        {
          "ename": "NameError",
          "evalue": "name 'df_encode' is not defined",
          "output_type": "error",
          "traceback": [
            "\u001b[1;31m---------------------------------------------------------------------------\u001b[0m",
            "\u001b[1;31mNameError\u001b[0m                                 Traceback (most recent call last)",
            "Cell \u001b[1;32mIn[430], line 1\u001b[0m\n\u001b[1;32m----> 1\u001b[0m df_encode \u001b[38;5;241m=\u001b[39m \u001b[43mdf_encode\u001b[49m(\u001b[38;5;124m'\u001b[39m\u001b[38;5;124m'\u001b[39m)\n\u001b[0;32m      2\u001b[0m de_encode\n",
            "\u001b[1;31mNameError\u001b[0m: name 'df_encode' is not defined"
          ]
        }
      ],
      "source": [
        "df_encode = df_encode('')\n",
        "de_encode"
      ]
    },
    {
      "cell_type": "code",
      "execution_count": null,
      "id": "d2b30793",
      "metadata": {},
      "outputs": [
        {
          "data": {
            "text/plain": [
              "<Axes: >"
            ]
          },
          "execution_count": 452,
          "metadata": {},
          "output_type": "execute_result"
        },
        {
          "data": {
            "image/png": "[encoded data removed]",
            "text/plain": [
              "<Figure size 640x480 with 1 Axes>"
            ]
          },
          "metadata": {},
          "output_type": "display_data"
        }
      ],
      "source": [
        "Last_Three_Months_2005.plot()"
      ]
    },
    {
      "cell_type": "code",
      "execution_count": null,
      "id": "e842a401",
      "metadata": {},
      "outputs": [
        {
          "data": {
            "text/plain": [
              "0       -1.0\n",
              "1       -1.0\n",
              "2        4.0\n",
              "3       -1.0\n",
              "4       -1.0\n",
              "        ... \n",
              "51995    5.0\n",
              "51996    3.0\n",
              "51997    6.0\n",
              "51998    6.0\n",
              "51999    6.0\n",
              "Name: 2nd_Road_Class, Length: 52000, dtype: float64"
            ]
          },
          "execution_count": 25,
          "metadata": {},
          "output_type": "execute_result"
        }
      ],
      "source": [
        "df['Accident_Index']\n",
        "df['Location_Easting_OSGR']\n",
        "df['Longitude']\n",
        "df['Police_Force']\n",
        "df['Accident_Severity']\n",
        "df['Number_of_Vehicles']\n",
        "df['Number_of_Casualties']\n",
        "df['Date']\n",
        "df['Day_of_Week']\n",
        "df['Time']\n",
        "df['Local_Authority_(District)']\n",
        "df['Local_Authority_(Highway)']\n",
        "df['1st_Road_Class']\n",
        "df['Road_Type']\n",
        "df['Speed_limit']\n",
        "df['2nd_Road_Class']"
      ]
    },
    {
      "cell_type": "code",
      "execution_count": null,
      "id": "ebc61f6b",
      "metadata": {},
      "outputs": [
        {
          "data": {
            "text/plain": [
              "802"
            ]
          },
          "execution_count": 26,
          "metadata": {},
          "output_type": "execute_result"
        }
      ],
      "source": [
        "df['Number_of_Vehicles'].isnull().sum()"
      ]
    },
    {
      "cell_type": "code",
      "execution_count": null,
      "id": "182a4e5b",
      "metadata": {},
      "outputs": [
        {
          "data": {
            "text/plain": [
              "537"
            ]
          },
          "execution_count": 27,
          "metadata": {},
          "output_type": "execute_result"
        }
      ],
      "source": [
        "df['Day_of_Week'].isnull().sum() "
      ]
    },
    {
      "cell_type": "code",
      "execution_count": null,
      "id": "9c21b254",
      "metadata": {},
      "outputs": [
        {
          "data": {
            "text/plain": [
              "1041"
            ]
          },
          "execution_count": 28,
          "metadata": {},
          "output_type": "execute_result"
        }
      ],
      "source": [
        "df['Speed_limit'].isnull().sum()"
      ]
    },
    {
      "cell_type": "code",
      "execution_count": null,
      "id": "1c56d9ea",
      "metadata": {
        "id": "1c56d9ea"
      },
      "outputs": [
        {
          "data": {
            "text/plain": [
              "Unnamed: 0                                        0\n",
              "Accident_Index                                    0\n",
              "Location_Easting_OSGR                             0\n",
              "Location_Northing_OSGR                            0\n",
              "Longitude                                         0\n",
              "Latitude                                          0\n",
              "Police_Force                                      0\n",
              "Accident_Severity                                 0\n",
              "Number_of_Vehicles                              802\n",
              "Number_of_Casualties                              0\n",
              "Date                                              0\n",
              "Day_of_Week                                     537\n",
              "Time                                              2\n",
              "Local_Authority_(District)                        1\n",
              "Local_Authority_(Highway)                         1\n",
              "1st_Road_Class                                    1\n",
              "1st_Road_Number                                   1\n",
              "Road_Type                                         1\n",
              "Speed_limit                                    1041\n",
              "2nd_Road_Class                                    1\n",
              "2nd_Road_Number                                   1\n",
              "Pedestrian_Crossing-Human_Control                 7\n",
              "Pedestrian_Crossing-Physical_Facilities          11\n",
              "Light_Conditions                                  1\n",
              "Weather_Conditions                                1\n",
              "Road_Surface_Conditions                           1\n",
              "Urban_or_Rural_Area                               1\n",
              "Did_Police_Officer_Attend_Scene_of_Accident       1\n",
              "LSOA_of_Accident_Location                        41\n",
              "Year                                              1\n",
              "dtype: int64"
            ]
          },
          "execution_count": 29,
          "metadata": {},
          "output_type": "execute_result"
        }
      ],
      "source": [
        "df.isnull().sum()"
      ]
    },
    {
      "cell_type": "code",
      "execution_count": null,
      "id": "96b5417a",
      "metadata": {},
      "outputs": [
        {
          "data": {
            "text/plain": [
              "<bound method DataFrame.drop_duplicates of        Unnamed: 0 Accident_Index  Location_Easting_OSGR  \\\n",
              "0           88245       2.01E+12               381880.0   \n",
              "1           78422  200520D303703               413520.0   \n",
              "2           19574  200501TX20137               516260.0   \n",
              "3           79337  200520E097001               401530.0   \n",
              "4           89121       2.01E+12               421760.0   \n",
              "...           ...            ...                    ...   \n",
              "51995       58660  200511DJ27240               427910.0   \n",
              "51996      101443  20053102C2156               450720.0   \n",
              "51997         437  200501BS70452               526580.0   \n",
              "51998       61353       2.01E+12               426800.0   \n",
              "51999       75359  2005160D02810               509970.0   \n",
              "\n",
              "       Location_Northing_OSGR  Longitude   Latitude  Police_Force  \\\n",
              "0                    298700.0  -2.268891  52.585773            21   \n",
              "1                    284740.0  -1.802453  52.460412            20   \n",
              "2                    177370.0  -0.327073  51.483290             1   \n",
              "3                    282610.0  -1.978930  52.441426            20   \n",
              "4                    320680.0  -1.678823  52.783240            21   \n",
              "...                       ...        ...        ...           ...   \n",
              "51995                515740.0  -1.570167  54.536179            11   \n",
              "51996                340010.0  -1.246470  52.955054            31   \n",
              "51997                177540.0  -0.178465  51.482604             1   \n",
              "51998                463700.0  -1.591972  54.068547            12   \n",
              "51999                428420.0  -0.334114  53.740566            16   \n",
              "\n",
              "       Accident_Severity  Number_of_Vehicles  Number_of_Casualties  ...  \\\n",
              "0                      3                 2.0                     2  ...   \n",
              "1                      2                 1.0                     1  ...   \n",
              "2                      3                 2.0                     2  ...   \n",
              "3                      3                 2.0                     1  ...   \n",
              "4                      3                 1.0                     1  ...   \n",
              "...                  ...                 ...                   ...  ...   \n",
              "51995                  3                 2.0                     1  ...   \n",
              "51996                  3                 1.0                     1  ...   \n",
              "51997                  3                 1.0                     1  ...   \n",
              "51998                  3                 2.0                     2  ...   \n",
              "51999                  3                 2.0                     1  ...   \n",
              "\n",
              "      2nd_Road_Number  Pedestrian_Crossing-Human_Control  \\\n",
              "0                 0.0              None within 50 metres   \n",
              "1                 0.0              None within 50 metres   \n",
              "2               454.0              None within 50 metres   \n",
              "3                 0.0              None within 50 metres   \n",
              "4                 0.0              None within 50 metres   \n",
              "...               ...                                ...   \n",
              "51995            55.0              None within 50 metres   \n",
              "51996          6002.0              None within 50 metres   \n",
              "51997             0.0              None within 50 metres   \n",
              "51998             0.0              None within 50 metres   \n",
              "51999             0.0              None within 50 metres   \n",
              "\n",
              "           Pedestrian_Crossing-Physical_Facilities  \\\n",
              "0            No physical crossing within 50 meters   \n",
              "1            No physical crossing within 50 meters   \n",
              "2      Pedestrian phase at traffic signal junction   \n",
              "3            No physical crossing within 50 meters   \n",
              "4            No physical crossing within 50 meters   \n",
              "...                                            ...   \n",
              "51995        No physical crossing within 50 meters   \n",
              "51996  Pedestrian phase at traffic signal junction   \n",
              "51997                               Zebra crossing   \n",
              "51998        No physical crossing within 50 meters   \n",
              "51999        No physical crossing within 50 meters   \n",
              "\n",
              "                              Light_Conditions          Weather_Conditions  \\\n",
              "0               Daylight: Street light present     Fine without high winds   \n",
              "1               Daylight: Street light present     Fine without high winds   \n",
              "2               Daylight: Street light present     Fine without high winds   \n",
              "3      Darkness: Street lights present and lit     Fine without high winds   \n",
              "4      Darkness: Street lights present and lit     Fine without high winds   \n",
              "...                                        ...                         ...   \n",
              "51995           Daylight: Street light present     Fine without high winds   \n",
              "51996           Daylight: Street light present     Fine without high winds   \n",
              "51997           Daylight: Street light present  Raining without high winds   \n",
              "51998            Darkeness: No street lighting     Fine without high winds   \n",
              "51999           Daylight: Street light present     Fine without high winds   \n",
              "\n",
              "       Road_Surface_Conditions  Urban_or_Rural_Area  \\\n",
              "0                          Dry                  2.0   \n",
              "1                          Dry                  1.0   \n",
              "2                          Dry                  1.0   \n",
              "3                          Dry                  1.0   \n",
              "4                          Dry                  2.0   \n",
              "...                        ...                  ...   \n",
              "51995                      Dry                  1.0   \n",
              "51996                      Dry                  1.0   \n",
              "51997                 Wet/Damp                  1.0   \n",
              "51998                      Dry                  2.0   \n",
              "51999                      Dry                  1.0   \n",
              "\n",
              "      Did_Police_Officer_Attend_Scene_of_Accident  LSOA_of_Accident_Location  \\\n",
              "0                                             Yes                  E01029654   \n",
              "1                                             Yes                  E01009313   \n",
              "2                                             Yes                  E01002678   \n",
              "3                                              No                  E01008924   \n",
              "4                                             Yes                  E01029416   \n",
              "...                                           ...                        ...   \n",
              "51995                                         Yes                  E01012363   \n",
              "51996                                         Yes                  E01028141   \n",
              "51997                                         Yes                  E01002840   \n",
              "51998                                         Yes                  E01027681   \n",
              "51999                                         Yes                  E01012853   \n",
              "\n",
              "         Year  \n",
              "0      2005.0  \n",
              "1      2005.0  \n",
              "2      2005.0  \n",
              "3      2005.0  \n",
              "4      2005.0  \n",
              "...       ...  \n",
              "51995  2005.0  \n",
              "51996  2005.0  \n",
              "51997  2005.0  \n",
              "51998  2005.0  \n",
              "51999  2005.0  \n",
              "\n",
              "[52000 rows x 30 columns]>"
            ]
          },
          "execution_count": 245,
          "metadata": {},
          "output_type": "execute_result"
        }
      ],
      "source": [
        "Last_Three_Months_2005 = df.drop_duplicates\n",
        "Last_Three_Months_2005"
      ]
    },
    {
      "cell_type": "code",
      "execution_count": null,
      "id": "a71eb50c",
      "metadata": {},
      "outputs": [
        {
          "data": {
            "text/plain": [
              "'01/01/2005'"
            ]
          },
          "execution_count": 94,
          "metadata": {},
          "output_type": "execute_result"
        }
      ],
      "source": [
        "df['Date'].min()"
      ]
    },
    {
      "cell_type": "code",
      "execution_count": null,
      "id": "8a934819",
      "metadata": {},
      "outputs": [
        {
          "data": {
            "text/plain": [
              "'31/12/2005'"
            ]
          },
          "execution_count": 36,
          "metadata": {},
          "output_type": "execute_result"
        }
      ],
      "source": [
        "df['Date'].max()"
      ]
    },
    {
      "cell_type": "code",
      "execution_count": null,
      "id": "6c44e9a0",
      "metadata": {},
      "outputs": [
        {
          "data": {
            "text/plain": [
              "Year\n",
              "2005.0    1280\n",
              "Name: count, dtype: int64"
            ]
          },
          "execution_count": 282,
          "metadata": {},
          "output_type": "execute_result"
        }
      ],
      "source": [
        "Last_Three_Months_2005['Year'].value_counts()"
      ]
    },
    {
      "cell_type": "code",
      "execution_count": null,
      "id": "0dd517d0",
      "metadata": {},
      "outputs": [
        {
          "data": {
            "text/plain": [
              "Speed_limit\n",
              "30.0    909\n",
              "60.0    150\n",
              "40.0     86\n",
              "70.0     76\n",
              "50.0     34\n",
              "20.0      3\n",
              "Name: count, dtype: int64"
            ]
          },
          "execution_count": 283,
          "metadata": {},
          "output_type": "execute_result"
        }
      ],
      "source": [
        "Last_Three_Months_2005['Speed_limit'].value_counts()"
      ]
    },
    {
      "cell_type": "markdown",
      "id": "15d85221",
      "metadata": {
        "id": "15d85221"
      },
      "source": [
        "# Visualize the Data\n",
        "\n",
        "Visualizing the data helps in understanding the relationships between features and the target variable. Below are some common visualizations that can be used to gain insights into the dataset:\n",
        "\n",
        "1. **Count Plots for Categorical Features**: Use count plots to visualize the frequency of categorical features such as the `Traffic Situation`.\n",
        "\n",
        "2. **Correlation Heatmap**: Create a heatmap to visualize the correlation between numerical features and identify any strong relationships."
      ]
    },
    {
      "cell_type": "code",
      "execution_count": null,
      "id": "ab3e42bc",
      "metadata": {},
      "outputs": [],
      "source": [
        "from sklearn import preprocessing\n",
        "from sklearn.preprocessing import OneHotEncoder\n",
        "from sklearn.impute import SimpleImputer"
      ]
    },
    {
      "cell_type": "code",
      "execution_count": null,
      "id": "fa4cb952",
      "metadata": {},
      "outputs": [
        {
          "data": {
            "text/plain": [
              "0        60.0\n",
              "1        20.0\n",
              "2        30.0\n",
              "3        40.0\n",
              "4        70.0\n",
              "         ... \n",
              "51995    30.0\n",
              "51996    30.0\n",
              "51997    30.0\n",
              "51998    60.0\n",
              "51999    40.0\n",
              "Name: Speed_limit, Length: 52000, dtype: float64"
            ]
          },
          "execution_count": 368,
          "metadata": {},
          "output_type": "execute_result"
        }
      ],
      "source": [
        "X_train = df['Speed_limit']\n",
        "y=['']"
      ]
    },
    {
      "cell_type": "code",
      "execution_count": null,
      "id": "e6e09faa",
      "metadata": {},
      "outputs": [
        {
          "data": {
            "text/plain": [
              "(52000, 30)"
            ]
          },
          "execution_count": 384,
          "metadata": {},
          "output_type": "execute_result"
        }
      ],
      "source": [
        "df.shape"
      ]
    },
    {
      "cell_type": "code",
      "execution_count": null,
      "id": "b97fb1ba",
      "metadata": {},
      "outputs": [
        {
          "data": {
            "text/plain": [
              "(1280, 30)"
            ]
          },
          "execution_count": 385,
          "metadata": {},
          "output_type": "execute_result"
        }
      ],
      "source": [
        "Last_Three_Months_2005.shape"
      ]
    },
    {
      "cell_type": "code",
      "execution_count": null,
      "id": "56466aae",
      "metadata": {},
      "outputs": [
        {
          "ename": "ValueError",
          "evalue": "Expected a 2-dimensional container but got <class 'pandas.core.series.Series'> instead. Pass a DataFrame containing a single row (i.e. single sample) or a single column (i.e. single feature) instead.",
          "output_type": "error",
          "traceback": [
            "\u001b[1;31m---------------------------------------------------------------------------\u001b[0m",
            "\u001b[1;31mValueError\u001b[0m                                Traceback (most recent call last)",
            "Cell \u001b[1;32mIn[359], line 3\u001b[0m\n\u001b[0;32m      1\u001b[0m min_max_scaler \u001b[38;5;241m=\u001b[39m preprocessing\u001b[38;5;241m.\u001b[39mMinMaxScaler()\n\u001b[1;32m----> 3\u001b[0m X_train_minmax \u001b[38;5;241m=\u001b[39m \u001b[43mmin_max_scaler\u001b[49m\u001b[38;5;241;43m.\u001b[39;49m\u001b[43mfit_transform\u001b[49m\u001b[43m(\u001b[49m\u001b[43mX_train\u001b[49m\u001b[43m)\u001b[49m\n\u001b[0;32m      5\u001b[0m X_train_minmax\n",
            "File \u001b[1;32mc:\\Users\\ksmc\\AppData\\Local\\Programs\\Python\\Python39\\lib\\site-packages\\sklearn\\utils\\_set_output.py:313\u001b[0m, in \u001b[0;36m_wrap_method_output.<locals>.wrapped\u001b[1;34m(self, X, *args, **kwargs)\u001b[0m\n\u001b[0;32m    311\u001b[0m \u001b[38;5;129m@wraps\u001b[39m(f)\n\u001b[0;32m    312\u001b[0m \u001b[38;5;28;01mdef\u001b[39;00m \u001b[38;5;21mwrapped\u001b[39m(\u001b[38;5;28mself\u001b[39m, X, \u001b[38;5;241m*\u001b[39margs, \u001b[38;5;241m*\u001b[39m\u001b[38;5;241m*\u001b[39mkwargs):\n\u001b[1;32m--> 313\u001b[0m     data_to_wrap \u001b[38;5;241m=\u001b[39m f(\u001b[38;5;28mself\u001b[39m, X, \u001b[38;5;241m*\u001b[39margs, \u001b[38;5;241m*\u001b[39m\u001b[38;5;241m*\u001b[39mkwargs)\n\u001b[0;32m    314\u001b[0m     \u001b[38;5;28;01mif\u001b[39;00m \u001b[38;5;28misinstance\u001b[39m(data_to_wrap, \u001b[38;5;28mtuple\u001b[39m):\n\u001b[0;32m    315\u001b[0m         \u001b[38;5;66;03m# only wrap the first output for cross decomposition\u001b[39;00m\n\u001b[0;32m    316\u001b[0m         return_tuple \u001b[38;5;241m=\u001b[39m (\n\u001b[0;32m    317\u001b[0m             _wrap_data_with_container(method, data_to_wrap[\u001b[38;5;241m0\u001b[39m], X, \u001b[38;5;28mself\u001b[39m),\n\u001b[0;32m    318\u001b[0m             \u001b[38;5;241m*\u001b[39mdata_to_wrap[\u001b[38;5;241m1\u001b[39m:],\n\u001b[0;32m    319\u001b[0m         )\n",
            "File \u001b[1;32mc:\\Users\\ksmc\\AppData\\Local\\Programs\\Python\\Python39\\lib\\site-packages\\sklearn\\base.py:1098\u001b[0m, in \u001b[0;36mTransformerMixin.fit_transform\u001b[1;34m(self, X, y, **fit_params)\u001b[0m\n\u001b[0;32m   1083\u001b[0m         warnings\u001b[38;5;241m.\u001b[39mwarn(\n\u001b[0;32m   1084\u001b[0m             (\n\u001b[0;32m   1085\u001b[0m                 \u001b[38;5;124mf\u001b[39m\u001b[38;5;124m\"\u001b[39m\u001b[38;5;124mThis object (\u001b[39m\u001b[38;5;132;01m{\u001b[39;00m\u001b[38;5;28mself\u001b[39m\u001b[38;5;241m.\u001b[39m\u001b[38;5;18m__class__\u001b[39m\u001b[38;5;241m.\u001b[39m\u001b[38;5;18m__name__\u001b[39m\u001b[38;5;132;01m}\u001b[39;00m\u001b[38;5;124m) has a `transform`\u001b[39m\u001b[38;5;124m\"\u001b[39m\n\u001b[1;32m   (...)\u001b[0m\n\u001b[0;32m   1093\u001b[0m             \u001b[38;5;167;01mUserWarning\u001b[39;00m,\n\u001b[0;32m   1094\u001b[0m         )\n\u001b[0;32m   1096\u001b[0m \u001b[38;5;28;01mif\u001b[39;00m y \u001b[38;5;129;01mis\u001b[39;00m \u001b[38;5;28;01mNone\u001b[39;00m:\n\u001b[0;32m   1097\u001b[0m     \u001b[38;5;66;03m# fit method of arity 1 (unsupervised transformation)\u001b[39;00m\n\u001b[1;32m-> 1098\u001b[0m     \u001b[38;5;28;01mreturn\u001b[39;00m \u001b[38;5;28mself\u001b[39m\u001b[38;5;241m.\u001b[39mfit(X, \u001b[38;5;241m*\u001b[39m\u001b[38;5;241m*\u001b[39mfit_params)\u001b[38;5;241m.\u001b[39mtransform(X)\n\u001b[0;32m   1099\u001b[0m \u001b[38;5;28;01melse\u001b[39;00m:\n\u001b[0;32m   1100\u001b[0m     \u001b[38;5;66;03m# fit method of arity 2 (supervised transformation)\u001b[39;00m\n\u001b[0;32m   1101\u001b[0m     \u001b[38;5;28;01mreturn\u001b[39;00m \u001b[38;5;28mself\u001b[39m\u001b[38;5;241m.\u001b[39mfit(X, y, \u001b[38;5;241m*\u001b[39m\u001b[38;5;241m*\u001b[39mfit_params)\u001b[38;5;241m.\u001b[39mtransform(X)\n",
            "File \u001b[1;32mc:\\Users\\ksmc\\AppData\\Local\\Programs\\Python\\Python39\\lib\\site-packages\\sklearn\\preprocessing\\_data.py:450\u001b[0m, in \u001b[0;36mMinMaxScaler.fit\u001b[1;34m(self, X, y)\u001b[0m\n\u001b[0;32m    448\u001b[0m \u001b[38;5;66;03m# Reset internal state before fitting\u001b[39;00m\n\u001b[0;32m    449\u001b[0m \u001b[38;5;28mself\u001b[39m\u001b[38;5;241m.\u001b[39m_reset()\n\u001b[1;32m--> 450\u001b[0m \u001b[38;5;28;01mreturn\u001b[39;00m \u001b[38;5;28;43mself\u001b[39;49m\u001b[38;5;241;43m.\u001b[39;49m\u001b[43mpartial_fit\u001b[49m\u001b[43m(\u001b[49m\u001b[43mX\u001b[49m\u001b[43m,\u001b[49m\u001b[43m \u001b[49m\u001b[43my\u001b[49m\u001b[43m)\u001b[49m\n",
            "File \u001b[1;32mc:\\Users\\ksmc\\AppData\\Local\\Programs\\Python\\Python39\\lib\\site-packages\\sklearn\\base.py:1473\u001b[0m, in \u001b[0;36m_fit_context.<locals>.decorator.<locals>.wrapper\u001b[1;34m(estimator, *args, **kwargs)\u001b[0m\n\u001b[0;32m   1466\u001b[0m     estimator\u001b[38;5;241m.\u001b[39m_validate_params()\n\u001b[0;32m   1468\u001b[0m \u001b[38;5;28;01mwith\u001b[39;00m config_context(\n\u001b[0;32m   1469\u001b[0m     skip_parameter_validation\u001b[38;5;241m=\u001b[39m(\n\u001b[0;32m   1470\u001b[0m         prefer_skip_nested_validation \u001b[38;5;129;01mor\u001b[39;00m global_skip_validation\n\u001b[0;32m   1471\u001b[0m     )\n\u001b[0;32m   1472\u001b[0m ):\n\u001b[1;32m-> 1473\u001b[0m     \u001b[38;5;28;01mreturn\u001b[39;00m fit_method(estimator, \u001b[38;5;241m*\u001b[39margs, \u001b[38;5;241m*\u001b[39m\u001b[38;5;241m*\u001b[39mkwargs)\n",
            "File \u001b[1;32mc:\\Users\\ksmc\\AppData\\Local\\Programs\\Python\\Python39\\lib\\site-packages\\sklearn\\preprocessing\\_data.py:490\u001b[0m, in \u001b[0;36mMinMaxScaler.partial_fit\u001b[1;34m(self, X, y)\u001b[0m\n\u001b[0;32m    487\u001b[0m xp, _ \u001b[38;5;241m=\u001b[39m get_namespace(X)\n\u001b[0;32m    489\u001b[0m first_pass \u001b[38;5;241m=\u001b[39m \u001b[38;5;129;01mnot\u001b[39;00m \u001b[38;5;28mhasattr\u001b[39m(\u001b[38;5;28mself\u001b[39m, \u001b[38;5;124m\"\u001b[39m\u001b[38;5;124mn_samples_seen_\u001b[39m\u001b[38;5;124m\"\u001b[39m)\n\u001b[1;32m--> 490\u001b[0m X \u001b[38;5;241m=\u001b[39m \u001b[38;5;28;43mself\u001b[39;49m\u001b[38;5;241;43m.\u001b[39;49m\u001b[43m_validate_data\u001b[49m\u001b[43m(\u001b[49m\n\u001b[0;32m    491\u001b[0m \u001b[43m    \u001b[49m\u001b[43mX\u001b[49m\u001b[43m,\u001b[49m\n\u001b[0;32m    492\u001b[0m \u001b[43m    \u001b[49m\u001b[43mreset\u001b[49m\u001b[38;5;241;43m=\u001b[39;49m\u001b[43mfirst_pass\u001b[49m\u001b[43m,\u001b[49m\n\u001b[0;32m    493\u001b[0m \u001b[43m    \u001b[49m\u001b[43mdtype\u001b[49m\u001b[38;5;241;43m=\u001b[39;49m\u001b[43m_array_api\u001b[49m\u001b[38;5;241;43m.\u001b[39;49m\u001b[43msupported_float_dtypes\u001b[49m\u001b[43m(\u001b[49m\u001b[43mxp\u001b[49m\u001b[43m)\u001b[49m\u001b[43m,\u001b[49m\n\u001b[0;32m    494\u001b[0m \u001b[43m    \u001b[49m\u001b[43mforce_all_finite\u001b[49m\u001b[38;5;241;43m=\u001b[39;49m\u001b[38;5;124;43m\"\u001b[39;49m\u001b[38;5;124;43mallow-nan\u001b[39;49m\u001b[38;5;124;43m\"\u001b[39;49m\u001b[43m,\u001b[49m\n\u001b[0;32m    495\u001b[0m \u001b[43m\u001b[49m\u001b[43m)\u001b[49m\n\u001b[0;32m    497\u001b[0m data_min \u001b[38;5;241m=\u001b[39m _array_api\u001b[38;5;241m.\u001b[39m_nanmin(X, axis\u001b[38;5;241m=\u001b[39m\u001b[38;5;241m0\u001b[39m, xp\u001b[38;5;241m=\u001b[39mxp)\n\u001b[0;32m    498\u001b[0m data_max \u001b[38;5;241m=\u001b[39m _array_api\u001b[38;5;241m.\u001b[39m_nanmax(X, axis\u001b[38;5;241m=\u001b[39m\u001b[38;5;241m0\u001b[39m, xp\u001b[38;5;241m=\u001b[39mxp)\n",
            "File \u001b[1;32mc:\\Users\\ksmc\\AppData\\Local\\Programs\\Python\\Python39\\lib\\site-packages\\sklearn\\base.py:633\u001b[0m, in \u001b[0;36mBaseEstimator._validate_data\u001b[1;34m(self, X, y, reset, validate_separately, cast_to_ndarray, **check_params)\u001b[0m\n\u001b[0;32m    631\u001b[0m         out \u001b[38;5;241m=\u001b[39m X, y\n\u001b[0;32m    632\u001b[0m \u001b[38;5;28;01melif\u001b[39;00m \u001b[38;5;129;01mnot\u001b[39;00m no_val_X \u001b[38;5;129;01mand\u001b[39;00m no_val_y:\n\u001b[1;32m--> 633\u001b[0m     out \u001b[38;5;241m=\u001b[39m check_array(X, input_name\u001b[38;5;241m=\u001b[39m\u001b[38;5;124m\"\u001b[39m\u001b[38;5;124mX\u001b[39m\u001b[38;5;124m\"\u001b[39m, \u001b[38;5;241m*\u001b[39m\u001b[38;5;241m*\u001b[39mcheck_params)\n\u001b[0;32m    634\u001b[0m \u001b[38;5;28;01melif\u001b[39;00m no_val_X \u001b[38;5;129;01mand\u001b[39;00m \u001b[38;5;129;01mnot\u001b[39;00m no_val_y:\n\u001b[0;32m    635\u001b[0m     out \u001b[38;5;241m=\u001b[39m _check_y(y, \u001b[38;5;241m*\u001b[39m\u001b[38;5;241m*\u001b[39mcheck_params)\n",
            "File \u001b[1;32mc:\\Users\\ksmc\\AppData\\Local\\Programs\\Python\\Python39\\lib\\site-packages\\sklearn\\utils\\validation.py:1050\u001b[0m, in \u001b[0;36mcheck_array\u001b[1;34m(array, accept_sparse, accept_large_sparse, dtype, order, copy, force_writeable, force_all_finite, ensure_2d, allow_nd, ensure_min_samples, ensure_min_features, estimator, input_name)\u001b[0m\n\u001b[0;32m   1043\u001b[0m         \u001b[38;5;28;01melse\u001b[39;00m:\n\u001b[0;32m   1044\u001b[0m             msg \u001b[38;5;241m=\u001b[39m (\n\u001b[0;32m   1045\u001b[0m                 \u001b[38;5;124mf\u001b[39m\u001b[38;5;124m\"\u001b[39m\u001b[38;5;124mExpected 2D array, got 1D array instead:\u001b[39m\u001b[38;5;130;01m\\n\u001b[39;00m\u001b[38;5;124marray=\u001b[39m\u001b[38;5;132;01m{\u001b[39;00marray\u001b[38;5;132;01m}\u001b[39;00m\u001b[38;5;124m.\u001b[39m\u001b[38;5;130;01m\\n\u001b[39;00m\u001b[38;5;124m\"\u001b[39m\n\u001b[0;32m   1046\u001b[0m                 \u001b[38;5;124m\"\u001b[39m\u001b[38;5;124mReshape your data either using array.reshape(-1, 1) if \u001b[39m\u001b[38;5;124m\"\u001b[39m\n\u001b[0;32m   1047\u001b[0m                 \u001b[38;5;124m\"\u001b[39m\u001b[38;5;124myour data has a single feature or array.reshape(1, -1) \u001b[39m\u001b[38;5;124m\"\u001b[39m\n\u001b[0;32m   1048\u001b[0m                 \u001b[38;5;124m\"\u001b[39m\u001b[38;5;124mif it contains a single sample.\u001b[39m\u001b[38;5;124m\"\u001b[39m\n\u001b[0;32m   1049\u001b[0m             )\n\u001b[1;32m-> 1050\u001b[0m         \u001b[38;5;28;01mraise\u001b[39;00m \u001b[38;5;167;01mValueError\u001b[39;00m(msg)\n\u001b[0;32m   1052\u001b[0m \u001b[38;5;28;01mif\u001b[39;00m dtype_numeric \u001b[38;5;129;01mand\u001b[39;00m \u001b[38;5;28mhasattr\u001b[39m(array\u001b[38;5;241m.\u001b[39mdtype, \u001b[38;5;124m\"\u001b[39m\u001b[38;5;124mkind\u001b[39m\u001b[38;5;124m\"\u001b[39m) \u001b[38;5;129;01mand\u001b[39;00m array\u001b[38;5;241m.\u001b[39mdtype\u001b[38;5;241m.\u001b[39mkind \u001b[38;5;129;01min\u001b[39;00m \u001b[38;5;124m\"\u001b[39m\u001b[38;5;124mUSV\u001b[39m\u001b[38;5;124m\"\u001b[39m:\n\u001b[0;32m   1053\u001b[0m     \u001b[38;5;28;01mraise\u001b[39;00m \u001b[38;5;167;01mValueError\u001b[39;00m(\n\u001b[0;32m   1054\u001b[0m         \u001b[38;5;124m\"\u001b[39m\u001b[38;5;124mdtype=\u001b[39m\u001b[38;5;124m'\u001b[39m\u001b[38;5;124mnumeric\u001b[39m\u001b[38;5;124m'\u001b[39m\u001b[38;5;124m is not compatible with arrays of bytes/strings.\u001b[39m\u001b[38;5;124m\"\u001b[39m\n\u001b[0;32m   1055\u001b[0m         \u001b[38;5;124m\"\u001b[39m\u001b[38;5;124mConvert your data to numeric values explicitly instead.\u001b[39m\u001b[38;5;124m\"\u001b[39m\n\u001b[0;32m   1056\u001b[0m     )\n",
            "\u001b[1;31mValueError\u001b[0m: Expected a 2-dimensional container but got <class 'pandas.core.series.Series'> instead. Pass a DataFrame containing a single row (i.e. single sample) or a single column (i.e. single feature) instead."
          ]
        }
      ],
      "source": [
        "min_max_scaler = preprocessing.MinMaxScaler()\n",
        "\n",
        "X_train_minmax = min_max_scaler.fit_transform(X_train)\n",
        "\n",
        "X_train_minmax"
      ]
    },
    {
      "cell_type": "code",
      "execution_count": null,
      "id": "51cfbf6d",
      "metadata": {},
      "outputs": [
        {
          "ename": "NameError",
          "evalue": "name 'scaler' is not defined",
          "output_type": "error",
          "traceback": [
            "\u001b[1;31m---------------------------------------------------------------------------\u001b[0m",
            "\u001b[1;31mNameError\u001b[0m                                 Traceback (most recent call last)",
            "Cell \u001b[1;32mIn[358], line 1\u001b[0m\n\u001b[1;32m----> 1\u001b[0m X_scaled \u001b[38;5;241m=\u001b[39m \u001b[43mscaler\u001b[49m\u001b[38;5;241m.\u001b[39mtransform(X_train)\n\u001b[0;32m      3\u001b[0m X_scaled\n",
            "\u001b[1;31mNameError\u001b[0m: name 'scaler' is not defined"
          ]
        }
      ],
      "source": [
        "X_scaled = scaler.transform(X_train)\n",
        "X_scaled"
      ]
    },
    {
      "cell_type": "code",
      "execution_count": null,
      "id": "7c1aa299",
      "metadata": {},
      "outputs": [
        {
          "ename": "NameError",
          "evalue": "name 'scaler' is not defined",
          "output_type": "error",
          "traceback": [
            "\u001b[1;31m---------------------------------------------------------------------------\u001b[0m",
            "\u001b[1;31mNameError\u001b[0m                                 Traceback (most recent call last)",
            "Cell \u001b[1;32mIn[357], line 1\u001b[0m\n\u001b[1;32m----> 1\u001b[0m \u001b[43mscaler\u001b[49m\u001b[38;5;241m.\u001b[39mmean_\n",
            "\u001b[1;31mNameError\u001b[0m: name 'scaler' is not defined"
          ]
        }
      ],
      "source": [
        "scaler.mean"
      ]
    },
    {
      "cell_type": "code",
      "execution_count": null,
      "id": "97cc5b4c",
      "metadata": {},
      "outputs": [
        {
          "ename": "AttributeError",
          "evalue": "'RandomForestClassifier' object has no attribute 'estimators_'",
          "output_type": "error",
          "traceback": [
            "\u001b[1;31m---------------------------------------------------------------------------\u001b[0m",
            "\u001b[1;31mAttributeError\u001b[0m                            Traceback (most recent call last)",
            "Cell \u001b[1;32mIn[354], line 1\u001b[0m\n\u001b[1;32m----> 1\u001b[0m X, y \u001b[38;5;241m=\u001b[39m RandomForestClassifier(random_state\u001b[38;5;241m=\u001b[39m\u001b[38;5;241m42\u001b[39m)\n\u001b[0;32m      2\u001b[0m X_train, X_test, y_train, y_test \u001b[38;5;241m=\u001b[39m train_test_split(X, y, random_state\u001b[38;5;241m=\u001b[39m\u001b[38;5;241m42\u001b[39m)\n",
            "File \u001b[1;32mc:\\Users\\ksmc\\AppData\\Local\\Programs\\Python\\Python39\\lib\\site-packages\\sklearn\\ensemble\\_base.py:166\u001b[0m, in \u001b[0;36mBaseEnsemble.__iter__\u001b[1;34m(self)\u001b[0m\n\u001b[0;32m    164\u001b[0m \u001b[38;5;28;01mdef\u001b[39;00m \u001b[38;5;21m__iter__\u001b[39m(\u001b[38;5;28mself\u001b[39m):\n\u001b[0;32m    165\u001b[0m \u001b[38;5;250m    \u001b[39m\u001b[38;5;124;03m\"\"\"Return iterator over estimators in the ensemble.\"\"\"\u001b[39;00m\n\u001b[1;32m--> 166\u001b[0m     \u001b[38;5;28;01mreturn\u001b[39;00m \u001b[38;5;28miter\u001b[39m(\u001b[38;5;28;43mself\u001b[39;49m\u001b[38;5;241;43m.\u001b[39;49m\u001b[43mestimators_\u001b[49m)\n",
            "\u001b[1;31mAttributeError\u001b[0m: 'RandomForestClassifier' object has no attribute 'estimators_'"
          ]
        }
      ],
      "source": [
        "X, y = RandomForestClassifier(random_state=42)\n",
        "X_train, X_test, y_train, y_test = train_test_split(X, y, random_state=42)"
      ]
    },
    {
      "cell_type": "code",
      "execution_count": null,
      "id": "a818979b",
      "metadata": {},
      "outputs": [
        {
          "ename": "InvalidParameterError",
          "evalue": "The 'drop' parameter of OneHotEncoder must be a str among {'if_binary', 'first'}, an array-like or None. Got 'Pedestrian_Crossing-Physical_Facilities' instead.",
          "output_type": "error",
          "traceback": [
            "\u001b[1;31m---------------------------------------------------------------------------\u001b[0m",
            "\u001b[1;31mInvalidParameterError\u001b[0m                     Traceback (most recent call last)",
            "Cell \u001b[1;32mIn[382], line 1\u001b[0m\n\u001b[1;32m----> 1\u001b[0m drop_enc \u001b[38;5;241m=\u001b[39m \u001b[43mpreprocessing\u001b[49m\u001b[38;5;241;43m.\u001b[39;49m\u001b[43mOneHotEncoder\u001b[49m\u001b[43m(\u001b[49m\u001b[43mdrop\u001b[49m\u001b[38;5;241;43m=\u001b[39;49m\u001b[38;5;124;43m'\u001b[39;49m\u001b[38;5;124;43mPedestrian_Crossing-Physical_Facilities\u001b[39;49m\u001b[38;5;124;43m'\u001b[39;49m\u001b[43m,\u001b[49m\u001b[43mhandle_unknown\u001b[49m\u001b[38;5;241;43m=\u001b[39;49m\u001b[38;5;124;43m'\u001b[39;49m\u001b[38;5;124;43mnan\u001b[39;49m\u001b[38;5;124;43m'\u001b[39;49m\u001b[43m)\u001b[49m\u001b[38;5;241;43m.\u001b[39;49m\u001b[43mfit\u001b[49m\u001b[43m(\u001b[49m\u001b[43mX\u001b[49m\u001b[43m)\u001b[49m\n",
            "File \u001b[1;32mc:\\Users\\ksmc\\AppData\\Local\\Programs\\Python\\Python39\\lib\\site-packages\\sklearn\\base.py:1466\u001b[0m, in \u001b[0;36m_fit_context.<locals>.decorator.<locals>.wrapper\u001b[1;34m(estimator, *args, **kwargs)\u001b[0m\n\u001b[0;32m   1461\u001b[0m partial_fit_and_fitted \u001b[38;5;241m=\u001b[39m (\n\u001b[0;32m   1462\u001b[0m     fit_method\u001b[38;5;241m.\u001b[39m\u001b[38;5;18m__name__\u001b[39m \u001b[38;5;241m==\u001b[39m \u001b[38;5;124m\"\u001b[39m\u001b[38;5;124mpartial_fit\u001b[39m\u001b[38;5;124m\"\u001b[39m \u001b[38;5;129;01mand\u001b[39;00m _is_fitted(estimator)\n\u001b[0;32m   1463\u001b[0m )\n\u001b[0;32m   1465\u001b[0m \u001b[38;5;28;01mif\u001b[39;00m \u001b[38;5;129;01mnot\u001b[39;00m global_skip_validation \u001b[38;5;129;01mand\u001b[39;00m \u001b[38;5;129;01mnot\u001b[39;00m partial_fit_and_fitted:\n\u001b[1;32m-> 1466\u001b[0m     \u001b[43mestimator\u001b[49m\u001b[38;5;241;43m.\u001b[39;49m\u001b[43m_validate_params\u001b[49m\u001b[43m(\u001b[49m\u001b[43m)\u001b[49m\n\u001b[0;32m   1468\u001b[0m \u001b[38;5;28;01mwith\u001b[39;00m config_context(\n\u001b[0;32m   1469\u001b[0m     skip_parameter_validation\u001b[38;5;241m=\u001b[39m(\n\u001b[0;32m   1470\u001b[0m         prefer_skip_nested_validation \u001b[38;5;129;01mor\u001b[39;00m global_skip_validation\n\u001b[0;32m   1471\u001b[0m     )\n\u001b[0;32m   1472\u001b[0m ):\n\u001b[0;32m   1473\u001b[0m     \u001b[38;5;28;01mreturn\u001b[39;00m fit_method(estimator, \u001b[38;5;241m*\u001b[39margs, \u001b[38;5;241m*\u001b[39m\u001b[38;5;241m*\u001b[39mkwargs)\n",
            "File \u001b[1;32mc:\\Users\\ksmc\\AppData\\Local\\Programs\\Python\\Python39\\lib\\site-packages\\sklearn\\base.py:666\u001b[0m, in \u001b[0;36mBaseEstimator._validate_params\u001b[1;34m(self)\u001b[0m\n\u001b[0;32m    658\u001b[0m \u001b[38;5;28;01mdef\u001b[39;00m \u001b[38;5;21m_validate_params\u001b[39m(\u001b[38;5;28mself\u001b[39m):\n\u001b[0;32m    659\u001b[0m \u001b[38;5;250m    \u001b[39m\u001b[38;5;124;03m\"\"\"Validate types and values of constructor parameters\u001b[39;00m\n\u001b[0;32m    660\u001b[0m \n\u001b[0;32m    661\u001b[0m \u001b[38;5;124;03m    The expected type and values must be defined in the `_parameter_constraints`\u001b[39;00m\n\u001b[1;32m   (...)\u001b[0m\n\u001b[0;32m    664\u001b[0m \u001b[38;5;124;03m    accepted constraints.\u001b[39;00m\n\u001b[0;32m    665\u001b[0m \u001b[38;5;124;03m    \"\"\"\u001b[39;00m\n\u001b[1;32m--> 666\u001b[0m     \u001b[43mvalidate_parameter_constraints\u001b[49m\u001b[43m(\u001b[49m\n\u001b[0;32m    667\u001b[0m \u001b[43m        \u001b[49m\u001b[38;5;28;43mself\u001b[39;49m\u001b[38;5;241;43m.\u001b[39;49m\u001b[43m_parameter_constraints\u001b[49m\u001b[43m,\u001b[49m\n\u001b[0;32m    668\u001b[0m \u001b[43m        \u001b[49m\u001b[38;5;28;43mself\u001b[39;49m\u001b[38;5;241;43m.\u001b[39;49m\u001b[43mget_params\u001b[49m\u001b[43m(\u001b[49m\u001b[43mdeep\u001b[49m\u001b[38;5;241;43m=\u001b[39;49m\u001b[38;5;28;43;01mFalse\u001b[39;49;00m\u001b[43m)\u001b[49m\u001b[43m,\u001b[49m\n\u001b[0;32m    669\u001b[0m \u001b[43m        \u001b[49m\u001b[43mcaller_name\u001b[49m\u001b[38;5;241;43m=\u001b[39;49m\u001b[38;5;28;43mself\u001b[39;49m\u001b[38;5;241;43m.\u001b[39;49m\u001b[38;5;18;43m__class__\u001b[39;49m\u001b[38;5;241;43m.\u001b[39;49m\u001b[38;5;18;43m__name__\u001b[39;49m\u001b[43m,\u001b[49m\n\u001b[0;32m    670\u001b[0m \u001b[43m    \u001b[49m\u001b[43m)\u001b[49m\n",
            "File \u001b[1;32mc:\\Users\\ksmc\\AppData\\Local\\Programs\\Python\\Python39\\lib\\site-packages\\sklearn\\utils\\_param_validation.py:95\u001b[0m, in \u001b[0;36mvalidate_parameter_constraints\u001b[1;34m(parameter_constraints, params, caller_name)\u001b[0m\n\u001b[0;32m     89\u001b[0m \u001b[38;5;28;01melse\u001b[39;00m:\n\u001b[0;32m     90\u001b[0m     constraints_str \u001b[38;5;241m=\u001b[39m (\n\u001b[0;32m     91\u001b[0m         \u001b[38;5;124mf\u001b[39m\u001b[38;5;124m\"\u001b[39m\u001b[38;5;132;01m{\u001b[39;00m\u001b[38;5;124m'\u001b[39m\u001b[38;5;124m, \u001b[39m\u001b[38;5;124m'\u001b[39m\u001b[38;5;241m.\u001b[39mjoin([\u001b[38;5;28mstr\u001b[39m(c)\u001b[38;5;250m \u001b[39m\u001b[38;5;28;01mfor\u001b[39;00m\u001b[38;5;250m \u001b[39mc\u001b[38;5;250m \u001b[39m\u001b[38;5;129;01min\u001b[39;00m\u001b[38;5;250m \u001b[39mconstraints[:\u001b[38;5;241m-\u001b[39m\u001b[38;5;241m1\u001b[39m]])\u001b[38;5;132;01m}\u001b[39;00m\u001b[38;5;124m or\u001b[39m\u001b[38;5;124m\"\u001b[39m\n\u001b[0;32m     92\u001b[0m         \u001b[38;5;124mf\u001b[39m\u001b[38;5;124m\"\u001b[39m\u001b[38;5;124m \u001b[39m\u001b[38;5;132;01m{\u001b[39;00mconstraints[\u001b[38;5;241m-\u001b[39m\u001b[38;5;241m1\u001b[39m]\u001b[38;5;132;01m}\u001b[39;00m\u001b[38;5;124m\"\u001b[39m\n\u001b[0;32m     93\u001b[0m     )\n\u001b[1;32m---> 95\u001b[0m \u001b[38;5;28;01mraise\u001b[39;00m InvalidParameterError(\n\u001b[0;32m     96\u001b[0m     \u001b[38;5;124mf\u001b[39m\u001b[38;5;124m\"\u001b[39m\u001b[38;5;124mThe \u001b[39m\u001b[38;5;132;01m{\u001b[39;00mparam_name\u001b[38;5;132;01m!r}\u001b[39;00m\u001b[38;5;124m parameter of \u001b[39m\u001b[38;5;132;01m{\u001b[39;00mcaller_name\u001b[38;5;132;01m}\u001b[39;00m\u001b[38;5;124m must be\u001b[39m\u001b[38;5;124m\"\u001b[39m\n\u001b[0;32m     97\u001b[0m     \u001b[38;5;124mf\u001b[39m\u001b[38;5;124m\"\u001b[39m\u001b[38;5;124m \u001b[39m\u001b[38;5;132;01m{\u001b[39;00mconstraints_str\u001b[38;5;132;01m}\u001b[39;00m\u001b[38;5;124m. Got \u001b[39m\u001b[38;5;132;01m{\u001b[39;00mparam_val\u001b[38;5;132;01m!r}\u001b[39;00m\u001b[38;5;124m instead.\u001b[39m\u001b[38;5;124m\"\u001b[39m\n\u001b[0;32m     98\u001b[0m )\n",
            "\u001b[1;31mInvalidParameterError\u001b[0m: The 'drop' parameter of OneHotEncoder must be a str among {'if_binary', 'first'}, an array-like or None. Got 'Pedestrian_Crossing-Physical_Facilities' instead."
          ]
        }
      ],
      "source": [
        "drop_enc = preprocessing.OneHotEncoder(drop='Pedestrian_Crossing-Physical_Facilities',handle_unknown='nan').fit(X)"
      ]
    },
    {
      "cell_type": "code",
      "execution_count": null,
      "id": "3b3d5fb9",
      "metadata": {},
      "outputs": [
        {
          "ename": "TypeError",
          "evalue": "'DataFrame' object is not callable",
          "output_type": "error",
          "traceback": [
            "\u001b[1;31m---------------------------------------------------------------------------\u001b[0m",
            "\u001b[1;31mTypeError\u001b[0m                                 Traceback (most recent call last)",
            "Cell \u001b[1;32mIn[380], line 1\u001b[0m\n\u001b[1;32m----> 1\u001b[0m drop_enc \u001b[38;5;241m=\u001b[39m \u001b[43mdf\u001b[49m\u001b[43m(\u001b[49m\u001b[43mdrop\u001b[49m\u001b[38;5;241;43m=\u001b[39;49m\u001b[38;5;124;43m'\u001b[39;49m\u001b[38;5;124;43mYear\u001b[39;49m\u001b[38;5;124;43m'\u001b[39;49m\u001b[43m)\u001b[49m\u001b[38;5;241m.\u001b[39mfit(X)\n",
            "\u001b[1;31mTypeError\u001b[0m: 'DataFrame' object is not callable"
          ]
        }
      ],
      "source": [
        "drop_enc = df(drop='Year').fit(X)"
      ]
    },
    {
      "cell_type": "code",
      "execution_count": null,
      "id": "bff8bb97",
      "metadata": {},
      "outputs": [],
      "source": []
    },
    {
      "cell_type": "code",
      "execution_count": null,
      "id": "835b7773",
      "metadata": {},
      "outputs": [],
      "source": [
        "scaler = StandardScaler().fit(X_train)\n",
        "scaler"
      ]
    },
    {
      "cell_type": "code",
      "execution_count": null,
      "id": "b682a5d2",
      "metadata": {},
      "outputs": [],
      "source": [
        "X_scaled = scaler.transform(X_train)\n",
        "X_scaled"
      ]
    },
    {
      "cell_type": "code",
      "execution_count": null,
      "id": "ae149b82",
      "metadata": {},
      "outputs": [],
      "source": []
    },
    {
      "cell_type": "code",
      "execution_count": null,
      "id": "458c4d8d",
      "metadata": {},
      "outputs": [
        {
          "ename": "AttributeError",
          "evalue": "'function' object has no attribute 'df'",
          "output_type": "error",
          "traceback": [
            "\u001b[1;31m---------------------------------------------------------------------------\u001b[0m",
            "\u001b[1;31mAttributeError\u001b[0m                            Traceback (most recent call last)",
            "Cell \u001b[1;32mIn[118], line 1\u001b[0m\n\u001b[1;32m----> 1\u001b[0m \u001b[43mdisplay\u001b[49m\u001b[38;5;241;43m.\u001b[39;49m\u001b[43mdf\u001b[49m()\n",
            "\u001b[1;31mAttributeError\u001b[0m: 'function' object has no attribute 'df'"
          ]
        }
      ],
      "source": [
        "df['Accident_Index']\n",
        "df['Location_Easting_OSGR']\n",
        "df['Longitude']\n",
        "df['Police_Force']\n",
        "df['Accident_Severity']\n",
        "df['Number_of_Vehicles']\n",
        "df['Number_of_Casualties']\n",
        "df['Date']\n",
        "df['Day_of_Week']\n",
        "df['Time']\n",
        "df['Local_Authority_(District)']\n",
        "df['Local_Authority_(Highway)']\n",
        "df['1st_Road_Class']\n",
        "df['Road_Type']\n",
        "df['Speed_limit']\n",
        "df['2nd_Road_Class']"
      ]
    },
    {
      "cell_type": "code",
      "execution_count": null,
      "id": "4866230b",
      "metadata": {},
      "outputs": [],
      "source": [
        "sns.relplot(\n",
        "    data=Last_Three_Months_2005, x=\"Road_Surface_Conditions\", y=\"Pedestrian_Crossing-Human_Control\",\n",
        "    size=\"Number_of_Vehicles\", sizes=(150, 200))"
      ]
    },
    {
      "cell_type": "code",
      "execution_count": null,
      "id": "67526cae",
      "metadata": {},
      "outputs": [
        {
          "data": {
            "text/plain": [
              "<seaborn.axisgrid.FacetGrid at 0x28d52408c70>"
            ]
          },
          "execution_count": 163,
          "metadata": {},
          "output_type": "execute_result"
        },
        {
          "data": {
            "image/png": "[encoded data removed]",
            "text/plain": [
              "<Figure size 500x500 with 1 Axes>"
            ]
          },
          "metadata": {},
          "output_type": "display_data"
        }
      ],
      "source": [
        "sns.displot(Last_Three_Months_2005, x=\"Road_Type\",y='Number_of_Vehicles')"
      ]
    },
    {
      "cell_type": "code",
      "execution_count": null,
      "id": "d14571c2",
      "metadata": {},
      "outputs": [
        {
          "data": {
            "text/plain": [
              "<seaborn.axisgrid.FacetGrid at 0x28d6e208310>"
            ]
          },
          "execution_count": 162,
          "metadata": {},
          "output_type": "execute_result"
        },
        {
          "data": {
            "image/png": "[encoded data removed]",
            "text/plain": [
              "<Figure size 500x500 with 1 Axes>"
            ]
          },
          "metadata": {},
          "output_type": "display_data"
        }
      ],
      "source": [
        "sns.displot(Last_Three_Months_2005, x='Accident_Severity', y=\"Number_of_Casualties\")"
      ]
    },
    {
      "cell_type": "code",
      "execution_count": null,
      "id": "c6ffc10f",
      "metadata": {},
      "outputs": [
        {
          "data": {
            "text/plain": [
              "<seaborn.axisgrid.PairGrid at 0x28d69b4ab50>"
            ]
          },
          "execution_count": 144,
          "metadata": {},
          "output_type": "execute_result"
        },
        {
          "data": {
            "image/png": "[encoded data removed]",
            "text/plain": [
              "<Figure size 500x500 with 4 Axes>"
            ]
          },
          "metadata": {},
          "output_type": "display_data"
        }
      ],
      "source": [
        "g = sns.PairGrid(Last_Three_Months_2005, vars=['Local_Authority_(Highway)', 'Local_Authority_(District)'], hue=\"Speed_limit\")\n",
        "g.map(sns.scatterplot)"
      ]
    },
    {
      "cell_type": "code",
      "execution_count": null,
      "id": "c5cd6b35",
      "metadata": {},
      "outputs": [
        {
          "data": {
            "text/plain": [
              "<Axes: xlabel='Longitude', ylabel='Latitude'>"
            ]
          },
          "execution_count": 138,
          "metadata": {},
          "output_type": "execute_result"
        },
        {
          "data": {
            "image/png": "[encoded data removed]",
            "text/plain": [
              "<Figure size 640x480 with 2 Axes>"
            ]
          },
          "metadata": {},
          "output_type": "display_data"
        }
      ],
      "source": [
        "Last_Three_Months_2005.plot.hexbin(x=\"Longitude\", y=\"Latitude\", alpha=0.5)"
      ]
    },
    {
      "cell_type": "code",
      "execution_count": null,
      "id": "7774734b",
      "metadata": {},
      "outputs": [
        {
          "data": {
            "text/plain": [
              "<seaborn.axisgrid.FacetGrid at 0x28d69a846a0>"
            ]
          },
          "execution_count": 147,
          "metadata": {},
          "output_type": "execute_result"
        },
        {
          "data": {
            "image/png": "[encoded data removed]",
            "text/plain": [
              "<Figure size 511.111x500 with 1 Axes>"
            ]
          },
          "metadata": {},
          "output_type": "display_data"
        }
      ],
      "source": [
        "sns.catplot(data=Last_Three_Months_2005.query(\"Speed_limit != 0\"), x=\"2nd_Road_Class\", y=\"Police_Force\")"
      ]
    },
    {
      "cell_type": "code",
      "execution_count": null,
      "id": "5a856eaa",
      "metadata": {},
      "outputs": [
        {
          "name": "stderr",
          "output_type": "stream",
          "text": [
            "C:\\Users\\ksmc\\AppData\\Local\\Temp\\ipykernel_6216\\3322302520.py:1: SettingWithCopyWarning: \n",
            "A value is trying to be set on a copy of a slice from a DataFrame.\n",
            "Try using .loc[row_indexer,col_indexer] = value instead\n",
            "\n",
            "See the caveats in the documentation: https://pandas.pydata.org/pandas-docs/stable/user_guide/indexing.html#returning-a-view-versus-a-copy\n",
            "  Last_Three_Months_2005['Count'] = Last_Three_Months_2005['Unnamed: 0']\n"
          ]
        }
      ],
      "source": [
        "Last_Three_Months_2005['Count'] = Last_Three_Months_2005['Unnamed: 0'] "
      ]
    },
    {
      "cell_type": "code",
      "execution_count": null,
      "id": "e13c67cc",
      "metadata": {},
      "outputs": [
        {
          "data": {
            "text/html": [
              "<div>\n",
              "<style scoped>\n",
              "    .dataframe tbody tr th:only-of-type {\n",
              "        vertical-align: middle;\n",
              "    }\n",
              "\n",
              "    .dataframe tbody tr th {\n",
              "        vertical-align: top;\n",
              "    }\n",
              "\n",
              "    .dataframe thead th {\n",
              "        text-align: right;\n",
              "    }\n",
              "</style>\n",
              "<table border=\"1\" class=\"dataframe\">\n",
              "  <thead>\n",
              "    <tr style=\"text-align: right;\">\n",
              "      <th></th>\n",
              "      <th>Unnamed: 0</th>\n",
              "      <th>Accident_Index</th>\n",
              "      <th>Location_Easting_OSGR</th>\n",
              "      <th>Location_Northing_OSGR</th>\n",
              "      <th>Longitude</th>\n",
              "      <th>Latitude</th>\n",
              "      <th>Police_Force</th>\n",
              "      <th>Accident_Severity</th>\n",
              "      <th>Number_of_Vehicles</th>\n",
              "      <th>Number_of_Casualties</th>\n",
              "      <th>...</th>\n",
              "      <th>Pedestrian_Crossing-Human_Control</th>\n",
              "      <th>Pedestrian_Crossing-Physical_Facilities</th>\n",
              "      <th>Light_Conditions</th>\n",
              "      <th>Weather_Conditions</th>\n",
              "      <th>Road_Surface_Conditions</th>\n",
              "      <th>Urban_or_Rural_Area</th>\n",
              "      <th>Did_Police_Officer_Attend_Scene_of_Accident</th>\n",
              "      <th>LSOA_of_Accident_Location</th>\n",
              "      <th>Year</th>\n",
              "      <th>Count</th>\n",
              "    </tr>\n",
              "  </thead>\n",
              "  <tbody>\n",
              "    <tr>\n",
              "      <th>43544</th>\n",
              "      <td>72525</td>\n",
              "      <td>200514E108605</td>\n",
              "      <td>442970.0</td>\n",
              "      <td>383920.0</td>\n",
              "      <td>-1.355944</td>\n",
              "      <td>53.350417</td>\n",
              "      <td>14</td>\n",
              "      <td>2</td>\n",
              "      <td>2.0</td>\n",
              "      <td>1</td>\n",
              "      <td>...</td>\n",
              "      <td>None within 50 metres</td>\n",
              "      <td>No physical crossing within 50 meters</td>\n",
              "      <td>Darkness: Street lights present and lit</td>\n",
              "      <td>Fine without high winds</td>\n",
              "      <td>Dry</td>\n",
              "      <td>2.0</td>\n",
              "      <td>Yes</td>\n",
              "      <td>E01008034</td>\n",
              "      <td>2005.0</td>\n",
              "      <td>72525</td>\n",
              "    </tr>\n",
              "  </tbody>\n",
              "</table>\n",
              "<p>1 rows × 31 columns</p>\n",
              "</div>"
            ],
            "text/plain": [
              "       Unnamed: 0 Accident_Index  Location_Easting_OSGR  \\\n",
              "43544       72525  200514E108605               442970.0   \n",
              "\n",
              "       Location_Northing_OSGR  Longitude   Latitude  Police_Force  \\\n",
              "43544                383920.0  -1.355944  53.350417            14   \n",
              "\n",
              "       Accident_Severity  Number_of_Vehicles  Number_of_Casualties  ...  \\\n",
              "43544                  2                 2.0                     1  ...   \n",
              "\n",
              "      Pedestrian_Crossing-Human_Control  \\\n",
              "43544             None within 50 metres   \n",
              "\n",
              "       Pedestrian_Crossing-Physical_Facilities  \\\n",
              "43544    No physical crossing within 50 meters   \n",
              "\n",
              "                              Light_Conditions       Weather_Conditions  \\\n",
              "43544  Darkness: Street lights present and lit  Fine without high winds   \n",
              "\n",
              "      Road_Surface_Conditions  Urban_or_Rural_Area  \\\n",
              "43544                     Dry                  2.0   \n",
              "\n",
              "       Did_Police_Officer_Attend_Scene_of_Accident LSOA_of_Accident_Location  \\\n",
              "43544                                          Yes                 E01008034   \n",
              "\n",
              "         Year  Count  \n",
              "43544  2005.0  72525  \n",
              "\n",
              "[1 rows x 31 columns]"
            ]
          },
          "execution_count": 396,
          "metadata": {},
          "output_type": "execute_result"
        }
      ],
      "source": [
        "Last_Three_Months_2005.sample()"
      ]
    },
    {
      "cell_type": "code",
      "execution_count": null,
      "id": "08923e54",
      "metadata": {},
      "outputs": [
        {
          "ename": "NameError",
          "evalue": "name 'data' is not defined",
          "output_type": "error",
          "traceback": [
            "\u001b[1;31m---------------------------------------------------------------------------\u001b[0m",
            "\u001b[1;31mNameError\u001b[0m                                 Traceback (most recent call last)",
            "Cell \u001b[1;32mIn[448], line 1\u001b[0m\n\u001b[1;32m----> 1\u001b[0m sns\u001b[38;5;241m.\u001b[39mheatmap(\u001b[43mdata\u001b[49m, annot\u001b[38;5;241m=\u001b[39m\u001b[38;5;28;01mTrue\u001b[39;00m)\n",
            "\u001b[1;31mNameError\u001b[0m: name 'data' is not defined"
          ]
        }
      ],
      "source": [
        "ax = sns.heatmap(Last_Three_Months_2005, annot=True)\n",
        "ax.set(xlabel=\"\", ylabel=\"\")\n",
        "ax.xaxis.tick_top()"
      ]
    },
    {
      "cell_type": "markdown",
      "id": "2104eb8e",
      "metadata": {
        "id": "2104eb8e"
      },
      "source": [
        "# Split the Dataset\n",
        "\n",
        "1. **Define Features and Target**: Separate the dataset into features (`X`) and the target variable (`y`).\n",
        "\n",
        "2. **Train-Test Split**: Use the `train_test_split` function from `sklearn.model_selection` to split the data."
      ]
    },
    {
      "cell_type": "code",
      "execution_count": null,
      "id": "e93d2738",
      "metadata": {},
      "outputs": [
        {
          "data": {
            "text/html": [
              "<div>\n",
              "<style scoped>\n",
              "    .dataframe tbody tr th:only-of-type {\n",
              "        vertical-align: middle;\n",
              "    }\n",
              "\n",
              "    .dataframe tbody tr th {\n",
              "        vertical-align: top;\n",
              "    }\n",
              "\n",
              "    .dataframe thead th {\n",
              "        text-align: right;\n",
              "    }\n",
              "</style>\n",
              "<table border=\"1\" class=\"dataframe\">\n",
              "  <thead>\n",
              "    <tr style=\"text-align: right;\">\n",
              "      <th></th>\n",
              "      <th>Unnamed: 0</th>\n",
              "      <th>Accident_Index</th>\n",
              "      <th>Location_Easting_OSGR</th>\n",
              "      <th>Location_Northing_OSGR</th>\n",
              "      <th>Longitude</th>\n",
              "      <th>Latitude</th>\n",
              "      <th>Police_Force</th>\n",
              "      <th>Accident_Severity</th>\n",
              "      <th>Number_of_Vehicles</th>\n",
              "      <th>Number_of_Casualties</th>\n",
              "      <th>...</th>\n",
              "      <th>2nd_Road_Number</th>\n",
              "      <th>Pedestrian_Crossing-Human_Control</th>\n",
              "      <th>Pedestrian_Crossing-Physical_Facilities</th>\n",
              "      <th>Light_Conditions</th>\n",
              "      <th>Weather_Conditions</th>\n",
              "      <th>Road_Surface_Conditions</th>\n",
              "      <th>Urban_or_Rural_Area</th>\n",
              "      <th>Did_Police_Officer_Attend_Scene_of_Accident</th>\n",
              "      <th>LSOA_of_Accident_Location</th>\n",
              "      <th>Year</th>\n",
              "    </tr>\n",
              "  </thead>\n",
              "  <tbody>\n",
              "    <tr>\n",
              "      <th>10</th>\n",
              "      <td>32790</td>\n",
              "      <td>200504EL05010</td>\n",
              "      <td>374680.0</td>\n",
              "      <td>428440.0</td>\n",
              "      <td>-2.385472</td>\n",
              "      <td>53.751703</td>\n",
              "      <td>4</td>\n",
              "      <td>3</td>\n",
              "      <td>2.0</td>\n",
              "      <td>2</td>\n",
              "      <td>...</td>\n",
              "      <td>0.0</td>\n",
              "      <td>None within 50 metres</td>\n",
              "      <td>No physical crossing within 50 meters</td>\n",
              "      <td>Daylight: Street light present</td>\n",
              "      <td>Unknown</td>\n",
              "      <td>Dry</td>\n",
              "      <td>1.0</td>\n",
              "      <td>Yes</td>\n",
              "      <td>E01025047</td>\n",
              "      <td>2005.0</td>\n",
              "    </tr>\n",
              "    <tr>\n",
              "      <th>16</th>\n",
              "      <td>46997</td>\n",
              "      <td>200506P923358</td>\n",
              "      <td>393070.0</td>\n",
              "      <td>412270.0</td>\n",
              "      <td>-2.106214</td>\n",
              "      <td>53.606935</td>\n",
              "      <td>6</td>\n",
              "      <td>3</td>\n",
              "      <td>2.0</td>\n",
              "      <td>1</td>\n",
              "      <td>...</td>\n",
              "      <td>0.0</td>\n",
              "      <td>None within 50 metres</td>\n",
              "      <td>No physical crossing within 50 meters</td>\n",
              "      <td>Darkness: Street lights present and lit</td>\n",
              "      <td>Fine without high winds</td>\n",
              "      <td>Wet/Damp</td>\n",
              "      <td>1.0</td>\n",
              "      <td>Yes</td>\n",
              "      <td>E01005558</td>\n",
              "      <td>2005.0</td>\n",
              "    </tr>\n",
              "    <tr>\n",
              "      <th>94</th>\n",
              "      <td>33599</td>\n",
              "      <td>200504FB05042</td>\n",
              "      <td>383060.0</td>\n",
              "      <td>432380.0</td>\n",
              "      <td>-2.258605</td>\n",
              "      <td>53.787458</td>\n",
              "      <td>4</td>\n",
              "      <td>3</td>\n",
              "      <td>NaN</td>\n",
              "      <td>1</td>\n",
              "      <td>...</td>\n",
              "      <td>0.0</td>\n",
              "      <td>None within 50 metres</td>\n",
              "      <td>No physical crossing within 50 meters</td>\n",
              "      <td>Daylight: Street light present</td>\n",
              "      <td>Fine without high winds</td>\n",
              "      <td>Dry</td>\n",
              "      <td>1.0</td>\n",
              "      <td>Yes</td>\n",
              "      <td>E01024907</td>\n",
              "      <td>2005.0</td>\n",
              "    </tr>\n",
              "    <tr>\n",
              "      <th>131</th>\n",
              "      <td>76857</td>\n",
              "      <td>2005170S11135</td>\n",
              "      <td>444920.0</td>\n",
              "      <td>521850.0</td>\n",
              "      <td>-1.306366</td>\n",
              "      <td>54.589866</td>\n",
              "      <td>17</td>\n",
              "      <td>3</td>\n",
              "      <td>2.0</td>\n",
              "      <td>1</td>\n",
              "      <td>...</td>\n",
              "      <td>0.0</td>\n",
              "      <td>None within 50 metres</td>\n",
              "      <td>No physical crossing within 50 meters</td>\n",
              "      <td>Daylight: Street light present</td>\n",
              "      <td>Fine without high winds</td>\n",
              "      <td>Dry</td>\n",
              "      <td>1.0</td>\n",
              "      <td>Yes</td>\n",
              "      <td>E01012261</td>\n",
              "      <td>2005.0</td>\n",
              "    </tr>\n",
              "    <tr>\n",
              "      <th>183</th>\n",
              "      <td>76188</td>\n",
              "      <td>2005170L13045</td>\n",
              "      <td>457050.0</td>\n",
              "      <td>512990.0</td>\n",
              "      <td>-1.120388</td>\n",
              "      <td>54.509029</td>\n",
              "      <td>17</td>\n",
              "      <td>3</td>\n",
              "      <td>2.0</td>\n",
              "      <td>3</td>\n",
              "      <td>...</td>\n",
              "      <td>0.0</td>\n",
              "      <td>None within 50 metres</td>\n",
              "      <td>No physical crossing within 50 meters</td>\n",
              "      <td>Darkness: Street lights present and lit</td>\n",
              "      <td>Fine without high winds</td>\n",
              "      <td>Wet/Damp</td>\n",
              "      <td>2.0</td>\n",
              "      <td>Yes</td>\n",
              "      <td>E01012124</td>\n",
              "      <td>2005.0</td>\n",
              "    </tr>\n",
              "  </tbody>\n",
              "</table>\n",
              "<p>5 rows × 30 columns</p>\n",
              "</div>"
            ],
            "text/plain": [
              "     Unnamed: 0 Accident_Index  Location_Easting_OSGR  Location_Northing_OSGR  \\\n",
              "10        32790  200504EL05010               374680.0                428440.0   \n",
              "16        46997  200506P923358               393070.0                412270.0   \n",
              "94        33599  200504FB05042               383060.0                432380.0   \n",
              "131       76857  2005170S11135               444920.0                521850.0   \n",
              "183       76188  2005170L13045               457050.0                512990.0   \n",
              "\n",
              "     Longitude   Latitude  Police_Force  Accident_Severity  \\\n",
              "10   -2.385472  53.751703             4                  3   \n",
              "16   -2.106214  53.606935             6                  3   \n",
              "94   -2.258605  53.787458             4                  3   \n",
              "131  -1.306366  54.589866            17                  3   \n",
              "183  -1.120388  54.509029            17                  3   \n",
              "\n",
              "     Number_of_Vehicles  Number_of_Casualties  ... 2nd_Road_Number  \\\n",
              "10                  2.0                     2  ...             0.0   \n",
              "16                  2.0                     1  ...             0.0   \n",
              "94                  NaN                     1  ...             0.0   \n",
              "131                 2.0                     1  ...             0.0   \n",
              "183                 2.0                     3  ...             0.0   \n",
              "\n",
              "     Pedestrian_Crossing-Human_Control  \\\n",
              "10               None within 50 metres   \n",
              "16               None within 50 metres   \n",
              "94               None within 50 metres   \n",
              "131              None within 50 metres   \n",
              "183              None within 50 metres   \n",
              "\n",
              "    Pedestrian_Crossing-Physical_Facilities  \\\n",
              "10    No physical crossing within 50 meters   \n",
              "16    No physical crossing within 50 meters   \n",
              "94    No physical crossing within 50 meters   \n",
              "131   No physical crossing within 50 meters   \n",
              "183   No physical crossing within 50 meters   \n",
              "\n",
              "                            Light_Conditions       Weather_Conditions  \\\n",
              "10            Daylight: Street light present                  Unknown   \n",
              "16   Darkness: Street lights present and lit  Fine without high winds   \n",
              "94            Daylight: Street light present  Fine without high winds   \n",
              "131           Daylight: Street light present  Fine without high winds   \n",
              "183  Darkness: Street lights present and lit  Fine without high winds   \n",
              "\n",
              "     Road_Surface_Conditions  Urban_or_Rural_Area  \\\n",
              "10                       Dry                  1.0   \n",
              "16                  Wet/Damp                  1.0   \n",
              "94                       Dry                  1.0   \n",
              "131                      Dry                  1.0   \n",
              "183                 Wet/Damp                  2.0   \n",
              "\n",
              "    Did_Police_Officer_Attend_Scene_of_Accident  LSOA_of_Accident_Location  \\\n",
              "10                                          Yes                  E01025047   \n",
              "16                                          Yes                  E01005558   \n",
              "94                                          Yes                  E01024907   \n",
              "131                                         Yes                  E01012261   \n",
              "183                                         Yes                  E01012124   \n",
              "\n",
              "       Year  \n",
              "10   2005.0  \n",
              "16   2005.0  \n",
              "94   2005.0  \n",
              "131  2005.0  \n",
              "183  2005.0  \n",
              "\n",
              "[5 rows x 30 columns]"
            ]
          },
          "execution_count": 374,
          "metadata": {},
          "output_type": "execute_result"
        }
      ],
      "source": [
        "Last_Three_Months_2005.head()"
      ]
    },
    {
      "cell_type": "code",
      "execution_count": null,
      "id": "f3a3d4e9",
      "metadata": {
        "id": "f3a3d4e9"
      },
      "outputs": [],
      "source": [
        "X = ['Did_Police_Officer_Attend_Scene_of_Accident']\n",
        "Y = ['Number_of_Vehicles']"
      ]
    },
    {
      "cell_type": "markdown",
      "id": "bdcb9a0a",
      "metadata": {
        "id": "bdcb9a0a"
      },
      "source": [
        "# Initialize and Train the Classifiers"
      ]
    },
    {
      "cell_type": "markdown",
      "id": "ea773220",
      "metadata": {
        "id": "ea773220"
      },
      "source": [
        "## Bagging\n",
        "Chose the bagging model to go with and initialize and train a the model."
      ]
    },
    {
      "cell_type": "code",
      "execution_count": null,
      "id": "3e29fd42",
      "metadata": {
        "id": "3e29fd42"
      },
      "outputs": [],
      "source": [
        "from sklearn.ensemble import BaggingClassifier\n",
        "from sklearn.neighbors import KNeighborsClassifier\n",
        "\n",
        "bagging = BaggingClassifier(KNeighborsClassifier(),\n",
        "\n",
        "                            max_samples=0.5, max_features=0.5)"
      ]
    },
    {
      "cell_type": "code",
      "execution_count": null,
      "id": "59f541e3",
      "metadata": {},
      "outputs": [],
      "source": [
        "Y = ['Speed_limit']\n"
      ]
    },
    {
      "cell_type": "code",
      "execution_count": null,
      "id": "3dd149b1",
      "metadata": {},
      "outputs": [],
      "source": [
        "drop_enc = preprocessing.OneHotEncoder(drop='first').fit(X)\n",
        "scaler = preprocessing.StandardScaler().fit(X_train)\n",
        "scaler"
      ]
    },
    {
      "cell_type": "code",
      "execution_count": null,
      "id": "6454d592",
      "metadata": {},
      "outputs": [],
      "source": [
        "X_train, X_test, y_train, y_test = train_test_split(X, Y, random_state=0)"
      ]
    },
    {
      "cell_type": "code",
      "execution_count": null,
      "id": "24ab8075",
      "metadata": {},
      "outputs": [],
      "source": [
        "from sklearn import svm\n",
        "from sklearn.model_selection import cross_val_score\n",
        "clf = svm.SVC(kernel='linear', C=1, random_state=42)\n",
        "scores = cross_val_score(clf, X,y, cv=5)\n",
        "scores"
      ]
    },
    {
      "cell_type": "markdown",
      "id": "fb3a2438",
      "metadata": {
        "id": "fb3a2438"
      },
      "source": [
        "### Evaluate the model performance"
      ]
    },
    {
      "cell_type": "code",
      "execution_count": null,
      "id": "38d965b4",
      "metadata": {
        "id": "38d965b4"
      },
      "outputs": [
        {
          "ename": "TypeError",
          "evalue": "'DataFrame' object is not callable",
          "output_type": "error",
          "traceback": [
            "\u001b[1;31m---------------------------------------------------------------------------\u001b[0m",
            "\u001b[1;31mTypeError\u001b[0m                                 Traceback (most recent call last)",
            "Cell \u001b[1;32mIn[377], line 1\u001b[0m\n\u001b[1;32m----> 1\u001b[0m X, y \u001b[38;5;241m=\u001b[39m \u001b[43mdf\u001b[49m\u001b[43m(\u001b[49m\u001b[43mrandom_state\u001b[49m\u001b[38;5;241;43m=\u001b[39;49m\u001b[38;5;241;43m0\u001b[39;49m\u001b[43m)\u001b[49m\n\u001b[0;32m      3\u001b[0m X_train, X_test \u001b[38;5;241m=\u001b[39m X[:\u001b[38;5;241m120\u001b[39m], X[\u001b[38;5;241m2000\u001b[39m:]\n\u001b[0;32m      5\u001b[0m y_train, y_test \u001b[38;5;241m=\u001b[39m y[:\u001b[38;5;241m122\u001b[39m], y[\u001b[38;5;241m2000\u001b[39m:]\n",
            "\u001b[1;31mTypeError\u001b[0m: 'DataFrame' object is not callable"
          ]
        }
      ],
      "source": [
        "\n",
        "X, y = df(random_state=0)\n",
        "\n",
        "X_train, X_test = X[:120], X[2000:]\n",
        "\n",
        "y_train, y_test = y[:122], y[2000:]\n",
        "\n",
        "clf = BoostingClassifier(max_iter=100).fit(X_train, y_train)\n",
        "clf.score(X_test, y_test)"
      ]
    },
    {
      "cell_type": "markdown",
      "id": "1790e79e",
      "metadata": {
        "id": "1790e79e"
      },
      "source": [
        "## Boosting\n",
        "Chose the Boosting model to go with and initialize and train a the model."
      ]
    },
    {
      "cell_type": "code",
      "execution_count": null,
      "id": "bd8ef061",
      "metadata": {
        "id": "bd8ef061"
      },
      "outputs": [],
      "source": [
        "from sklearn.ensemble import HistGradientBoostingClassifier"
      ]
    },
    {
      "cell_type": "markdown",
      "id": "6646ab65",
      "metadata": {
        "id": "6646ab65"
      },
      "source": [
        "### Evaluate the model performance"
      ]
    },
    {
      "cell_type": "code",
      "execution_count": null,
      "id": "d9915c9c",
      "metadata": {
        "id": "d9915c9c"
      },
      "outputs": [],
      "source": []
    },
    {
      "cell_type": "markdown",
      "id": "fc2255c5",
      "metadata": {
        "id": "fc2255c5"
      },
      "source": [
        "## Stacking Classifier\n",
        "Combine the previous classifiers as the base models using a Stacking Classifier."
      ]
    },
    {
      "cell_type": "code",
      "execution_count": null,
      "id": "23b6f377",
      "metadata": {
        "id": "23b6f377"
      },
      "outputs": [],
      "source": [
        "from sklearn.ensemble import StackingClassifier"
      ]
    },
    {
      "cell_type": "markdown",
      "id": "cb295dff",
      "metadata": {
        "id": "cb295dff"
      },
      "source": [
        "### Define meta-learner (LogisticRegression)"
      ]
    },
    {
      "cell_type": "code",
      "execution_count": null,
      "id": "7b4eb2a7",
      "metadata": {
        "id": "7b4eb2a7"
      },
      "outputs": [],
      "source": [
        "get_metadata_routing()"
      ]
    },
    {
      "cell_type": "markdown",
      "id": "0f74e88d",
      "metadata": {
        "id": "0f74e88d"
      },
      "source": [
        "### Initialize and Train the Stacking Classifier\n",
        "\n",
        "Stacking combines multiple models (base learners) using a meta-learner. The meta-learner is trained on the predictions of the base learners to make the final prediction."
      ]
    },
    {
      "cell_type": "code",
      "execution_count": null,
      "id": "c53f148a",
      "metadata": {
        "id": "c53f148a"
      },
      "outputs": [],
      "source": [
        "from sklearn.ensemble import BoostingRegressor\n",
        "\n",
        "from sklearn.ensemble import StackingRegressor\n",
        "\n",
        "final_estimator = BoostingRegressor(\n",
        "\n",
        "    n_estimators=25, subsample=0.5, min_samples_leaf=25, max_features=1,\n",
        "\n",
        "    random_state=42)\n",
        "\n",
        "reg = StackingRegressor(\n",
        "\n",
        "    estimators=estimators,\n",
        "\n",
        "    final_estimator=final_estimator)"
      ]
    },
    {
      "cell_type": "markdown",
      "id": "d24a1137",
      "metadata": {
        "id": "d24a1137"
      },
      "source": [
        "### Evaluate the model performance"
      ]
    },
    {
      "cell_type": "code",
      "execution_count": null,
      "id": "4cd40cf6",
      "metadata": {
        "id": "4cd40cf6"
      },
      "outputs": [],
      "source": [
        "y_pred = reg.predict(X_test)\n",
        "\n",
        "from sklearn.metrics import r2_score"
      ]
    },
    {
      "cell_type": "markdown",
      "id": "4129f6a0",
      "metadata": {
        "id": "4129f6a0"
      },
      "source": [
        "# Notebook Questions:\n",
        "\n",
        "After completing the tasks in this notebook, take some time to reflect on the work you have done and answer the following questions. These questions are designed to help you think critically about the steps you took and the decisions you made.\n",
        "\n",
        "* **Feature Selection and Engineering**\n",
        "   - Which features did you find most important for predicting churn, and why do you think they are significant?\n",
        "   - Did you perform any feature engineering? If so, what new features did you create, and how did they improve the model performance?\n",
        "\n",
        "* **Model Selection**\n",
        "   - Why did you choose the specific ensemble methods you implemented? What are the advantages of using ensemble methods over single models?\n",
        "   - Compare the performance of different models you used. Which model performed the best, and what do you think contributed to its success?\n",
        "\n",
        "* **Model Evaluation**\n",
        "   - Which evaluation metrics did you use to assess the model performance, and why? What insights did these metrics provide about the models' strengths and weaknesses?\n"
      ]
    },
    {
      "cell_type": "markdown",
      "id": "5a4dd465",
      "metadata": {
        "id": "5a4dd465"
      },
      "source": [
        "# Answer here:"
      ]
    },
    {
      "cell_type": "markdown",
      "id": "e3f6bf58",
      "metadata": {
        "id": "e3f6bf58"
      },
      "source": []
    }
  ],
  "metadata": {
    "colab": {
      "provenance": []
    },
    "kernelspec": {
      "display_name": "Python 3",
      "language": "python",
      "name": "python3"
    },
    "language_info": {
      "codemirror_mode": {
        "name": "ipython",
        "version": 3
      },
      "file_extension": ".py",
      "mimetype": "text/x-python",
      "name": "python",
      "nbconvert_exporter": "python",
      "pygments_lexer": "ipython3",
      "version": "3.9.8"
    }
  },
  "nbformat": 4,
  "nbformat_minor": 5
}
